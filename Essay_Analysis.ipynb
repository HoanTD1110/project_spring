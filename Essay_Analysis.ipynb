{
  "nbformat": 4,
  "nbformat_minor": 0,
  "metadata": {
    "colab": {
      "provenance": [],
      "machine_shape": "hm",
      "toc_visible": true
    },
    "kernelspec": {
      "name": "python3",
      "display_name": "Python 3"
    },
    "language_info": {
      "name": "python"
    },
    "accelerator": "GPU",
    "widgets": {
      "application/vnd.jupyter.widget-state+json": {
        "0912f6726711471387a9747ae907db68": {
          "model_module": "@jupyter-widgets/controls",
          "model_name": "HBoxModel",
          "model_module_version": "1.5.0",
          "state": {
            "_dom_classes": [],
            "_model_module": "@jupyter-widgets/controls",
            "_model_module_version": "1.5.0",
            "_model_name": "HBoxModel",
            "_view_count": null,
            "_view_module": "@jupyter-widgets/controls",
            "_view_module_version": "1.5.0",
            "_view_name": "HBoxView",
            "box_style": "",
            "children": [
              "IPY_MODEL_127b827ac573449bb6db5fec3d80792a",
              "IPY_MODEL_ae02cc34043e4aa5984595238c3b48e2",
              "IPY_MODEL_9cbc2b694c604bc1877f70f6affcec58"
            ],
            "layout": "IPY_MODEL_bc6b3e32bfac40ef8a70353b8b784711"
          }
        },
        "127b827ac573449bb6db5fec3d80792a": {
          "model_module": "@jupyter-widgets/controls",
          "model_name": "HTMLModel",
          "model_module_version": "1.5.0",
          "state": {
            "_dom_classes": [],
            "_model_module": "@jupyter-widgets/controls",
            "_model_module_version": "1.5.0",
            "_model_name": "HTMLModel",
            "_view_count": null,
            "_view_module": "@jupyter-widgets/controls",
            "_view_module_version": "1.5.0",
            "_view_name": "HTMLView",
            "description": "",
            "description_tooltip": null,
            "layout": "IPY_MODEL_496721608a1c494380922871243c124b",
            "placeholder": "​",
            "style": "IPY_MODEL_7e013a47082c44c88e5ad4e98dfaa13d",
            "value": "Downloading (…)okenizer_config.json: 100%"
          }
        },
        "ae02cc34043e4aa5984595238c3b48e2": {
          "model_module": "@jupyter-widgets/controls",
          "model_name": "FloatProgressModel",
          "model_module_version": "1.5.0",
          "state": {
            "_dom_classes": [],
            "_model_module": "@jupyter-widgets/controls",
            "_model_module_version": "1.5.0",
            "_model_name": "FloatProgressModel",
            "_view_count": null,
            "_view_module": "@jupyter-widgets/controls",
            "_view_module_version": "1.5.0",
            "_view_name": "ProgressView",
            "bar_style": "success",
            "description": "",
            "description_tooltip": null,
            "layout": "IPY_MODEL_8bed7382951d4ad4a57ed49500dd8819",
            "max": 25,
            "min": 0,
            "orientation": "horizontal",
            "style": "IPY_MODEL_140fb280c54d4a3da1153b0a199d3401",
            "value": 25
          }
        },
        "9cbc2b694c604bc1877f70f6affcec58": {
          "model_module": "@jupyter-widgets/controls",
          "model_name": "HTMLModel",
          "model_module_version": "1.5.0",
          "state": {
            "_dom_classes": [],
            "_model_module": "@jupyter-widgets/controls",
            "_model_module_version": "1.5.0",
            "_model_name": "HTMLModel",
            "_view_count": null,
            "_view_module": "@jupyter-widgets/controls",
            "_view_module_version": "1.5.0",
            "_view_name": "HTMLView",
            "description": "",
            "description_tooltip": null,
            "layout": "IPY_MODEL_107e30752db64aa3813a79224c976292",
            "placeholder": "​",
            "style": "IPY_MODEL_591287ccdede4fc2b13908b9f7401533",
            "value": " 25.0/25.0 [00:00&lt;00:00, 691B/s]"
          }
        },
        "bc6b3e32bfac40ef8a70353b8b784711": {
          "model_module": "@jupyter-widgets/base",
          "model_name": "LayoutModel",
          "model_module_version": "1.2.0",
          "state": {
            "_model_module": "@jupyter-widgets/base",
            "_model_module_version": "1.2.0",
            "_model_name": "LayoutModel",
            "_view_count": null,
            "_view_module": "@jupyter-widgets/base",
            "_view_module_version": "1.2.0",
            "_view_name": "LayoutView",
            "align_content": null,
            "align_items": null,
            "align_self": null,
            "border": null,
            "bottom": null,
            "display": null,
            "flex": null,
            "flex_flow": null,
            "grid_area": null,
            "grid_auto_columns": null,
            "grid_auto_flow": null,
            "grid_auto_rows": null,
            "grid_column": null,
            "grid_gap": null,
            "grid_row": null,
            "grid_template_areas": null,
            "grid_template_columns": null,
            "grid_template_rows": null,
            "height": null,
            "justify_content": null,
            "justify_items": null,
            "left": null,
            "margin": null,
            "max_height": null,
            "max_width": null,
            "min_height": null,
            "min_width": null,
            "object_fit": null,
            "object_position": null,
            "order": null,
            "overflow": null,
            "overflow_x": null,
            "overflow_y": null,
            "padding": null,
            "right": null,
            "top": null,
            "visibility": null,
            "width": null
          }
        },
        "496721608a1c494380922871243c124b": {
          "model_module": "@jupyter-widgets/base",
          "model_name": "LayoutModel",
          "model_module_version": "1.2.0",
          "state": {
            "_model_module": "@jupyter-widgets/base",
            "_model_module_version": "1.2.0",
            "_model_name": "LayoutModel",
            "_view_count": null,
            "_view_module": "@jupyter-widgets/base",
            "_view_module_version": "1.2.0",
            "_view_name": "LayoutView",
            "align_content": null,
            "align_items": null,
            "align_self": null,
            "border": null,
            "bottom": null,
            "display": null,
            "flex": null,
            "flex_flow": null,
            "grid_area": null,
            "grid_auto_columns": null,
            "grid_auto_flow": null,
            "grid_auto_rows": null,
            "grid_column": null,
            "grid_gap": null,
            "grid_row": null,
            "grid_template_areas": null,
            "grid_template_columns": null,
            "grid_template_rows": null,
            "height": null,
            "justify_content": null,
            "justify_items": null,
            "left": null,
            "margin": null,
            "max_height": null,
            "max_width": null,
            "min_height": null,
            "min_width": null,
            "object_fit": null,
            "object_position": null,
            "order": null,
            "overflow": null,
            "overflow_x": null,
            "overflow_y": null,
            "padding": null,
            "right": null,
            "top": null,
            "visibility": null,
            "width": null
          }
        },
        "7e013a47082c44c88e5ad4e98dfaa13d": {
          "model_module": "@jupyter-widgets/controls",
          "model_name": "DescriptionStyleModel",
          "model_module_version": "1.5.0",
          "state": {
            "_model_module": "@jupyter-widgets/controls",
            "_model_module_version": "1.5.0",
            "_model_name": "DescriptionStyleModel",
            "_view_count": null,
            "_view_module": "@jupyter-widgets/base",
            "_view_module_version": "1.2.0",
            "_view_name": "StyleView",
            "description_width": ""
          }
        },
        "8bed7382951d4ad4a57ed49500dd8819": {
          "model_module": "@jupyter-widgets/base",
          "model_name": "LayoutModel",
          "model_module_version": "1.2.0",
          "state": {
            "_model_module": "@jupyter-widgets/base",
            "_model_module_version": "1.2.0",
            "_model_name": "LayoutModel",
            "_view_count": null,
            "_view_module": "@jupyter-widgets/base",
            "_view_module_version": "1.2.0",
            "_view_name": "LayoutView",
            "align_content": null,
            "align_items": null,
            "align_self": null,
            "border": null,
            "bottom": null,
            "display": null,
            "flex": null,
            "flex_flow": null,
            "grid_area": null,
            "grid_auto_columns": null,
            "grid_auto_flow": null,
            "grid_auto_rows": null,
            "grid_column": null,
            "grid_gap": null,
            "grid_row": null,
            "grid_template_areas": null,
            "grid_template_columns": null,
            "grid_template_rows": null,
            "height": null,
            "justify_content": null,
            "justify_items": null,
            "left": null,
            "margin": null,
            "max_height": null,
            "max_width": null,
            "min_height": null,
            "min_width": null,
            "object_fit": null,
            "object_position": null,
            "order": null,
            "overflow": null,
            "overflow_x": null,
            "overflow_y": null,
            "padding": null,
            "right": null,
            "top": null,
            "visibility": null,
            "width": null
          }
        },
        "140fb280c54d4a3da1153b0a199d3401": {
          "model_module": "@jupyter-widgets/controls",
          "model_name": "ProgressStyleModel",
          "model_module_version": "1.5.0",
          "state": {
            "_model_module": "@jupyter-widgets/controls",
            "_model_module_version": "1.5.0",
            "_model_name": "ProgressStyleModel",
            "_view_count": null,
            "_view_module": "@jupyter-widgets/base",
            "_view_module_version": "1.2.0",
            "_view_name": "StyleView",
            "bar_color": null,
            "description_width": ""
          }
        },
        "107e30752db64aa3813a79224c976292": {
          "model_module": "@jupyter-widgets/base",
          "model_name": "LayoutModel",
          "model_module_version": "1.2.0",
          "state": {
            "_model_module": "@jupyter-widgets/base",
            "_model_module_version": "1.2.0",
            "_model_name": "LayoutModel",
            "_view_count": null,
            "_view_module": "@jupyter-widgets/base",
            "_view_module_version": "1.2.0",
            "_view_name": "LayoutView",
            "align_content": null,
            "align_items": null,
            "align_self": null,
            "border": null,
            "bottom": null,
            "display": null,
            "flex": null,
            "flex_flow": null,
            "grid_area": null,
            "grid_auto_columns": null,
            "grid_auto_flow": null,
            "grid_auto_rows": null,
            "grid_column": null,
            "grid_gap": null,
            "grid_row": null,
            "grid_template_areas": null,
            "grid_template_columns": null,
            "grid_template_rows": null,
            "height": null,
            "justify_content": null,
            "justify_items": null,
            "left": null,
            "margin": null,
            "max_height": null,
            "max_width": null,
            "min_height": null,
            "min_width": null,
            "object_fit": null,
            "object_position": null,
            "order": null,
            "overflow": null,
            "overflow_x": null,
            "overflow_y": null,
            "padding": null,
            "right": null,
            "top": null,
            "visibility": null,
            "width": null
          }
        },
        "591287ccdede4fc2b13908b9f7401533": {
          "model_module": "@jupyter-widgets/controls",
          "model_name": "DescriptionStyleModel",
          "model_module_version": "1.5.0",
          "state": {
            "_model_module": "@jupyter-widgets/controls",
            "_model_module_version": "1.5.0",
            "_model_name": "DescriptionStyleModel",
            "_view_count": null,
            "_view_module": "@jupyter-widgets/base",
            "_view_module_version": "1.2.0",
            "_view_name": "StyleView",
            "description_width": ""
          }
        },
        "d5b34aa66424431e8c627737cf7899db": {
          "model_module": "@jupyter-widgets/controls",
          "model_name": "HBoxModel",
          "model_module_version": "1.5.0",
          "state": {
            "_dom_classes": [],
            "_model_module": "@jupyter-widgets/controls",
            "_model_module_version": "1.5.0",
            "_model_name": "HBoxModel",
            "_view_count": null,
            "_view_module": "@jupyter-widgets/controls",
            "_view_module_version": "1.5.0",
            "_view_name": "HBoxView",
            "box_style": "",
            "children": [
              "IPY_MODEL_bd1522b99061472fa527a65ef856f5f4",
              "IPY_MODEL_b1456a2468764a369984730a6bd5c0d3",
              "IPY_MODEL_b9b97d29ea84479ba29e4962688a6917"
            ],
            "layout": "IPY_MODEL_4bcacd0b1a4940f9915288da81a38021"
          }
        },
        "bd1522b99061472fa527a65ef856f5f4": {
          "model_module": "@jupyter-widgets/controls",
          "model_name": "HTMLModel",
          "model_module_version": "1.5.0",
          "state": {
            "_dom_classes": [],
            "_model_module": "@jupyter-widgets/controls",
            "_model_module_version": "1.5.0",
            "_model_name": "HTMLModel",
            "_view_count": null,
            "_view_module": "@jupyter-widgets/controls",
            "_view_module_version": "1.5.0",
            "_view_name": "HTMLView",
            "description": "",
            "description_tooltip": null,
            "layout": "IPY_MODEL_38364ab27f40497db18979f70314d062",
            "placeholder": "​",
            "style": "IPY_MODEL_14ea851eb14d4dc1a527a3c2214a70d9",
            "value": "Downloading (…)lve/main/config.json: 100%"
          }
        },
        "b1456a2468764a369984730a6bd5c0d3": {
          "model_module": "@jupyter-widgets/controls",
          "model_name": "FloatProgressModel",
          "model_module_version": "1.5.0",
          "state": {
            "_dom_classes": [],
            "_model_module": "@jupyter-widgets/controls",
            "_model_module_version": "1.5.0",
            "_model_name": "FloatProgressModel",
            "_view_count": null,
            "_view_module": "@jupyter-widgets/controls",
            "_view_module_version": "1.5.0",
            "_view_name": "ProgressView",
            "bar_style": "success",
            "description": "",
            "description_tooltip": null,
            "layout": "IPY_MODEL_a38bf44fd98644af9265e3641e1a2df9",
            "max": 564,
            "min": 0,
            "orientation": "horizontal",
            "style": "IPY_MODEL_134cacec1c1c421191ae91909b584962",
            "value": 564
          }
        },
        "b9b97d29ea84479ba29e4962688a6917": {
          "model_module": "@jupyter-widgets/controls",
          "model_name": "HTMLModel",
          "model_module_version": "1.5.0",
          "state": {
            "_dom_classes": [],
            "_model_module": "@jupyter-widgets/controls",
            "_model_module_version": "1.5.0",
            "_model_name": "HTMLModel",
            "_view_count": null,
            "_view_module": "@jupyter-widgets/controls",
            "_view_module_version": "1.5.0",
            "_view_name": "HTMLView",
            "description": "",
            "description_tooltip": null,
            "layout": "IPY_MODEL_9228d243cde3423db211ed146ea190fd",
            "placeholder": "​",
            "style": "IPY_MODEL_0a0c705d6726450d9b21c2aee65313a4",
            "value": " 564/564 [00:00&lt;00:00, 11.6kB/s]"
          }
        },
        "4bcacd0b1a4940f9915288da81a38021": {
          "model_module": "@jupyter-widgets/base",
          "model_name": "LayoutModel",
          "model_module_version": "1.2.0",
          "state": {
            "_model_module": "@jupyter-widgets/base",
            "_model_module_version": "1.2.0",
            "_model_name": "LayoutModel",
            "_view_count": null,
            "_view_module": "@jupyter-widgets/base",
            "_view_module_version": "1.2.0",
            "_view_name": "LayoutView",
            "align_content": null,
            "align_items": null,
            "align_self": null,
            "border": null,
            "bottom": null,
            "display": null,
            "flex": null,
            "flex_flow": null,
            "grid_area": null,
            "grid_auto_columns": null,
            "grid_auto_flow": null,
            "grid_auto_rows": null,
            "grid_column": null,
            "grid_gap": null,
            "grid_row": null,
            "grid_template_areas": null,
            "grid_template_columns": null,
            "grid_template_rows": null,
            "height": null,
            "justify_content": null,
            "justify_items": null,
            "left": null,
            "margin": null,
            "max_height": null,
            "max_width": null,
            "min_height": null,
            "min_width": null,
            "object_fit": null,
            "object_position": null,
            "order": null,
            "overflow": null,
            "overflow_x": null,
            "overflow_y": null,
            "padding": null,
            "right": null,
            "top": null,
            "visibility": null,
            "width": null
          }
        },
        "38364ab27f40497db18979f70314d062": {
          "model_module": "@jupyter-widgets/base",
          "model_name": "LayoutModel",
          "model_module_version": "1.2.0",
          "state": {
            "_model_module": "@jupyter-widgets/base",
            "_model_module_version": "1.2.0",
            "_model_name": "LayoutModel",
            "_view_count": null,
            "_view_module": "@jupyter-widgets/base",
            "_view_module_version": "1.2.0",
            "_view_name": "LayoutView",
            "align_content": null,
            "align_items": null,
            "align_self": null,
            "border": null,
            "bottom": null,
            "display": null,
            "flex": null,
            "flex_flow": null,
            "grid_area": null,
            "grid_auto_columns": null,
            "grid_auto_flow": null,
            "grid_auto_rows": null,
            "grid_column": null,
            "grid_gap": null,
            "grid_row": null,
            "grid_template_areas": null,
            "grid_template_columns": null,
            "grid_template_rows": null,
            "height": null,
            "justify_content": null,
            "justify_items": null,
            "left": null,
            "margin": null,
            "max_height": null,
            "max_width": null,
            "min_height": null,
            "min_width": null,
            "object_fit": null,
            "object_position": null,
            "order": null,
            "overflow": null,
            "overflow_x": null,
            "overflow_y": null,
            "padding": null,
            "right": null,
            "top": null,
            "visibility": null,
            "width": null
          }
        },
        "14ea851eb14d4dc1a527a3c2214a70d9": {
          "model_module": "@jupyter-widgets/controls",
          "model_name": "DescriptionStyleModel",
          "model_module_version": "1.5.0",
          "state": {
            "_model_module": "@jupyter-widgets/controls",
            "_model_module_version": "1.5.0",
            "_model_name": "DescriptionStyleModel",
            "_view_count": null,
            "_view_module": "@jupyter-widgets/base",
            "_view_module_version": "1.2.0",
            "_view_name": "StyleView",
            "description_width": ""
          }
        },
        "a38bf44fd98644af9265e3641e1a2df9": {
          "model_module": "@jupyter-widgets/base",
          "model_name": "LayoutModel",
          "model_module_version": "1.2.0",
          "state": {
            "_model_module": "@jupyter-widgets/base",
            "_model_module_version": "1.2.0",
            "_model_name": "LayoutModel",
            "_view_count": null,
            "_view_module": "@jupyter-widgets/base",
            "_view_module_version": "1.2.0",
            "_view_name": "LayoutView",
            "align_content": null,
            "align_items": null,
            "align_self": null,
            "border": null,
            "bottom": null,
            "display": null,
            "flex": null,
            "flex_flow": null,
            "grid_area": null,
            "grid_auto_columns": null,
            "grid_auto_flow": null,
            "grid_auto_rows": null,
            "grid_column": null,
            "grid_gap": null,
            "grid_row": null,
            "grid_template_areas": null,
            "grid_template_columns": null,
            "grid_template_rows": null,
            "height": null,
            "justify_content": null,
            "justify_items": null,
            "left": null,
            "margin": null,
            "max_height": null,
            "max_width": null,
            "min_height": null,
            "min_width": null,
            "object_fit": null,
            "object_position": null,
            "order": null,
            "overflow": null,
            "overflow_x": null,
            "overflow_y": null,
            "padding": null,
            "right": null,
            "top": null,
            "visibility": null,
            "width": null
          }
        },
        "134cacec1c1c421191ae91909b584962": {
          "model_module": "@jupyter-widgets/controls",
          "model_name": "ProgressStyleModel",
          "model_module_version": "1.5.0",
          "state": {
            "_model_module": "@jupyter-widgets/controls",
            "_model_module_version": "1.5.0",
            "_model_name": "ProgressStyleModel",
            "_view_count": null,
            "_view_module": "@jupyter-widgets/base",
            "_view_module_version": "1.2.0",
            "_view_name": "StyleView",
            "bar_color": null,
            "description_width": ""
          }
        },
        "9228d243cde3423db211ed146ea190fd": {
          "model_module": "@jupyter-widgets/base",
          "model_name": "LayoutModel",
          "model_module_version": "1.2.0",
          "state": {
            "_model_module": "@jupyter-widgets/base",
            "_model_module_version": "1.2.0",
            "_model_name": "LayoutModel",
            "_view_count": null,
            "_view_module": "@jupyter-widgets/base",
            "_view_module_version": "1.2.0",
            "_view_name": "LayoutView",
            "align_content": null,
            "align_items": null,
            "align_self": null,
            "border": null,
            "bottom": null,
            "display": null,
            "flex": null,
            "flex_flow": null,
            "grid_area": null,
            "grid_auto_columns": null,
            "grid_auto_flow": null,
            "grid_auto_rows": null,
            "grid_column": null,
            "grid_gap": null,
            "grid_row": null,
            "grid_template_areas": null,
            "grid_template_columns": null,
            "grid_template_rows": null,
            "height": null,
            "justify_content": null,
            "justify_items": null,
            "left": null,
            "margin": null,
            "max_height": null,
            "max_width": null,
            "min_height": null,
            "min_width": null,
            "object_fit": null,
            "object_position": null,
            "order": null,
            "overflow": null,
            "overflow_x": null,
            "overflow_y": null,
            "padding": null,
            "right": null,
            "top": null,
            "visibility": null,
            "width": null
          }
        },
        "0a0c705d6726450d9b21c2aee65313a4": {
          "model_module": "@jupyter-widgets/controls",
          "model_name": "DescriptionStyleModel",
          "model_module_version": "1.5.0",
          "state": {
            "_model_module": "@jupyter-widgets/controls",
            "_model_module_version": "1.5.0",
            "_model_name": "DescriptionStyleModel",
            "_view_count": null,
            "_view_module": "@jupyter-widgets/base",
            "_view_module_version": "1.2.0",
            "_view_name": "StyleView",
            "description_width": ""
          }
        },
        "ae597bf995584c08801a7ea6623df8ea": {
          "model_module": "@jupyter-widgets/controls",
          "model_name": "HBoxModel",
          "model_module_version": "1.5.0",
          "state": {
            "_dom_classes": [],
            "_model_module": "@jupyter-widgets/controls",
            "_model_module_version": "1.5.0",
            "_model_name": "HBoxModel",
            "_view_count": null,
            "_view_module": "@jupyter-widgets/controls",
            "_view_module_version": "1.5.0",
            "_view_name": "HBoxView",
            "box_style": "",
            "children": [
              "IPY_MODEL_76a15cbaafd84cad8d6c42b8c0fb5ebb",
              "IPY_MODEL_f4d9cb341812445ab56cc63ca422141b",
              "IPY_MODEL_2f0f4e7002a34532b81659b1039edad3"
            ],
            "layout": "IPY_MODEL_a1a6602d401a4d2faac38d5297db56bd"
          }
        },
        "76a15cbaafd84cad8d6c42b8c0fb5ebb": {
          "model_module": "@jupyter-widgets/controls",
          "model_name": "HTMLModel",
          "model_module_version": "1.5.0",
          "state": {
            "_dom_classes": [],
            "_model_module": "@jupyter-widgets/controls",
            "_model_module_version": "1.5.0",
            "_model_name": "HTMLModel",
            "_view_count": null,
            "_view_module": "@jupyter-widgets/controls",
            "_view_module_version": "1.5.0",
            "_view_name": "HTMLView",
            "description": "",
            "description_tooltip": null,
            "layout": "IPY_MODEL_b15cb210bd2c43ffbe67487178840614",
            "placeholder": "​",
            "style": "IPY_MODEL_c82a7029a1d94345a11eebf34c3d417e",
            "value": "Downloading (…)olve/main/vocab.json: 100%"
          }
        },
        "f4d9cb341812445ab56cc63ca422141b": {
          "model_module": "@jupyter-widgets/controls",
          "model_name": "FloatProgressModel",
          "model_module_version": "1.5.0",
          "state": {
            "_dom_classes": [],
            "_model_module": "@jupyter-widgets/controls",
            "_model_module_version": "1.5.0",
            "_model_name": "FloatProgressModel",
            "_view_count": null,
            "_view_module": "@jupyter-widgets/controls",
            "_view_module_version": "1.5.0",
            "_view_name": "ProgressView",
            "bar_style": "success",
            "description": "",
            "description_tooltip": null,
            "layout": "IPY_MODEL_c785af0ef66b42808e9baf34e7d3b7db",
            "max": 798293,
            "min": 0,
            "orientation": "horizontal",
            "style": "IPY_MODEL_67aa2922728f4c5f9e9e106e1d19a03a",
            "value": 798293
          }
        },
        "2f0f4e7002a34532b81659b1039edad3": {
          "model_module": "@jupyter-widgets/controls",
          "model_name": "HTMLModel",
          "model_module_version": "1.5.0",
          "state": {
            "_dom_classes": [],
            "_model_module": "@jupyter-widgets/controls",
            "_model_module_version": "1.5.0",
            "_model_name": "HTMLModel",
            "_view_count": null,
            "_view_module": "@jupyter-widgets/controls",
            "_view_module_version": "1.5.0",
            "_view_name": "HTMLView",
            "description": "",
            "description_tooltip": null,
            "layout": "IPY_MODEL_7f6edcbaf34a440f80c1fb9983e70e45",
            "placeholder": "​",
            "style": "IPY_MODEL_7bf42ab4e80f4ca2a9d8a04e6e1a16b3",
            "value": " 798k/798k [00:01&lt;00:00, 703kB/s]"
          }
        },
        "a1a6602d401a4d2faac38d5297db56bd": {
          "model_module": "@jupyter-widgets/base",
          "model_name": "LayoutModel",
          "model_module_version": "1.2.0",
          "state": {
            "_model_module": "@jupyter-widgets/base",
            "_model_module_version": "1.2.0",
            "_model_name": "LayoutModel",
            "_view_count": null,
            "_view_module": "@jupyter-widgets/base",
            "_view_module_version": "1.2.0",
            "_view_name": "LayoutView",
            "align_content": null,
            "align_items": null,
            "align_self": null,
            "border": null,
            "bottom": null,
            "display": null,
            "flex": null,
            "flex_flow": null,
            "grid_area": null,
            "grid_auto_columns": null,
            "grid_auto_flow": null,
            "grid_auto_rows": null,
            "grid_column": null,
            "grid_gap": null,
            "grid_row": null,
            "grid_template_areas": null,
            "grid_template_columns": null,
            "grid_template_rows": null,
            "height": null,
            "justify_content": null,
            "justify_items": null,
            "left": null,
            "margin": null,
            "max_height": null,
            "max_width": null,
            "min_height": null,
            "min_width": null,
            "object_fit": null,
            "object_position": null,
            "order": null,
            "overflow": null,
            "overflow_x": null,
            "overflow_y": null,
            "padding": null,
            "right": null,
            "top": null,
            "visibility": null,
            "width": null
          }
        },
        "b15cb210bd2c43ffbe67487178840614": {
          "model_module": "@jupyter-widgets/base",
          "model_name": "LayoutModel",
          "model_module_version": "1.2.0",
          "state": {
            "_model_module": "@jupyter-widgets/base",
            "_model_module_version": "1.2.0",
            "_model_name": "LayoutModel",
            "_view_count": null,
            "_view_module": "@jupyter-widgets/base",
            "_view_module_version": "1.2.0",
            "_view_name": "LayoutView",
            "align_content": null,
            "align_items": null,
            "align_self": null,
            "border": null,
            "bottom": null,
            "display": null,
            "flex": null,
            "flex_flow": null,
            "grid_area": null,
            "grid_auto_columns": null,
            "grid_auto_flow": null,
            "grid_auto_rows": null,
            "grid_column": null,
            "grid_gap": null,
            "grid_row": null,
            "grid_template_areas": null,
            "grid_template_columns": null,
            "grid_template_rows": null,
            "height": null,
            "justify_content": null,
            "justify_items": null,
            "left": null,
            "margin": null,
            "max_height": null,
            "max_width": null,
            "min_height": null,
            "min_width": null,
            "object_fit": null,
            "object_position": null,
            "order": null,
            "overflow": null,
            "overflow_x": null,
            "overflow_y": null,
            "padding": null,
            "right": null,
            "top": null,
            "visibility": null,
            "width": null
          }
        },
        "c82a7029a1d94345a11eebf34c3d417e": {
          "model_module": "@jupyter-widgets/controls",
          "model_name": "DescriptionStyleModel",
          "model_module_version": "1.5.0",
          "state": {
            "_model_module": "@jupyter-widgets/controls",
            "_model_module_version": "1.5.0",
            "_model_name": "DescriptionStyleModel",
            "_view_count": null,
            "_view_module": "@jupyter-widgets/base",
            "_view_module_version": "1.2.0",
            "_view_name": "StyleView",
            "description_width": ""
          }
        },
        "c785af0ef66b42808e9baf34e7d3b7db": {
          "model_module": "@jupyter-widgets/base",
          "model_name": "LayoutModel",
          "model_module_version": "1.2.0",
          "state": {
            "_model_module": "@jupyter-widgets/base",
            "_model_module_version": "1.2.0",
            "_model_name": "LayoutModel",
            "_view_count": null,
            "_view_module": "@jupyter-widgets/base",
            "_view_module_version": "1.2.0",
            "_view_name": "LayoutView",
            "align_content": null,
            "align_items": null,
            "align_self": null,
            "border": null,
            "bottom": null,
            "display": null,
            "flex": null,
            "flex_flow": null,
            "grid_area": null,
            "grid_auto_columns": null,
            "grid_auto_flow": null,
            "grid_auto_rows": null,
            "grid_column": null,
            "grid_gap": null,
            "grid_row": null,
            "grid_template_areas": null,
            "grid_template_columns": null,
            "grid_template_rows": null,
            "height": null,
            "justify_content": null,
            "justify_items": null,
            "left": null,
            "margin": null,
            "max_height": null,
            "max_width": null,
            "min_height": null,
            "min_width": null,
            "object_fit": null,
            "object_position": null,
            "order": null,
            "overflow": null,
            "overflow_x": null,
            "overflow_y": null,
            "padding": null,
            "right": null,
            "top": null,
            "visibility": null,
            "width": null
          }
        },
        "67aa2922728f4c5f9e9e106e1d19a03a": {
          "model_module": "@jupyter-widgets/controls",
          "model_name": "ProgressStyleModel",
          "model_module_version": "1.5.0",
          "state": {
            "_model_module": "@jupyter-widgets/controls",
            "_model_module_version": "1.5.0",
            "_model_name": "ProgressStyleModel",
            "_view_count": null,
            "_view_module": "@jupyter-widgets/base",
            "_view_module_version": "1.2.0",
            "_view_name": "StyleView",
            "bar_color": null,
            "description_width": ""
          }
        },
        "7f6edcbaf34a440f80c1fb9983e70e45": {
          "model_module": "@jupyter-widgets/base",
          "model_name": "LayoutModel",
          "model_module_version": "1.2.0",
          "state": {
            "_model_module": "@jupyter-widgets/base",
            "_model_module_version": "1.2.0",
            "_model_name": "LayoutModel",
            "_view_count": null,
            "_view_module": "@jupyter-widgets/base",
            "_view_module_version": "1.2.0",
            "_view_name": "LayoutView",
            "align_content": null,
            "align_items": null,
            "align_self": null,
            "border": null,
            "bottom": null,
            "display": null,
            "flex": null,
            "flex_flow": null,
            "grid_area": null,
            "grid_auto_columns": null,
            "grid_auto_flow": null,
            "grid_auto_rows": null,
            "grid_column": null,
            "grid_gap": null,
            "grid_row": null,
            "grid_template_areas": null,
            "grid_template_columns": null,
            "grid_template_rows": null,
            "height": null,
            "justify_content": null,
            "justify_items": null,
            "left": null,
            "margin": null,
            "max_height": null,
            "max_width": null,
            "min_height": null,
            "min_width": null,
            "object_fit": null,
            "object_position": null,
            "order": null,
            "overflow": null,
            "overflow_x": null,
            "overflow_y": null,
            "padding": null,
            "right": null,
            "top": null,
            "visibility": null,
            "width": null
          }
        },
        "7bf42ab4e80f4ca2a9d8a04e6e1a16b3": {
          "model_module": "@jupyter-widgets/controls",
          "model_name": "DescriptionStyleModel",
          "model_module_version": "1.5.0",
          "state": {
            "_model_module": "@jupyter-widgets/controls",
            "_model_module_version": "1.5.0",
            "_model_name": "DescriptionStyleModel",
            "_view_count": null,
            "_view_module": "@jupyter-widgets/base",
            "_view_module_version": "1.2.0",
            "_view_name": "StyleView",
            "description_width": ""
          }
        },
        "6108267777b54a818eef6b3b36c81bdc": {
          "model_module": "@jupyter-widgets/controls",
          "model_name": "HBoxModel",
          "model_module_version": "1.5.0",
          "state": {
            "_dom_classes": [],
            "_model_module": "@jupyter-widgets/controls",
            "_model_module_version": "1.5.0",
            "_model_name": "HBoxModel",
            "_view_count": null,
            "_view_module": "@jupyter-widgets/controls",
            "_view_module_version": "1.5.0",
            "_view_name": "HBoxView",
            "box_style": "",
            "children": [
              "IPY_MODEL_1f6bd7829fb6410595014ba664a9a765",
              "IPY_MODEL_5db5fc4db7ff4a8ea1e2d05e3bd2795b",
              "IPY_MODEL_28bf565c4adf4d569f13c253be446980"
            ],
            "layout": "IPY_MODEL_fc656ce71dcb43cea13269628061e7ad"
          }
        },
        "1f6bd7829fb6410595014ba664a9a765": {
          "model_module": "@jupyter-widgets/controls",
          "model_name": "HTMLModel",
          "model_module_version": "1.5.0",
          "state": {
            "_dom_classes": [],
            "_model_module": "@jupyter-widgets/controls",
            "_model_module_version": "1.5.0",
            "_model_name": "HTMLModel",
            "_view_count": null,
            "_view_module": "@jupyter-widgets/controls",
            "_view_module_version": "1.5.0",
            "_view_name": "HTMLView",
            "description": "",
            "description_tooltip": null,
            "layout": "IPY_MODEL_99df9abf45b1463799c2aad826388862",
            "placeholder": "​",
            "style": "IPY_MODEL_6ee47af0121b461882cf6c36f43ed1ea",
            "value": "Downloading (…)olve/main/merges.txt: 100%"
          }
        },
        "5db5fc4db7ff4a8ea1e2d05e3bd2795b": {
          "model_module": "@jupyter-widgets/controls",
          "model_name": "FloatProgressModel",
          "model_module_version": "1.5.0",
          "state": {
            "_dom_classes": [],
            "_model_module": "@jupyter-widgets/controls",
            "_model_module_version": "1.5.0",
            "_model_name": "FloatProgressModel",
            "_view_count": null,
            "_view_module": "@jupyter-widgets/controls",
            "_view_module_version": "1.5.0",
            "_view_name": "ProgressView",
            "bar_style": "success",
            "description": "",
            "description_tooltip": null,
            "layout": "IPY_MODEL_1bd73095a0354f629d36b50bcf29ba6a",
            "max": 456356,
            "min": 0,
            "orientation": "horizontal",
            "style": "IPY_MODEL_a8e44ed21feb4bf288237e80a949f7dc",
            "value": 456356
          }
        },
        "28bf565c4adf4d569f13c253be446980": {
          "model_module": "@jupyter-widgets/controls",
          "model_name": "HTMLModel",
          "model_module_version": "1.5.0",
          "state": {
            "_dom_classes": [],
            "_model_module": "@jupyter-widgets/controls",
            "_model_module_version": "1.5.0",
            "_model_name": "HTMLModel",
            "_view_count": null,
            "_view_module": "@jupyter-widgets/controls",
            "_view_module_version": "1.5.0",
            "_view_name": "HTMLView",
            "description": "",
            "description_tooltip": null,
            "layout": "IPY_MODEL_40045701291744b3a47b338dba502f06",
            "placeholder": "​",
            "style": "IPY_MODEL_bd8987013f664765bf4568b39713fe2d",
            "value": " 456k/456k [00:00&lt;00:00, 512kB/s]"
          }
        },
        "fc656ce71dcb43cea13269628061e7ad": {
          "model_module": "@jupyter-widgets/base",
          "model_name": "LayoutModel",
          "model_module_version": "1.2.0",
          "state": {
            "_model_module": "@jupyter-widgets/base",
            "_model_module_version": "1.2.0",
            "_model_name": "LayoutModel",
            "_view_count": null,
            "_view_module": "@jupyter-widgets/base",
            "_view_module_version": "1.2.0",
            "_view_name": "LayoutView",
            "align_content": null,
            "align_items": null,
            "align_self": null,
            "border": null,
            "bottom": null,
            "display": null,
            "flex": null,
            "flex_flow": null,
            "grid_area": null,
            "grid_auto_columns": null,
            "grid_auto_flow": null,
            "grid_auto_rows": null,
            "grid_column": null,
            "grid_gap": null,
            "grid_row": null,
            "grid_template_areas": null,
            "grid_template_columns": null,
            "grid_template_rows": null,
            "height": null,
            "justify_content": null,
            "justify_items": null,
            "left": null,
            "margin": null,
            "max_height": null,
            "max_width": null,
            "min_height": null,
            "min_width": null,
            "object_fit": null,
            "object_position": null,
            "order": null,
            "overflow": null,
            "overflow_x": null,
            "overflow_y": null,
            "padding": null,
            "right": null,
            "top": null,
            "visibility": null,
            "width": null
          }
        },
        "99df9abf45b1463799c2aad826388862": {
          "model_module": "@jupyter-widgets/base",
          "model_name": "LayoutModel",
          "model_module_version": "1.2.0",
          "state": {
            "_model_module": "@jupyter-widgets/base",
            "_model_module_version": "1.2.0",
            "_model_name": "LayoutModel",
            "_view_count": null,
            "_view_module": "@jupyter-widgets/base",
            "_view_module_version": "1.2.0",
            "_view_name": "LayoutView",
            "align_content": null,
            "align_items": null,
            "align_self": null,
            "border": null,
            "bottom": null,
            "display": null,
            "flex": null,
            "flex_flow": null,
            "grid_area": null,
            "grid_auto_columns": null,
            "grid_auto_flow": null,
            "grid_auto_rows": null,
            "grid_column": null,
            "grid_gap": null,
            "grid_row": null,
            "grid_template_areas": null,
            "grid_template_columns": null,
            "grid_template_rows": null,
            "height": null,
            "justify_content": null,
            "justify_items": null,
            "left": null,
            "margin": null,
            "max_height": null,
            "max_width": null,
            "min_height": null,
            "min_width": null,
            "object_fit": null,
            "object_position": null,
            "order": null,
            "overflow": null,
            "overflow_x": null,
            "overflow_y": null,
            "padding": null,
            "right": null,
            "top": null,
            "visibility": null,
            "width": null
          }
        },
        "6ee47af0121b461882cf6c36f43ed1ea": {
          "model_module": "@jupyter-widgets/controls",
          "model_name": "DescriptionStyleModel",
          "model_module_version": "1.5.0",
          "state": {
            "_model_module": "@jupyter-widgets/controls",
            "_model_module_version": "1.5.0",
            "_model_name": "DescriptionStyleModel",
            "_view_count": null,
            "_view_module": "@jupyter-widgets/base",
            "_view_module_version": "1.2.0",
            "_view_name": "StyleView",
            "description_width": ""
          }
        },
        "1bd73095a0354f629d36b50bcf29ba6a": {
          "model_module": "@jupyter-widgets/base",
          "model_name": "LayoutModel",
          "model_module_version": "1.2.0",
          "state": {
            "_model_module": "@jupyter-widgets/base",
            "_model_module_version": "1.2.0",
            "_model_name": "LayoutModel",
            "_view_count": null,
            "_view_module": "@jupyter-widgets/base",
            "_view_module_version": "1.2.0",
            "_view_name": "LayoutView",
            "align_content": null,
            "align_items": null,
            "align_self": null,
            "border": null,
            "bottom": null,
            "display": null,
            "flex": null,
            "flex_flow": null,
            "grid_area": null,
            "grid_auto_columns": null,
            "grid_auto_flow": null,
            "grid_auto_rows": null,
            "grid_column": null,
            "grid_gap": null,
            "grid_row": null,
            "grid_template_areas": null,
            "grid_template_columns": null,
            "grid_template_rows": null,
            "height": null,
            "justify_content": null,
            "justify_items": null,
            "left": null,
            "margin": null,
            "max_height": null,
            "max_width": null,
            "min_height": null,
            "min_width": null,
            "object_fit": null,
            "object_position": null,
            "order": null,
            "overflow": null,
            "overflow_x": null,
            "overflow_y": null,
            "padding": null,
            "right": null,
            "top": null,
            "visibility": null,
            "width": null
          }
        },
        "a8e44ed21feb4bf288237e80a949f7dc": {
          "model_module": "@jupyter-widgets/controls",
          "model_name": "ProgressStyleModel",
          "model_module_version": "1.5.0",
          "state": {
            "_model_module": "@jupyter-widgets/controls",
            "_model_module_version": "1.5.0",
            "_model_name": "ProgressStyleModel",
            "_view_count": null,
            "_view_module": "@jupyter-widgets/base",
            "_view_module_version": "1.2.0",
            "_view_name": "StyleView",
            "bar_color": null,
            "description_width": ""
          }
        },
        "40045701291744b3a47b338dba502f06": {
          "model_module": "@jupyter-widgets/base",
          "model_name": "LayoutModel",
          "model_module_version": "1.2.0",
          "state": {
            "_model_module": "@jupyter-widgets/base",
            "_model_module_version": "1.2.0",
            "_model_name": "LayoutModel",
            "_view_count": null,
            "_view_module": "@jupyter-widgets/base",
            "_view_module_version": "1.2.0",
            "_view_name": "LayoutView",
            "align_content": null,
            "align_items": null,
            "align_self": null,
            "border": null,
            "bottom": null,
            "display": null,
            "flex": null,
            "flex_flow": null,
            "grid_area": null,
            "grid_auto_columns": null,
            "grid_auto_flow": null,
            "grid_auto_rows": null,
            "grid_column": null,
            "grid_gap": null,
            "grid_row": null,
            "grid_template_areas": null,
            "grid_template_columns": null,
            "grid_template_rows": null,
            "height": null,
            "justify_content": null,
            "justify_items": null,
            "left": null,
            "margin": null,
            "max_height": null,
            "max_width": null,
            "min_height": null,
            "min_width": null,
            "object_fit": null,
            "object_position": null,
            "order": null,
            "overflow": null,
            "overflow_x": null,
            "overflow_y": null,
            "padding": null,
            "right": null,
            "top": null,
            "visibility": null,
            "width": null
          }
        },
        "bd8987013f664765bf4568b39713fe2d": {
          "model_module": "@jupyter-widgets/controls",
          "model_name": "DescriptionStyleModel",
          "model_module_version": "1.5.0",
          "state": {
            "_model_module": "@jupyter-widgets/controls",
            "_model_module_version": "1.5.0",
            "_model_name": "DescriptionStyleModel",
            "_view_count": null,
            "_view_module": "@jupyter-widgets/base",
            "_view_module_version": "1.2.0",
            "_view_name": "StyleView",
            "description_width": ""
          }
        },
        "1d1d327e372f4c9c8fec687f61816628": {
          "model_module": "@jupyter-widgets/controls",
          "model_name": "HBoxModel",
          "model_module_version": "1.5.0",
          "state": {
            "_dom_classes": [],
            "_model_module": "@jupyter-widgets/controls",
            "_model_module_version": "1.5.0",
            "_model_name": "HBoxModel",
            "_view_count": null,
            "_view_module": "@jupyter-widgets/controls",
            "_view_module_version": "1.5.0",
            "_view_name": "HBoxView",
            "box_style": "",
            "children": [
              "IPY_MODEL_f04fd724d6f640dea7c542eefbf384db",
              "IPY_MODEL_4b745eb615ec40779f3c6de6751f6c73",
              "IPY_MODEL_060793a54d494decbbcd174b7c309626"
            ],
            "layout": "IPY_MODEL_545ed7cb384c4c03920717ca37d82a83"
          }
        },
        "f04fd724d6f640dea7c542eefbf384db": {
          "model_module": "@jupyter-widgets/controls",
          "model_name": "HTMLModel",
          "model_module_version": "1.5.0",
          "state": {
            "_dom_classes": [],
            "_model_module": "@jupyter-widgets/controls",
            "_model_module_version": "1.5.0",
            "_model_name": "HTMLModel",
            "_view_count": null,
            "_view_module": "@jupyter-widgets/controls",
            "_view_module_version": "1.5.0",
            "_view_name": "HTMLView",
            "description": "",
            "description_tooltip": null,
            "layout": "IPY_MODEL_31942c16b22f48e3946e52d4ea78828a",
            "placeholder": "​",
            "style": "IPY_MODEL_ca45401c76e845e396af43017892177b",
            "value": "Downloading (…)cial_tokens_map.json: 100%"
          }
        },
        "4b745eb615ec40779f3c6de6751f6c73": {
          "model_module": "@jupyter-widgets/controls",
          "model_name": "FloatProgressModel",
          "model_module_version": "1.5.0",
          "state": {
            "_dom_classes": [],
            "_model_module": "@jupyter-widgets/controls",
            "_model_module_version": "1.5.0",
            "_model_name": "FloatProgressModel",
            "_view_count": null,
            "_view_module": "@jupyter-widgets/controls",
            "_view_module_version": "1.5.0",
            "_view_name": "ProgressView",
            "bar_style": "success",
            "description": "",
            "description_tooltip": null,
            "layout": "IPY_MODEL_399e687936574e0785c49325c11c978c",
            "max": 239,
            "min": 0,
            "orientation": "horizontal",
            "style": "IPY_MODEL_2b9afb410e1e47b6927f937403d65491",
            "value": 239
          }
        },
        "060793a54d494decbbcd174b7c309626": {
          "model_module": "@jupyter-widgets/controls",
          "model_name": "HTMLModel",
          "model_module_version": "1.5.0",
          "state": {
            "_dom_classes": [],
            "_model_module": "@jupyter-widgets/controls",
            "_model_module_version": "1.5.0",
            "_model_name": "HTMLModel",
            "_view_count": null,
            "_view_module": "@jupyter-widgets/controls",
            "_view_module_version": "1.5.0",
            "_view_name": "HTMLView",
            "description": "",
            "description_tooltip": null,
            "layout": "IPY_MODEL_81cc2bbb058249dfa5d81fddf4d61e4f",
            "placeholder": "​",
            "style": "IPY_MODEL_97fbf44765aa4d939c0155ac24f47a69",
            "value": " 239/239 [00:00&lt;00:00, 5.18kB/s]"
          }
        },
        "545ed7cb384c4c03920717ca37d82a83": {
          "model_module": "@jupyter-widgets/base",
          "model_name": "LayoutModel",
          "model_module_version": "1.2.0",
          "state": {
            "_model_module": "@jupyter-widgets/base",
            "_model_module_version": "1.2.0",
            "_model_name": "LayoutModel",
            "_view_count": null,
            "_view_module": "@jupyter-widgets/base",
            "_view_module_version": "1.2.0",
            "_view_name": "LayoutView",
            "align_content": null,
            "align_items": null,
            "align_self": null,
            "border": null,
            "bottom": null,
            "display": null,
            "flex": null,
            "flex_flow": null,
            "grid_area": null,
            "grid_auto_columns": null,
            "grid_auto_flow": null,
            "grid_auto_rows": null,
            "grid_column": null,
            "grid_gap": null,
            "grid_row": null,
            "grid_template_areas": null,
            "grid_template_columns": null,
            "grid_template_rows": null,
            "height": null,
            "justify_content": null,
            "justify_items": null,
            "left": null,
            "margin": null,
            "max_height": null,
            "max_width": null,
            "min_height": null,
            "min_width": null,
            "object_fit": null,
            "object_position": null,
            "order": null,
            "overflow": null,
            "overflow_x": null,
            "overflow_y": null,
            "padding": null,
            "right": null,
            "top": null,
            "visibility": null,
            "width": null
          }
        },
        "31942c16b22f48e3946e52d4ea78828a": {
          "model_module": "@jupyter-widgets/base",
          "model_name": "LayoutModel",
          "model_module_version": "1.2.0",
          "state": {
            "_model_module": "@jupyter-widgets/base",
            "_model_module_version": "1.2.0",
            "_model_name": "LayoutModel",
            "_view_count": null,
            "_view_module": "@jupyter-widgets/base",
            "_view_module_version": "1.2.0",
            "_view_name": "LayoutView",
            "align_content": null,
            "align_items": null,
            "align_self": null,
            "border": null,
            "bottom": null,
            "display": null,
            "flex": null,
            "flex_flow": null,
            "grid_area": null,
            "grid_auto_columns": null,
            "grid_auto_flow": null,
            "grid_auto_rows": null,
            "grid_column": null,
            "grid_gap": null,
            "grid_row": null,
            "grid_template_areas": null,
            "grid_template_columns": null,
            "grid_template_rows": null,
            "height": null,
            "justify_content": null,
            "justify_items": null,
            "left": null,
            "margin": null,
            "max_height": null,
            "max_width": null,
            "min_height": null,
            "min_width": null,
            "object_fit": null,
            "object_position": null,
            "order": null,
            "overflow": null,
            "overflow_x": null,
            "overflow_y": null,
            "padding": null,
            "right": null,
            "top": null,
            "visibility": null,
            "width": null
          }
        },
        "ca45401c76e845e396af43017892177b": {
          "model_module": "@jupyter-widgets/controls",
          "model_name": "DescriptionStyleModel",
          "model_module_version": "1.5.0",
          "state": {
            "_model_module": "@jupyter-widgets/controls",
            "_model_module_version": "1.5.0",
            "_model_name": "DescriptionStyleModel",
            "_view_count": null,
            "_view_module": "@jupyter-widgets/base",
            "_view_module_version": "1.2.0",
            "_view_name": "StyleView",
            "description_width": ""
          }
        },
        "399e687936574e0785c49325c11c978c": {
          "model_module": "@jupyter-widgets/base",
          "model_name": "LayoutModel",
          "model_module_version": "1.2.0",
          "state": {
            "_model_module": "@jupyter-widgets/base",
            "_model_module_version": "1.2.0",
            "_model_name": "LayoutModel",
            "_view_count": null,
            "_view_module": "@jupyter-widgets/base",
            "_view_module_version": "1.2.0",
            "_view_name": "LayoutView",
            "align_content": null,
            "align_items": null,
            "align_self": null,
            "border": null,
            "bottom": null,
            "display": null,
            "flex": null,
            "flex_flow": null,
            "grid_area": null,
            "grid_auto_columns": null,
            "grid_auto_flow": null,
            "grid_auto_rows": null,
            "grid_column": null,
            "grid_gap": null,
            "grid_row": null,
            "grid_template_areas": null,
            "grid_template_columns": null,
            "grid_template_rows": null,
            "height": null,
            "justify_content": null,
            "justify_items": null,
            "left": null,
            "margin": null,
            "max_height": null,
            "max_width": null,
            "min_height": null,
            "min_width": null,
            "object_fit": null,
            "object_position": null,
            "order": null,
            "overflow": null,
            "overflow_x": null,
            "overflow_y": null,
            "padding": null,
            "right": null,
            "top": null,
            "visibility": null,
            "width": null
          }
        },
        "2b9afb410e1e47b6927f937403d65491": {
          "model_module": "@jupyter-widgets/controls",
          "model_name": "ProgressStyleModel",
          "model_module_version": "1.5.0",
          "state": {
            "_model_module": "@jupyter-widgets/controls",
            "_model_module_version": "1.5.0",
            "_model_name": "ProgressStyleModel",
            "_view_count": null,
            "_view_module": "@jupyter-widgets/base",
            "_view_module_version": "1.2.0",
            "_view_name": "StyleView",
            "bar_color": null,
            "description_width": ""
          }
        },
        "81cc2bbb058249dfa5d81fddf4d61e4f": {
          "model_module": "@jupyter-widgets/base",
          "model_name": "LayoutModel",
          "model_module_version": "1.2.0",
          "state": {
            "_model_module": "@jupyter-widgets/base",
            "_model_module_version": "1.2.0",
            "_model_name": "LayoutModel",
            "_view_count": null,
            "_view_module": "@jupyter-widgets/base",
            "_view_module_version": "1.2.0",
            "_view_name": "LayoutView",
            "align_content": null,
            "align_items": null,
            "align_self": null,
            "border": null,
            "bottom": null,
            "display": null,
            "flex": null,
            "flex_flow": null,
            "grid_area": null,
            "grid_auto_columns": null,
            "grid_auto_flow": null,
            "grid_auto_rows": null,
            "grid_column": null,
            "grid_gap": null,
            "grid_row": null,
            "grid_template_areas": null,
            "grid_template_columns": null,
            "grid_template_rows": null,
            "height": null,
            "justify_content": null,
            "justify_items": null,
            "left": null,
            "margin": null,
            "max_height": null,
            "max_width": null,
            "min_height": null,
            "min_width": null,
            "object_fit": null,
            "object_position": null,
            "order": null,
            "overflow": null,
            "overflow_x": null,
            "overflow_y": null,
            "padding": null,
            "right": null,
            "top": null,
            "visibility": null,
            "width": null
          }
        },
        "97fbf44765aa4d939c0155ac24f47a69": {
          "model_module": "@jupyter-widgets/controls",
          "model_name": "DescriptionStyleModel",
          "model_module_version": "1.5.0",
          "state": {
            "_model_module": "@jupyter-widgets/controls",
            "_model_module_version": "1.5.0",
            "_model_name": "DescriptionStyleModel",
            "_view_count": null,
            "_view_module": "@jupyter-widgets/base",
            "_view_module_version": "1.2.0",
            "_view_name": "StyleView",
            "description_width": ""
          }
        },
        "5070263ca6ab4d89a5abeb57d3fae687": {
          "model_module": "@jupyter-widgets/controls",
          "model_name": "HBoxModel",
          "model_module_version": "1.5.0",
          "state": {
            "_dom_classes": [],
            "_model_module": "@jupyter-widgets/controls",
            "_model_module_version": "1.5.0",
            "_model_name": "HBoxModel",
            "_view_count": null,
            "_view_module": "@jupyter-widgets/controls",
            "_view_module_version": "1.5.0",
            "_view_name": "HBoxView",
            "box_style": "",
            "children": [
              "IPY_MODEL_955cdedb24c44c7c9c195ef3e7f07441",
              "IPY_MODEL_065f93086124437cb9a67f65e0efa5b7",
              "IPY_MODEL_6866cf97eed54854a3e48e2357f55a16"
            ],
            "layout": "IPY_MODEL_05003931698c451dac35a5d8b83525a1"
          }
        },
        "955cdedb24c44c7c9c195ef3e7f07441": {
          "model_module": "@jupyter-widgets/controls",
          "model_name": "HTMLModel",
          "model_module_version": "1.5.0",
          "state": {
            "_dom_classes": [],
            "_model_module": "@jupyter-widgets/controls",
            "_model_module_version": "1.5.0",
            "_model_name": "HTMLModel",
            "_view_count": null,
            "_view_module": "@jupyter-widgets/controls",
            "_view_module_version": "1.5.0",
            "_view_name": "HTMLView",
            "description": "",
            "description_tooltip": null,
            "layout": "IPY_MODEL_c4e76a9403814afe841701cae755839f",
            "placeholder": "​",
            "style": "IPY_MODEL_9f804be7a492426ba3d3f6a32a96c800",
            "value": "Downloading (…)&quot;pytorch_model.bin&quot;;: 100%"
          }
        },
        "065f93086124437cb9a67f65e0efa5b7": {
          "model_module": "@jupyter-widgets/controls",
          "model_name": "FloatProgressModel",
          "model_module_version": "1.5.0",
          "state": {
            "_dom_classes": [],
            "_model_module": "@jupyter-widgets/controls",
            "_model_module_version": "1.5.0",
            "_model_name": "FloatProgressModel",
            "_view_count": null,
            "_view_module": "@jupyter-widgets/controls",
            "_view_module_version": "1.5.0",
            "_view_name": "ProgressView",
            "bar_style": "success",
            "description": "",
            "description_tooltip": null,
            "layout": "IPY_MODEL_c857b4332f6844f6860900fb9cf6a9f4",
            "max": 501003010,
            "min": 0,
            "orientation": "horizontal",
            "style": "IPY_MODEL_7d7457a0390345afa4dee4824e4d08fb",
            "value": 501003010
          }
        },
        "6866cf97eed54854a3e48e2357f55a16": {
          "model_module": "@jupyter-widgets/controls",
          "model_name": "HTMLModel",
          "model_module_version": "1.5.0",
          "state": {
            "_dom_classes": [],
            "_model_module": "@jupyter-widgets/controls",
            "_model_module_version": "1.5.0",
            "_model_name": "HTMLModel",
            "_view_count": null,
            "_view_module": "@jupyter-widgets/controls",
            "_view_module_version": "1.5.0",
            "_view_name": "HTMLView",
            "description": "",
            "description_tooltip": null,
            "layout": "IPY_MODEL_4d125a2ff0df48c1aac94c1bb87a3f18",
            "placeholder": "​",
            "style": "IPY_MODEL_771921c94be940de9ebf80325da86cf9",
            "value": " 501M/501M [00:03&lt;00:00, 186MB/s]"
          }
        },
        "05003931698c451dac35a5d8b83525a1": {
          "model_module": "@jupyter-widgets/base",
          "model_name": "LayoutModel",
          "model_module_version": "1.2.0",
          "state": {
            "_model_module": "@jupyter-widgets/base",
            "_model_module_version": "1.2.0",
            "_model_name": "LayoutModel",
            "_view_count": null,
            "_view_module": "@jupyter-widgets/base",
            "_view_module_version": "1.2.0",
            "_view_name": "LayoutView",
            "align_content": null,
            "align_items": null,
            "align_self": null,
            "border": null,
            "bottom": null,
            "display": null,
            "flex": null,
            "flex_flow": null,
            "grid_area": null,
            "grid_auto_columns": null,
            "grid_auto_flow": null,
            "grid_auto_rows": null,
            "grid_column": null,
            "grid_gap": null,
            "grid_row": null,
            "grid_template_areas": null,
            "grid_template_columns": null,
            "grid_template_rows": null,
            "height": null,
            "justify_content": null,
            "justify_items": null,
            "left": null,
            "margin": null,
            "max_height": null,
            "max_width": null,
            "min_height": null,
            "min_width": null,
            "object_fit": null,
            "object_position": null,
            "order": null,
            "overflow": null,
            "overflow_x": null,
            "overflow_y": null,
            "padding": null,
            "right": null,
            "top": null,
            "visibility": null,
            "width": null
          }
        },
        "c4e76a9403814afe841701cae755839f": {
          "model_module": "@jupyter-widgets/base",
          "model_name": "LayoutModel",
          "model_module_version": "1.2.0",
          "state": {
            "_model_module": "@jupyter-widgets/base",
            "_model_module_version": "1.2.0",
            "_model_name": "LayoutModel",
            "_view_count": null,
            "_view_module": "@jupyter-widgets/base",
            "_view_module_version": "1.2.0",
            "_view_name": "LayoutView",
            "align_content": null,
            "align_items": null,
            "align_self": null,
            "border": null,
            "bottom": null,
            "display": null,
            "flex": null,
            "flex_flow": null,
            "grid_area": null,
            "grid_auto_columns": null,
            "grid_auto_flow": null,
            "grid_auto_rows": null,
            "grid_column": null,
            "grid_gap": null,
            "grid_row": null,
            "grid_template_areas": null,
            "grid_template_columns": null,
            "grid_template_rows": null,
            "height": null,
            "justify_content": null,
            "justify_items": null,
            "left": null,
            "margin": null,
            "max_height": null,
            "max_width": null,
            "min_height": null,
            "min_width": null,
            "object_fit": null,
            "object_position": null,
            "order": null,
            "overflow": null,
            "overflow_x": null,
            "overflow_y": null,
            "padding": null,
            "right": null,
            "top": null,
            "visibility": null,
            "width": null
          }
        },
        "9f804be7a492426ba3d3f6a32a96c800": {
          "model_module": "@jupyter-widgets/controls",
          "model_name": "DescriptionStyleModel",
          "model_module_version": "1.5.0",
          "state": {
            "_model_module": "@jupyter-widgets/controls",
            "_model_module_version": "1.5.0",
            "_model_name": "DescriptionStyleModel",
            "_view_count": null,
            "_view_module": "@jupyter-widgets/base",
            "_view_module_version": "1.2.0",
            "_view_name": "StyleView",
            "description_width": ""
          }
        },
        "c857b4332f6844f6860900fb9cf6a9f4": {
          "model_module": "@jupyter-widgets/base",
          "model_name": "LayoutModel",
          "model_module_version": "1.2.0",
          "state": {
            "_model_module": "@jupyter-widgets/base",
            "_model_module_version": "1.2.0",
            "_model_name": "LayoutModel",
            "_view_count": null,
            "_view_module": "@jupyter-widgets/base",
            "_view_module_version": "1.2.0",
            "_view_name": "LayoutView",
            "align_content": null,
            "align_items": null,
            "align_self": null,
            "border": null,
            "bottom": null,
            "display": null,
            "flex": null,
            "flex_flow": null,
            "grid_area": null,
            "grid_auto_columns": null,
            "grid_auto_flow": null,
            "grid_auto_rows": null,
            "grid_column": null,
            "grid_gap": null,
            "grid_row": null,
            "grid_template_areas": null,
            "grid_template_columns": null,
            "grid_template_rows": null,
            "height": null,
            "justify_content": null,
            "justify_items": null,
            "left": null,
            "margin": null,
            "max_height": null,
            "max_width": null,
            "min_height": null,
            "min_width": null,
            "object_fit": null,
            "object_position": null,
            "order": null,
            "overflow": null,
            "overflow_x": null,
            "overflow_y": null,
            "padding": null,
            "right": null,
            "top": null,
            "visibility": null,
            "width": null
          }
        },
        "7d7457a0390345afa4dee4824e4d08fb": {
          "model_module": "@jupyter-widgets/controls",
          "model_name": "ProgressStyleModel",
          "model_module_version": "1.5.0",
          "state": {
            "_model_module": "@jupyter-widgets/controls",
            "_model_module_version": "1.5.0",
            "_model_name": "ProgressStyleModel",
            "_view_count": null,
            "_view_module": "@jupyter-widgets/base",
            "_view_module_version": "1.2.0",
            "_view_name": "StyleView",
            "bar_color": null,
            "description_width": ""
          }
        },
        "4d125a2ff0df48c1aac94c1bb87a3f18": {
          "model_module": "@jupyter-widgets/base",
          "model_name": "LayoutModel",
          "model_module_version": "1.2.0",
          "state": {
            "_model_module": "@jupyter-widgets/base",
            "_model_module_version": "1.2.0",
            "_model_name": "LayoutModel",
            "_view_count": null,
            "_view_module": "@jupyter-widgets/base",
            "_view_module_version": "1.2.0",
            "_view_name": "LayoutView",
            "align_content": null,
            "align_items": null,
            "align_self": null,
            "border": null,
            "bottom": null,
            "display": null,
            "flex": null,
            "flex_flow": null,
            "grid_area": null,
            "grid_auto_columns": null,
            "grid_auto_flow": null,
            "grid_auto_rows": null,
            "grid_column": null,
            "grid_gap": null,
            "grid_row": null,
            "grid_template_areas": null,
            "grid_template_columns": null,
            "grid_template_rows": null,
            "height": null,
            "justify_content": null,
            "justify_items": null,
            "left": null,
            "margin": null,
            "max_height": null,
            "max_width": null,
            "min_height": null,
            "min_width": null,
            "object_fit": null,
            "object_position": null,
            "order": null,
            "overflow": null,
            "overflow_x": null,
            "overflow_y": null,
            "padding": null,
            "right": null,
            "top": null,
            "visibility": null,
            "width": null
          }
        },
        "771921c94be940de9ebf80325da86cf9": {
          "model_module": "@jupyter-widgets/controls",
          "model_name": "DescriptionStyleModel",
          "model_module_version": "1.5.0",
          "state": {
            "_model_module": "@jupyter-widgets/controls",
            "_model_module_version": "1.5.0",
            "_model_name": "DescriptionStyleModel",
            "_view_count": null,
            "_view_module": "@jupyter-widgets/base",
            "_view_module_version": "1.2.0",
            "_view_name": "StyleView",
            "description_width": ""
          }
        },
        "96532cbb087c4846aae56d15a6e7024e": {
          "model_module": "@jupyter-widgets/controls",
          "model_name": "HBoxModel",
          "model_module_version": "1.5.0",
          "state": {
            "_dom_classes": [],
            "_model_module": "@jupyter-widgets/controls",
            "_model_module_version": "1.5.0",
            "_model_name": "HBoxModel",
            "_view_count": null,
            "_view_module": "@jupyter-widgets/controls",
            "_view_module_version": "1.5.0",
            "_view_name": "HBoxView",
            "box_style": "",
            "children": [
              "IPY_MODEL_db579c800c6f4099965a71d370c7c4a3",
              "IPY_MODEL_12fa0b2d5c714341bf247f398ec1566d",
              "IPY_MODEL_086b7480b68a4b849947304676772c11"
            ],
            "layout": "IPY_MODEL_fbc0cdcf0e154a309ac02c1412fb8d39"
          }
        },
        "db579c800c6f4099965a71d370c7c4a3": {
          "model_module": "@jupyter-widgets/controls",
          "model_name": "HTMLModel",
          "model_module_version": "1.5.0",
          "state": {
            "_dom_classes": [],
            "_model_module": "@jupyter-widgets/controls",
            "_model_module_version": "1.5.0",
            "_model_name": "HTMLModel",
            "_view_count": null,
            "_view_module": "@jupyter-widgets/controls",
            "_view_module_version": "1.5.0",
            "_view_name": "HTMLView",
            "description": "",
            "description_tooltip": null,
            "layout": "IPY_MODEL_04bbeadcbe62400c8c780afa8180e72e",
            "placeholder": "​",
            "style": "IPY_MODEL_663a7a07a520487cb76166c083f37257",
            "value": "Downloading: 100%"
          }
        },
        "12fa0b2d5c714341bf247f398ec1566d": {
          "model_module": "@jupyter-widgets/controls",
          "model_name": "FloatProgressModel",
          "model_module_version": "1.5.0",
          "state": {
            "_dom_classes": [],
            "_model_module": "@jupyter-widgets/controls",
            "_model_module_version": "1.5.0",
            "_model_name": "FloatProgressModel",
            "_view_count": null,
            "_view_module": "@jupyter-widgets/controls",
            "_view_module_version": "1.5.0",
            "_view_name": "ProgressView",
            "bar_style": "success",
            "description": "",
            "description_tooltip": null,
            "layout": "IPY_MODEL_8c8c7784d82b4b57bce58ac434db04e4",
            "max": 5069051,
            "min": 0,
            "orientation": "horizontal",
            "style": "IPY_MODEL_edd10a2879ac4ca7af886e0f3770a160",
            "value": 5069051
          }
        },
        "086b7480b68a4b849947304676772c11": {
          "model_module": "@jupyter-widgets/controls",
          "model_name": "HTMLModel",
          "model_module_version": "1.5.0",
          "state": {
            "_dom_classes": [],
            "_model_module": "@jupyter-widgets/controls",
            "_model_module_version": "1.5.0",
            "_model_name": "HTMLModel",
            "_view_count": null,
            "_view_module": "@jupyter-widgets/controls",
            "_view_module_version": "1.5.0",
            "_view_name": "HTMLView",
            "description": "",
            "description_tooltip": null,
            "layout": "IPY_MODEL_ab2853a580ef4a6dbb77dc785e46532c",
            "placeholder": "​",
            "style": "IPY_MODEL_ee4ff3fa4e9241f8892da99d0df2a42b",
            "value": " 5.07M/5.07M [00:01&lt;00:00, 5.32MB/s]"
          }
        },
        "fbc0cdcf0e154a309ac02c1412fb8d39": {
          "model_module": "@jupyter-widgets/base",
          "model_name": "LayoutModel",
          "model_module_version": "1.2.0",
          "state": {
            "_model_module": "@jupyter-widgets/base",
            "_model_module_version": "1.2.0",
            "_model_name": "LayoutModel",
            "_view_count": null,
            "_view_module": "@jupyter-widgets/base",
            "_view_module_version": "1.2.0",
            "_view_name": "LayoutView",
            "align_content": null,
            "align_items": null,
            "align_self": null,
            "border": null,
            "bottom": null,
            "display": null,
            "flex": null,
            "flex_flow": null,
            "grid_area": null,
            "grid_auto_columns": null,
            "grid_auto_flow": null,
            "grid_auto_rows": null,
            "grid_column": null,
            "grid_gap": null,
            "grid_row": null,
            "grid_template_areas": null,
            "grid_template_columns": null,
            "grid_template_rows": null,
            "height": null,
            "justify_content": null,
            "justify_items": null,
            "left": null,
            "margin": null,
            "max_height": null,
            "max_width": null,
            "min_height": null,
            "min_width": null,
            "object_fit": null,
            "object_position": null,
            "order": null,
            "overflow": null,
            "overflow_x": null,
            "overflow_y": null,
            "padding": null,
            "right": null,
            "top": null,
            "visibility": null,
            "width": null
          }
        },
        "04bbeadcbe62400c8c780afa8180e72e": {
          "model_module": "@jupyter-widgets/base",
          "model_name": "LayoutModel",
          "model_module_version": "1.2.0",
          "state": {
            "_model_module": "@jupyter-widgets/base",
            "_model_module_version": "1.2.0",
            "_model_name": "LayoutModel",
            "_view_count": null,
            "_view_module": "@jupyter-widgets/base",
            "_view_module_version": "1.2.0",
            "_view_name": "LayoutView",
            "align_content": null,
            "align_items": null,
            "align_self": null,
            "border": null,
            "bottom": null,
            "display": null,
            "flex": null,
            "flex_flow": null,
            "grid_area": null,
            "grid_auto_columns": null,
            "grid_auto_flow": null,
            "grid_auto_rows": null,
            "grid_column": null,
            "grid_gap": null,
            "grid_row": null,
            "grid_template_areas": null,
            "grid_template_columns": null,
            "grid_template_rows": null,
            "height": null,
            "justify_content": null,
            "justify_items": null,
            "left": null,
            "margin": null,
            "max_height": null,
            "max_width": null,
            "min_height": null,
            "min_width": null,
            "object_fit": null,
            "object_position": null,
            "order": null,
            "overflow": null,
            "overflow_x": null,
            "overflow_y": null,
            "padding": null,
            "right": null,
            "top": null,
            "visibility": null,
            "width": null
          }
        },
        "663a7a07a520487cb76166c083f37257": {
          "model_module": "@jupyter-widgets/controls",
          "model_name": "DescriptionStyleModel",
          "model_module_version": "1.5.0",
          "state": {
            "_model_module": "@jupyter-widgets/controls",
            "_model_module_version": "1.5.0",
            "_model_name": "DescriptionStyleModel",
            "_view_count": null,
            "_view_module": "@jupyter-widgets/base",
            "_view_module_version": "1.2.0",
            "_view_name": "StyleView",
            "description_width": ""
          }
        },
        "8c8c7784d82b4b57bce58ac434db04e4": {
          "model_module": "@jupyter-widgets/base",
          "model_name": "LayoutModel",
          "model_module_version": "1.2.0",
          "state": {
            "_model_module": "@jupyter-widgets/base",
            "_model_module_version": "1.2.0",
            "_model_name": "LayoutModel",
            "_view_count": null,
            "_view_module": "@jupyter-widgets/base",
            "_view_module_version": "1.2.0",
            "_view_name": "LayoutView",
            "align_content": null,
            "align_items": null,
            "align_self": null,
            "border": null,
            "bottom": null,
            "display": null,
            "flex": null,
            "flex_flow": null,
            "grid_area": null,
            "grid_auto_columns": null,
            "grid_auto_flow": null,
            "grid_auto_rows": null,
            "grid_column": null,
            "grid_gap": null,
            "grid_row": null,
            "grid_template_areas": null,
            "grid_template_columns": null,
            "grid_template_rows": null,
            "height": null,
            "justify_content": null,
            "justify_items": null,
            "left": null,
            "margin": null,
            "max_height": null,
            "max_width": null,
            "min_height": null,
            "min_width": null,
            "object_fit": null,
            "object_position": null,
            "order": null,
            "overflow": null,
            "overflow_x": null,
            "overflow_y": null,
            "padding": null,
            "right": null,
            "top": null,
            "visibility": null,
            "width": null
          }
        },
        "edd10a2879ac4ca7af886e0f3770a160": {
          "model_module": "@jupyter-widgets/controls",
          "model_name": "ProgressStyleModel",
          "model_module_version": "1.5.0",
          "state": {
            "_model_module": "@jupyter-widgets/controls",
            "_model_module_version": "1.5.0",
            "_model_name": "ProgressStyleModel",
            "_view_count": null,
            "_view_module": "@jupyter-widgets/base",
            "_view_module_version": "1.2.0",
            "_view_name": "StyleView",
            "bar_color": null,
            "description_width": ""
          }
        },
        "ab2853a580ef4a6dbb77dc785e46532c": {
          "model_module": "@jupyter-widgets/base",
          "model_name": "LayoutModel",
          "model_module_version": "1.2.0",
          "state": {
            "_model_module": "@jupyter-widgets/base",
            "_model_module_version": "1.2.0",
            "_model_name": "LayoutModel",
            "_view_count": null,
            "_view_module": "@jupyter-widgets/base",
            "_view_module_version": "1.2.0",
            "_view_name": "LayoutView",
            "align_content": null,
            "align_items": null,
            "align_self": null,
            "border": null,
            "bottom": null,
            "display": null,
            "flex": null,
            "flex_flow": null,
            "grid_area": null,
            "grid_auto_columns": null,
            "grid_auto_flow": null,
            "grid_auto_rows": null,
            "grid_column": null,
            "grid_gap": null,
            "grid_row": null,
            "grid_template_areas": null,
            "grid_template_columns": null,
            "grid_template_rows": null,
            "height": null,
            "justify_content": null,
            "justify_items": null,
            "left": null,
            "margin": null,
            "max_height": null,
            "max_width": null,
            "min_height": null,
            "min_width": null,
            "object_fit": null,
            "object_position": null,
            "order": null,
            "overflow": null,
            "overflow_x": null,
            "overflow_y": null,
            "padding": null,
            "right": null,
            "top": null,
            "visibility": null,
            "width": null
          }
        },
        "ee4ff3fa4e9241f8892da99d0df2a42b": {
          "model_module": "@jupyter-widgets/controls",
          "model_name": "DescriptionStyleModel",
          "model_module_version": "1.5.0",
          "state": {
            "_model_module": "@jupyter-widgets/controls",
            "_model_module_version": "1.5.0",
            "_model_name": "DescriptionStyleModel",
            "_view_count": null,
            "_view_module": "@jupyter-widgets/base",
            "_view_module_version": "1.2.0",
            "_view_name": "StyleView",
            "description_width": ""
          }
        },
        "4d6a2ffb9470484bbc971bfc2b048565": {
          "model_module": "@jupyter-widgets/controls",
          "model_name": "HBoxModel",
          "model_module_version": "1.5.0",
          "state": {
            "_dom_classes": [],
            "_model_module": "@jupyter-widgets/controls",
            "_model_module_version": "1.5.0",
            "_model_name": "HBoxModel",
            "_view_count": null,
            "_view_module": "@jupyter-widgets/controls",
            "_view_module_version": "1.5.0",
            "_view_name": "HBoxView",
            "box_style": "",
            "children": [
              "IPY_MODEL_945c568dd6e34a96b314244c400bf686",
              "IPY_MODEL_ea82ad840c194ad28c49a3640d0abffc",
              "IPY_MODEL_b26898cc1504497389b69e9c192a7ba3"
            ],
            "layout": "IPY_MODEL_37142703537f494ab878f61cd94526b2"
          }
        },
        "945c568dd6e34a96b314244c400bf686": {
          "model_module": "@jupyter-widgets/controls",
          "model_name": "HTMLModel",
          "model_module_version": "1.5.0",
          "state": {
            "_dom_classes": [],
            "_model_module": "@jupyter-widgets/controls",
            "_model_module_version": "1.5.0",
            "_model_name": "HTMLModel",
            "_view_count": null,
            "_view_module": "@jupyter-widgets/controls",
            "_view_module_version": "1.5.0",
            "_view_name": "HTMLView",
            "description": "",
            "description_tooltip": null,
            "layout": "IPY_MODEL_7c4321ffb51544d08672d2e11cb8afbd",
            "placeholder": "​",
            "style": "IPY_MODEL_3058e73fae0b4c37a5df65f0cf63e385",
            "value": "Downloading: 100%"
          }
        },
        "ea82ad840c194ad28c49a3640d0abffc": {
          "model_module": "@jupyter-widgets/controls",
          "model_name": "FloatProgressModel",
          "model_module_version": "1.5.0",
          "state": {
            "_dom_classes": [],
            "_model_module": "@jupyter-widgets/controls",
            "_model_module_version": "1.5.0",
            "_model_name": "FloatProgressModel",
            "_view_count": null,
            "_view_module": "@jupyter-widgets/controls",
            "_view_module_version": "1.5.0",
            "_view_name": "ProgressView",
            "bar_style": "success",
            "description": "",
            "description_tooltip": null,
            "layout": "IPY_MODEL_1225033e378d4edeabbc7e305eb1e391",
            "max": 512,
            "min": 0,
            "orientation": "horizontal",
            "style": "IPY_MODEL_785f97ec1ec7472eb629781e0d940c72",
            "value": 512
          }
        },
        "b26898cc1504497389b69e9c192a7ba3": {
          "model_module": "@jupyter-widgets/controls",
          "model_name": "HTMLModel",
          "model_module_version": "1.5.0",
          "state": {
            "_dom_classes": [],
            "_model_module": "@jupyter-widgets/controls",
            "_model_module_version": "1.5.0",
            "_model_name": "HTMLModel",
            "_view_count": null,
            "_view_module": "@jupyter-widgets/controls",
            "_view_module_version": "1.5.0",
            "_view_name": "HTMLView",
            "description": "",
            "description_tooltip": null,
            "layout": "IPY_MODEL_ac53bb779f914e4d903fa0835609652f",
            "placeholder": "​",
            "style": "IPY_MODEL_15a496d6c59246e8bfe58ce0bbc9337b",
            "value": " 512/512 [00:00&lt;00:00, 12.5kB/s]"
          }
        },
        "37142703537f494ab878f61cd94526b2": {
          "model_module": "@jupyter-widgets/base",
          "model_name": "LayoutModel",
          "model_module_version": "1.2.0",
          "state": {
            "_model_module": "@jupyter-widgets/base",
            "_model_module_version": "1.2.0",
            "_model_name": "LayoutModel",
            "_view_count": null,
            "_view_module": "@jupyter-widgets/base",
            "_view_module_version": "1.2.0",
            "_view_name": "LayoutView",
            "align_content": null,
            "align_items": null,
            "align_self": null,
            "border": null,
            "bottom": null,
            "display": null,
            "flex": null,
            "flex_flow": null,
            "grid_area": null,
            "grid_auto_columns": null,
            "grid_auto_flow": null,
            "grid_auto_rows": null,
            "grid_column": null,
            "grid_gap": null,
            "grid_row": null,
            "grid_template_areas": null,
            "grid_template_columns": null,
            "grid_template_rows": null,
            "height": null,
            "justify_content": null,
            "justify_items": null,
            "left": null,
            "margin": null,
            "max_height": null,
            "max_width": null,
            "min_height": null,
            "min_width": null,
            "object_fit": null,
            "object_position": null,
            "order": null,
            "overflow": null,
            "overflow_x": null,
            "overflow_y": null,
            "padding": null,
            "right": null,
            "top": null,
            "visibility": null,
            "width": null
          }
        },
        "7c4321ffb51544d08672d2e11cb8afbd": {
          "model_module": "@jupyter-widgets/base",
          "model_name": "LayoutModel",
          "model_module_version": "1.2.0",
          "state": {
            "_model_module": "@jupyter-widgets/base",
            "_model_module_version": "1.2.0",
            "_model_name": "LayoutModel",
            "_view_count": null,
            "_view_module": "@jupyter-widgets/base",
            "_view_module_version": "1.2.0",
            "_view_name": "LayoutView",
            "align_content": null,
            "align_items": null,
            "align_self": null,
            "border": null,
            "bottom": null,
            "display": null,
            "flex": null,
            "flex_flow": null,
            "grid_area": null,
            "grid_auto_columns": null,
            "grid_auto_flow": null,
            "grid_auto_rows": null,
            "grid_column": null,
            "grid_gap": null,
            "grid_row": null,
            "grid_template_areas": null,
            "grid_template_columns": null,
            "grid_template_rows": null,
            "height": null,
            "justify_content": null,
            "justify_items": null,
            "left": null,
            "margin": null,
            "max_height": null,
            "max_width": null,
            "min_height": null,
            "min_width": null,
            "object_fit": null,
            "object_position": null,
            "order": null,
            "overflow": null,
            "overflow_x": null,
            "overflow_y": null,
            "padding": null,
            "right": null,
            "top": null,
            "visibility": null,
            "width": null
          }
        },
        "3058e73fae0b4c37a5df65f0cf63e385": {
          "model_module": "@jupyter-widgets/controls",
          "model_name": "DescriptionStyleModel",
          "model_module_version": "1.5.0",
          "state": {
            "_model_module": "@jupyter-widgets/controls",
            "_model_module_version": "1.5.0",
            "_model_name": "DescriptionStyleModel",
            "_view_count": null,
            "_view_module": "@jupyter-widgets/base",
            "_view_module_version": "1.2.0",
            "_view_name": "StyleView",
            "description_width": ""
          }
        },
        "1225033e378d4edeabbc7e305eb1e391": {
          "model_module": "@jupyter-widgets/base",
          "model_name": "LayoutModel",
          "model_module_version": "1.2.0",
          "state": {
            "_model_module": "@jupyter-widgets/base",
            "_model_module_version": "1.2.0",
            "_model_name": "LayoutModel",
            "_view_count": null,
            "_view_module": "@jupyter-widgets/base",
            "_view_module_version": "1.2.0",
            "_view_name": "LayoutView",
            "align_content": null,
            "align_items": null,
            "align_self": null,
            "border": null,
            "bottom": null,
            "display": null,
            "flex": null,
            "flex_flow": null,
            "grid_area": null,
            "grid_auto_columns": null,
            "grid_auto_flow": null,
            "grid_auto_rows": null,
            "grid_column": null,
            "grid_gap": null,
            "grid_row": null,
            "grid_template_areas": null,
            "grid_template_columns": null,
            "grid_template_rows": null,
            "height": null,
            "justify_content": null,
            "justify_items": null,
            "left": null,
            "margin": null,
            "max_height": null,
            "max_width": null,
            "min_height": null,
            "min_width": null,
            "object_fit": null,
            "object_position": null,
            "order": null,
            "overflow": null,
            "overflow_x": null,
            "overflow_y": null,
            "padding": null,
            "right": null,
            "top": null,
            "visibility": null,
            "width": null
          }
        },
        "785f97ec1ec7472eb629781e0d940c72": {
          "model_module": "@jupyter-widgets/controls",
          "model_name": "ProgressStyleModel",
          "model_module_version": "1.5.0",
          "state": {
            "_model_module": "@jupyter-widgets/controls",
            "_model_module_version": "1.5.0",
            "_model_name": "ProgressStyleModel",
            "_view_count": null,
            "_view_module": "@jupyter-widgets/base",
            "_view_module_version": "1.2.0",
            "_view_name": "StyleView",
            "bar_color": null,
            "description_width": ""
          }
        },
        "ac53bb779f914e4d903fa0835609652f": {
          "model_module": "@jupyter-widgets/base",
          "model_name": "LayoutModel",
          "model_module_version": "1.2.0",
          "state": {
            "_model_module": "@jupyter-widgets/base",
            "_model_module_version": "1.2.0",
            "_model_name": "LayoutModel",
            "_view_count": null,
            "_view_module": "@jupyter-widgets/base",
            "_view_module_version": "1.2.0",
            "_view_name": "LayoutView",
            "align_content": null,
            "align_items": null,
            "align_self": null,
            "border": null,
            "bottom": null,
            "display": null,
            "flex": null,
            "flex_flow": null,
            "grid_area": null,
            "grid_auto_columns": null,
            "grid_auto_flow": null,
            "grid_auto_rows": null,
            "grid_column": null,
            "grid_gap": null,
            "grid_row": null,
            "grid_template_areas": null,
            "grid_template_columns": null,
            "grid_template_rows": null,
            "height": null,
            "justify_content": null,
            "justify_items": null,
            "left": null,
            "margin": null,
            "max_height": null,
            "max_width": null,
            "min_height": null,
            "min_width": null,
            "object_fit": null,
            "object_position": null,
            "order": null,
            "overflow": null,
            "overflow_x": null,
            "overflow_y": null,
            "padding": null,
            "right": null,
            "top": null,
            "visibility": null,
            "width": null
          }
        },
        "15a496d6c59246e8bfe58ce0bbc9337b": {
          "model_module": "@jupyter-widgets/controls",
          "model_name": "DescriptionStyleModel",
          "model_module_version": "1.5.0",
          "state": {
            "_model_module": "@jupyter-widgets/controls",
            "_model_module_version": "1.5.0",
            "_model_name": "DescriptionStyleModel",
            "_view_count": null,
            "_view_module": "@jupyter-widgets/base",
            "_view_module_version": "1.2.0",
            "_view_name": "StyleView",
            "description_width": ""
          }
        },
        "3c446edd4ff044929a6d0556dff84530": {
          "model_module": "@jupyter-widgets/controls",
          "model_name": "HBoxModel",
          "model_module_version": "1.5.0",
          "state": {
            "_dom_classes": [],
            "_model_module": "@jupyter-widgets/controls",
            "_model_module_version": "1.5.0",
            "_model_name": "HBoxModel",
            "_view_count": null,
            "_view_module": "@jupyter-widgets/controls",
            "_view_module_version": "1.5.0",
            "_view_name": "HBoxView",
            "box_style": "",
            "children": [
              "IPY_MODEL_354fc82eb5234e0d95d41c2023211394",
              "IPY_MODEL_0e6304b4d26d4429947701cbed777356",
              "IPY_MODEL_0771c33bd1824b79ab28ddc424cb56af"
            ],
            "layout": "IPY_MODEL_7444a4ce5a614066b14973ed0ceb8803"
          }
        },
        "354fc82eb5234e0d95d41c2023211394": {
          "model_module": "@jupyter-widgets/controls",
          "model_name": "HTMLModel",
          "model_module_version": "1.5.0",
          "state": {
            "_dom_classes": [],
            "_model_module": "@jupyter-widgets/controls",
            "_model_module_version": "1.5.0",
            "_model_name": "HTMLModel",
            "_view_count": null,
            "_view_module": "@jupyter-widgets/controls",
            "_view_module_version": "1.5.0",
            "_view_name": "HTMLView",
            "description": "",
            "description_tooltip": null,
            "layout": "IPY_MODEL_328612b09ba24d8aa1d2af240fc5553c",
            "placeholder": "​",
            "style": "IPY_MODEL_b074900c92bb40b9b793d0c8c820e9b7",
            "value": "Downloading: 100%"
          }
        },
        "0e6304b4d26d4429947701cbed777356": {
          "model_module": "@jupyter-widgets/controls",
          "model_name": "FloatProgressModel",
          "model_module_version": "1.5.0",
          "state": {
            "_dom_classes": [],
            "_model_module": "@jupyter-widgets/controls",
            "_model_module_version": "1.5.0",
            "_model_name": "FloatProgressModel",
            "_view_count": null,
            "_view_module": "@jupyter-widgets/controls",
            "_view_module_version": "1.5.0",
            "_view_name": "ProgressView",
            "bar_style": "success",
            "description": "",
            "description_tooltip": null,
            "layout": "IPY_MODEL_6e54b3af5a9b451885afe18afcd84761",
            "max": 1115590446,
            "min": 0,
            "orientation": "horizontal",
            "style": "IPY_MODEL_e4209b4a1621415997ee7ef3ae046200",
            "value": 1115590446
          }
        },
        "0771c33bd1824b79ab28ddc424cb56af": {
          "model_module": "@jupyter-widgets/controls",
          "model_name": "HTMLModel",
          "model_module_version": "1.5.0",
          "state": {
            "_dom_classes": [],
            "_model_module": "@jupyter-widgets/controls",
            "_model_module_version": "1.5.0",
            "_model_name": "HTMLModel",
            "_view_count": null,
            "_view_module": "@jupyter-widgets/controls",
            "_view_module_version": "1.5.0",
            "_view_name": "HTMLView",
            "description": "",
            "description_tooltip": null,
            "layout": "IPY_MODEL_1e049ffbcb154c118afd2d16e65c51df",
            "placeholder": "​",
            "style": "IPY_MODEL_a3a2b0dbe9c746beb0ecc89a2b2319b9",
            "value": " 1.12G/1.12G [00:51&lt;00:00, 23.1MB/s]"
          }
        },
        "7444a4ce5a614066b14973ed0ceb8803": {
          "model_module": "@jupyter-widgets/base",
          "model_name": "LayoutModel",
          "model_module_version": "1.2.0",
          "state": {
            "_model_module": "@jupyter-widgets/base",
            "_model_module_version": "1.2.0",
            "_model_name": "LayoutModel",
            "_view_count": null,
            "_view_module": "@jupyter-widgets/base",
            "_view_module_version": "1.2.0",
            "_view_name": "LayoutView",
            "align_content": null,
            "align_items": null,
            "align_self": null,
            "border": null,
            "bottom": null,
            "display": null,
            "flex": null,
            "flex_flow": null,
            "grid_area": null,
            "grid_auto_columns": null,
            "grid_auto_flow": null,
            "grid_auto_rows": null,
            "grid_column": null,
            "grid_gap": null,
            "grid_row": null,
            "grid_template_areas": null,
            "grid_template_columns": null,
            "grid_template_rows": null,
            "height": null,
            "justify_content": null,
            "justify_items": null,
            "left": null,
            "margin": null,
            "max_height": null,
            "max_width": null,
            "min_height": null,
            "min_width": null,
            "object_fit": null,
            "object_position": null,
            "order": null,
            "overflow": null,
            "overflow_x": null,
            "overflow_y": null,
            "padding": null,
            "right": null,
            "top": null,
            "visibility": null,
            "width": null
          }
        },
        "328612b09ba24d8aa1d2af240fc5553c": {
          "model_module": "@jupyter-widgets/base",
          "model_name": "LayoutModel",
          "model_module_version": "1.2.0",
          "state": {
            "_model_module": "@jupyter-widgets/base",
            "_model_module_version": "1.2.0",
            "_model_name": "LayoutModel",
            "_view_count": null,
            "_view_module": "@jupyter-widgets/base",
            "_view_module_version": "1.2.0",
            "_view_name": "LayoutView",
            "align_content": null,
            "align_items": null,
            "align_self": null,
            "border": null,
            "bottom": null,
            "display": null,
            "flex": null,
            "flex_flow": null,
            "grid_area": null,
            "grid_auto_columns": null,
            "grid_auto_flow": null,
            "grid_auto_rows": null,
            "grid_column": null,
            "grid_gap": null,
            "grid_row": null,
            "grid_template_areas": null,
            "grid_template_columns": null,
            "grid_template_rows": null,
            "height": null,
            "justify_content": null,
            "justify_items": null,
            "left": null,
            "margin": null,
            "max_height": null,
            "max_width": null,
            "min_height": null,
            "min_width": null,
            "object_fit": null,
            "object_position": null,
            "order": null,
            "overflow": null,
            "overflow_x": null,
            "overflow_y": null,
            "padding": null,
            "right": null,
            "top": null,
            "visibility": null,
            "width": null
          }
        },
        "b074900c92bb40b9b793d0c8c820e9b7": {
          "model_module": "@jupyter-widgets/controls",
          "model_name": "DescriptionStyleModel",
          "model_module_version": "1.5.0",
          "state": {
            "_model_module": "@jupyter-widgets/controls",
            "_model_module_version": "1.5.0",
            "_model_name": "DescriptionStyleModel",
            "_view_count": null,
            "_view_module": "@jupyter-widgets/base",
            "_view_module_version": "1.2.0",
            "_view_name": "StyleView",
            "description_width": ""
          }
        },
        "6e54b3af5a9b451885afe18afcd84761": {
          "model_module": "@jupyter-widgets/base",
          "model_name": "LayoutModel",
          "model_module_version": "1.2.0",
          "state": {
            "_model_module": "@jupyter-widgets/base",
            "_model_module_version": "1.2.0",
            "_model_name": "LayoutModel",
            "_view_count": null,
            "_view_module": "@jupyter-widgets/base",
            "_view_module_version": "1.2.0",
            "_view_name": "LayoutView",
            "align_content": null,
            "align_items": null,
            "align_self": null,
            "border": null,
            "bottom": null,
            "display": null,
            "flex": null,
            "flex_flow": null,
            "grid_area": null,
            "grid_auto_columns": null,
            "grid_auto_flow": null,
            "grid_auto_rows": null,
            "grid_column": null,
            "grid_gap": null,
            "grid_row": null,
            "grid_template_areas": null,
            "grid_template_columns": null,
            "grid_template_rows": null,
            "height": null,
            "justify_content": null,
            "justify_items": null,
            "left": null,
            "margin": null,
            "max_height": null,
            "max_width": null,
            "min_height": null,
            "min_width": null,
            "object_fit": null,
            "object_position": null,
            "order": null,
            "overflow": null,
            "overflow_x": null,
            "overflow_y": null,
            "padding": null,
            "right": null,
            "top": null,
            "visibility": null,
            "width": null
          }
        },
        "e4209b4a1621415997ee7ef3ae046200": {
          "model_module": "@jupyter-widgets/controls",
          "model_name": "ProgressStyleModel",
          "model_module_version": "1.5.0",
          "state": {
            "_model_module": "@jupyter-widgets/controls",
            "_model_module_version": "1.5.0",
            "_model_name": "ProgressStyleModel",
            "_view_count": null,
            "_view_module": "@jupyter-widgets/base",
            "_view_module_version": "1.2.0",
            "_view_name": "StyleView",
            "bar_color": null,
            "description_width": ""
          }
        },
        "1e049ffbcb154c118afd2d16e65c51df": {
          "model_module": "@jupyter-widgets/base",
          "model_name": "LayoutModel",
          "model_module_version": "1.2.0",
          "state": {
            "_model_module": "@jupyter-widgets/base",
            "_model_module_version": "1.2.0",
            "_model_name": "LayoutModel",
            "_view_count": null,
            "_view_module": "@jupyter-widgets/base",
            "_view_module_version": "1.2.0",
            "_view_name": "LayoutView",
            "align_content": null,
            "align_items": null,
            "align_self": null,
            "border": null,
            "bottom": null,
            "display": null,
            "flex": null,
            "flex_flow": null,
            "grid_area": null,
            "grid_auto_columns": null,
            "grid_auto_flow": null,
            "grid_auto_rows": null,
            "grid_column": null,
            "grid_gap": null,
            "grid_row": null,
            "grid_template_areas": null,
            "grid_template_columns": null,
            "grid_template_rows": null,
            "height": null,
            "justify_content": null,
            "justify_items": null,
            "left": null,
            "margin": null,
            "max_height": null,
            "max_width": null,
            "min_height": null,
            "min_width": null,
            "object_fit": null,
            "object_position": null,
            "order": null,
            "overflow": null,
            "overflow_x": null,
            "overflow_y": null,
            "padding": null,
            "right": null,
            "top": null,
            "visibility": null,
            "width": null
          }
        },
        "a3a2b0dbe9c746beb0ecc89a2b2319b9": {
          "model_module": "@jupyter-widgets/controls",
          "model_name": "DescriptionStyleModel",
          "model_module_version": "1.5.0",
          "state": {
            "_model_module": "@jupyter-widgets/controls",
            "_model_module_version": "1.5.0",
            "_model_name": "DescriptionStyleModel",
            "_view_count": null,
            "_view_module": "@jupyter-widgets/base",
            "_view_module_version": "1.2.0",
            "_view_name": "StyleView",
            "description_width": ""
          }
        }
      }
    }
  },
  "cells": [
    {
      "cell_type": "markdown",
      "source": [
        "#Sentence Analysis"
      ],
      "metadata": {
        "id": "EySQOeNXO0VC"
      }
    },
    {
      "cell_type": "code",
      "source": [
        "from google.colab import drive\n",
        "drive.mount('/content/drive')"
      ],
      "metadata": {
        "colab": {
          "base_uri": "https://localhost:8080/"
        },
        "id": "MSdU2qeqWX3p",
        "outputId": "26d29b9d-769c-471f-e95e-c2d5183b1e77"
      },
      "execution_count": null,
      "outputs": [
        {
          "output_type": "stream",
          "name": "stdout",
          "text": [
            "Drive already mounted at /content/drive; to attempt to forcibly remount, call drive.mount(\"/content/drive\", force_remount=True).\n"
          ]
        }
      ]
    },
    {
      "cell_type": "code",
      "source": [
        "!pip install --quiet \"deplacy\" \"trankit\" \"transformers\""
      ],
      "metadata": {
        "id": "UioWVYRRO61a"
      },
      "execution_count": null,
      "outputs": []
    },
    {
      "cell_type": "code",
      "source": [
        "import deplacy\n",
        "\n",
        "import trankit\n",
        "nlp_parser = trankit.Pipeline(lang=\"english\", gpu=True)"
      ],
      "metadata": {
        "id": "0kkEfCpyW9iZ",
        "colab": {
          "base_uri": "https://localhost:8080/"
        },
        "outputId": "f90590be-2fc9-4b32-964a-74f01fecfade"
      },
      "execution_count": null,
      "outputs": [
        {
          "output_type": "stream",
          "name": "stdout",
          "text": [
            "Loading pretrained XLM-Roberta, this may take a while...\n",
            "Loading tokenizer for english\n",
            "Loading tagger for english\n",
            "Loading lemmatizer for english\n",
            "Loading NER tagger for english\n",
            "==================================================\n",
            "Active language: english\n",
            "==================================================\n"
          ]
        }
      ]
    },
    {
      "cell_type": "code",
      "source": [
        "%cd /content/drive/MyDrive/IELTS_Score"
      ],
      "metadata": {
        "colab": {
          "base_uri": "https://localhost:8080/"
        },
        "id": "HDs5GIrXWojk",
        "outputId": "e2c60634-d381-45e5-c7ea-32c9970b9bf7"
      },
      "execution_count": null,
      "outputs": [
        {
          "output_type": "stream",
          "name": "stdout",
          "text": [
            "/content/drive/MyDrive/IELTS_Score\n"
          ]
        }
      ]
    },
    {
      "cell_type": "code",
      "source": [
        "%cd /content"
      ],
      "metadata": {
        "colab": {
          "base_uri": "https://localhost:8080/"
        },
        "id": "8IW4gpmXOU7o",
        "outputId": "67e475d9-6b0b-4a29-b920-065cf65139dc"
      },
      "execution_count": null,
      "outputs": [
        {
          "output_type": "stream",
          "name": "stdout",
          "text": [
            "/content\n"
          ]
        }
      ]
    },
    {
      "cell_type": "code",
      "source": [
        "import pandas as pd"
      ],
      "metadata": {
        "id": "4seYFqugWsVT"
      },
      "execution_count": null,
      "outputs": []
    },
    {
      "cell_type": "markdown",
      "source": [
        "##1.Simple, compound, complex sentence"
      ],
      "metadata": {
        "id": "euqF2AjBreTU"
      }
    },
    {
      "cell_type": "markdown",
      "source": [
        "###Simple sentence"
      ],
      "metadata": {
        "id": "YHuhEPC_4d4o"
      }
    },
    {
      "cell_type": "code",
      "source": [
        "simple_sentences = [\n",
        "                    'Learning English is important nowadays.', # S-V\n",
        "                    'Learning English and computer using are important nowadays.', # SS-V\n",
        "                    'I play some video games and learn English on my computer.', # S-VV\n",
        "                    'My sister and I play some video games and learn English on our computer.', # SS-VV\n",
        "]"
      ],
      "metadata": {
        "id": "6Ak0WRjep2cl"
      },
      "execution_count": null,
      "outputs": []
    },
    {
      "cell_type": "code",
      "source": [
        "for sentence in simple_sentences:\n",
        "    deplacy.serve(nlp_parser(sentence), port=None)\n"
      ],
      "metadata": {
        "colab": {
          "base_uri": "https://localhost:8080/",
          "height": 1000
        },
        "id": "DlVYKZhOo5Lr",
        "outputId": "a0d65afa-b0bd-40e9-bbb3-7c4b9b7173d0"
      },
      "execution_count": null,
      "outputs": [
        {
          "output_type": "display_data",
          "data": {
            "text/plain": [
              "<IPython.lib.display.IFrame at 0x7f0a21593580>"
            ],
            "text/html": [
              "\n",
              "        <iframe\n",
              "            width=\"100%\"\n",
              "            height=\"400\"\n",
              "            src=\"https://koichiyasuoka.github.io/deplacy/deplacy/editor.html#1%09Learning%09learn%09VERB%09VBG%09VerbForm%3DGer%094%09csubj%09_%09start_char%3D0%7Cend_char%3D8%0A2%09English%09English%09PROPN%09NNP%09Number%3DSing%091%09obj%09_%09start_char%3D9%7Cend_char%3D16%0A3%09is%09be%09AUX%09VBZ%09Mood%3DInd%7CNumber%3DSing%7CPerson%3D3%7CTense%3DPres%7CVerbForm%3DFin%094%09cop%09_%09start_char%3D17%7Cend_char%3D19%0A4%09important%09important%09ADJ%09JJ%09Degree%3DPos%090%09root%09_%09start_char%3D20%7Cend_char%3D29%0A5%09nowadays%09nowadays%09ADV%09RB%09_%094%09advmod%09_%09start_char%3D30%7Cend_char%3D38%0A6%09.%09.%09PUNCT%09.%09_%094%09punct%09_%09start_char%3D38%7Cend_char%3D39%0A%0A\"\n",
              "            frameborder=\"0\"\n",
              "            allowfullscreen\n",
              "        ></iframe>\n",
              "        "
            ]
          },
          "metadata": {}
        },
        {
          "output_type": "display_data",
          "data": {
            "text/plain": [
              "<IPython.lib.display.IFrame at 0x7f0a215930d0>"
            ],
            "text/html": [
              "\n",
              "        <iframe\n",
              "            width=\"100%\"\n",
              "            height=\"400\"\n",
              "            src=\"https://koichiyasuoka.github.io/deplacy/deplacy/editor.html#1%09Learning%09learn%09VERB%09VBG%09VerbForm%3DGer%097%09csubj%09_%09start_char%3D0%7Cend_char%3D8%0A2%09English%09English%09PROPN%09NNP%09Number%3DSing%091%09obj%09_%09start_char%3D9%7Cend_char%3D16%0A3%09and%09and%09CCONJ%09CC%09_%095%09cc%09_%09start_char%3D17%7Cend_char%3D20%0A4%09computer%09computer%09NOUN%09NN%09Number%3DSing%095%09compound%09_%09start_char%3D21%7Cend_char%3D29%0A5%09using%09use%09NOUN%09NN%09Number%3DSing%091%09conj%09_%09start_char%3D30%7Cend_char%3D35%0A6%09are%09be%09AUX%09VBP%09Mood%3DInd%7CTense%3DPres%7CVerbForm%3DFin%097%09cop%09_%09start_char%3D36%7Cend_char%3D39%0A7%09important%09important%09ADJ%09JJ%09Degree%3DPos%090%09root%09_%09start_char%3D40%7Cend_char%3D49%0A8%09nowadays%09nowadays%09ADV%09RB%09_%097%09advmod%09_%09start_char%3D50%7Cend_char%3D58%0A9%09.%09.%09PUNCT%09.%09_%097%09punct%09_%09start_char%3D58%7Cend_char%3D59%0A%0A\"\n",
              "            frameborder=\"0\"\n",
              "            allowfullscreen\n",
              "        ></iframe>\n",
              "        "
            ]
          },
          "metadata": {}
        },
        {
          "output_type": "display_data",
          "data": {
            "text/plain": [
              "<IPython.lib.display.IFrame at 0x7f0a21593b20>"
            ],
            "text/html": [
              "\n",
              "        <iframe\n",
              "            width=\"100%\"\n",
              "            height=\"400\"\n",
              "            src=\"https://koichiyasuoka.github.io/deplacy/deplacy/editor.html#1%09I%09I%09PRON%09PRP%09Case%3DNom%7CNumber%3DSing%7CPerson%3D1%7CPronType%3DPrs%092%09nsubj%09_%09start_char%3D0%7Cend_char%3D1%0A2%09play%09play%09VERB%09VBP%09Mood%3DInd%7CTense%3DPres%7CVerbForm%3DFin%090%09root%09_%09start_char%3D2%7Cend_char%3D6%0A3%09some%09some%09DET%09DT%09_%095%09det%09_%09start_char%3D7%7Cend_char%3D11%0A4%09video%09video%09NOUN%09NN%09Number%3DSing%095%09compound%09_%09start_char%3D12%7Cend_char%3D17%0A5%09games%09game%09NOUN%09NNS%09Number%3DPlur%092%09obj%09_%09start_char%3D18%7Cend_char%3D23%0A6%09and%09and%09CCONJ%09CC%09_%097%09cc%09_%09start_char%3D24%7Cend_char%3D27%0A7%09learn%09learn%09VERB%09VBP%09Mood%3DInd%7CTense%3DPres%7CVerbForm%3DFin%092%09conj%09_%09start_char%3D28%7Cend_char%3D33%0A8%09English%09English%09PROPN%09NNP%09Number%3DSing%097%09obj%09_%09start_char%3D34%7Cend_char%3D41%0A9%09on%09on%09ADP%09IN%09_%0911%09case%09_%09start_char%3D42%7Cend_char%3D44%0A10%09my%09my%09PRON%09PRP%24%09Number%3DSing%7CPerson%3D1%7CPoss%3DYes%7CPronType%3DPrs%0911%09nmod%3Aposs%09_%09start_char%3D45%7Cend_char%3D47%0A11%09computer%09computer%09NOUN%09NN%09Number%3DSing%097%09obl%09_%09start_char%3D48%7Cend_char%3D56%0A12%09.%09.%09PUNCT%09.%09_%092%09punct%09_%09start_char%3D56%7Cend_char%3D57%0A%0A\"\n",
              "            frameborder=\"0\"\n",
              "            allowfullscreen\n",
              "        ></iframe>\n",
              "        "
            ]
          },
          "metadata": {}
        },
        {
          "output_type": "display_data",
          "data": {
            "text/plain": [
              "<IPython.lib.display.IFrame at 0x7f0a3050c880>"
            ],
            "text/html": [
              "\n",
              "        <iframe\n",
              "            width=\"100%\"\n",
              "            height=\"400\"\n",
              "            src=\"https://koichiyasuoka.github.io/deplacy/deplacy/editor.html#1%09My%09my%09PRON%09PRP%24%09Number%3DSing%7CPerson%3D1%7CPoss%3DYes%7CPronType%3DPrs%092%09nmod%3Aposs%09_%09start_char%3D0%7Cend_char%3D2%0A2%09sister%09sister%09NOUN%09NN%09Number%3DSing%095%09nsubj%09_%09start_char%3D3%7Cend_char%3D9%0A3%09and%09and%09CCONJ%09CC%09_%094%09cc%09_%09start_char%3D10%7Cend_char%3D13%0A4%09I%09I%09PRON%09PRP%09Case%3DNom%7CNumber%3DSing%7CPerson%3D1%7CPronType%3DPrs%092%09conj%09_%09start_char%3D14%7Cend_char%3D15%0A5%09play%09play%09VERB%09VBP%09Mood%3DInd%7CTense%3DPres%7CVerbForm%3DFin%090%09root%09_%09start_char%3D16%7Cend_char%3D20%0A6%09some%09some%09DET%09DT%09_%098%09det%09_%09start_char%3D21%7Cend_char%3D25%0A7%09video%09video%09NOUN%09NN%09Number%3DSing%098%09compound%09_%09start_char%3D26%7Cend_char%3D31%0A8%09games%09game%09NOUN%09NNS%09Number%3DPlur%095%09obj%09_%09start_char%3D32%7Cend_char%3D37%0A9%09and%09and%09CCONJ%09CC%09_%0910%09cc%09_%09start_char%3D38%7Cend_char%3D41%0A10%09learn%09learn%09VERB%09VBP%09Mood%3DInd%7CTense%3DPres%7CVerbForm%3DFin%095%09conj%09_%09start_char%3D42%7Cend_char%3D47%0A11%09English%09English%09PROPN%09NNP%09Number%3DSing%0910%09obj%09_%09start_char%3D48%7Cend_char%3D55%0A12%09on%09on%09ADP%09IN%09_%0914%09case%09_%09start_char%3D56%7Cend_char%3D58%0A13%09our%09we%09PRON%09PRP%24%09Number%3DPlur%7CPerson%3D1%7CPoss%3DYes%7CPronType%3DPrs%0914%09nmod%3Aposs%09_%09start_char%3D59%7Cend_char%3D62%0A14%09computer%09computer%09NOUN%09NN%09Number%3DSing%0910%09obl%09_%09start_char%3D63%7Cend_char%3D71%0A15%09.%09.%09PUNCT%09.%09_%095%09punct%09_%09start_char%3D71%7Cend_char%3D72%0A%0A\"\n",
              "            frameborder=\"0\"\n",
              "            allowfullscreen\n",
              "        ></iframe>\n",
              "        "
            ]
          },
          "metadata": {}
        }
      ]
    },
    {
      "cell_type": "markdown",
      "source": [
        "###Compound sentence"
      ],
      "metadata": {
        "id": "2-AS3SNArl_b"
      }
    },
    {
      "cell_type": "code",
      "source": [
        "# Use conjuntions: F:for, A:and, N:nor, B:but, O:or, Y:yet, S:so\n",
        "\n",
        "compound_sentences = [\n",
        "                      'Playing video game is fun, but it can be dangerous too.',\n",
        "                      'Nature does not hurry, yet everything is accomplished.',\n",
        "                      'I am working now, but we will eat later. ',\n",
        "                      'Playing video game is fun, but it can be dangerous too, we must be careful.'\n",
        "]"
      ],
      "metadata": {
        "id": "WyS1C0lIro_M"
      },
      "execution_count": null,
      "outputs": []
    },
    {
      "cell_type": "code",
      "source": [
        "for sentence in compound_sentences:\n",
        "    deplacy.serve(nlp_parser(sentence), port=None)"
      ],
      "metadata": {
        "colab": {
          "base_uri": "https://localhost:8080/",
          "height": 1000
        },
        "id": "ofK3-U31syZe",
        "outputId": "ffcf93dc-74d1-4252-e9ce-1cfdc37fb114"
      },
      "execution_count": null,
      "outputs": [
        {
          "output_type": "display_data",
          "data": {
            "text/plain": [
              "<IPython.lib.display.IFrame at 0x7f0a2158dee0>"
            ],
            "text/html": [
              "\n",
              "        <iframe\n",
              "            width=\"100%\"\n",
              "            height=\"400\"\n",
              "            src=\"https://koichiyasuoka.github.io/deplacy/deplacy/editor.html#1%09Playing%09play%09VERB%09VBG%09VerbForm%3DGer%095%09csubj%09_%09start_char%3D0%7Cend_char%3D7%0A2%09video%09video%09NOUN%09NN%09Number%3DSing%093%09compound%09_%09start_char%3D8%7Cend_char%3D13%0A3%09game%09game%09NOUN%09NN%09Number%3DSing%091%09obj%09_%09start_char%3D14%7Cend_char%3D18%0A4%09is%09be%09AUX%09VBZ%09Mood%3DInd%7CNumber%3DSing%7CPerson%3D3%7CTense%3DPres%7CVerbForm%3DFin%095%09cop%09_%09start_char%3D19%7Cend_char%3D21%0A5%09fun%09fun%09ADJ%09JJ%09Degree%3DPos%090%09root%09_%09start_char%3D22%7Cend_char%3D25%0A6%09%2C%09%2C%09PUNCT%09%2C%09_%0911%09punct%09_%09start_char%3D25%7Cend_char%3D26%0A7%09but%09but%09CCONJ%09CC%09_%0911%09cc%09_%09start_char%3D27%7Cend_char%3D30%0A8%09it%09it%09PRON%09PRP%09Case%3DNom%7CGender%3DNeut%7CNumber%3DSing%7CPerson%3D3%7CPronType%3DPrs%0911%09nsubj%09_%09start_char%3D31%7Cend_char%3D33%0A9%09can%09can%09AUX%09MD%09VerbForm%3DFin%0911%09aux%09_%09start_char%3D34%7Cend_char%3D37%0A10%09be%09be%09AUX%09VB%09VerbForm%3DInf%0911%09cop%09_%09start_char%3D38%7Cend_char%3D40%0A11%09dangerous%09dangerous%09ADJ%09JJ%09Degree%3DPos%095%09conj%09_%09start_char%3D41%7Cend_char%3D50%0A12%09too%09too%09ADV%09RB%09_%0911%09advmod%09_%09start_char%3D51%7Cend_char%3D54%0A13%09.%09.%09PUNCT%09.%09_%095%09punct%09_%09start_char%3D54%7Cend_char%3D55%0A%0A\"\n",
              "            frameborder=\"0\"\n",
              "            allowfullscreen\n",
              "        ></iframe>\n",
              "        "
            ]
          },
          "metadata": {}
        },
        {
          "output_type": "display_data",
          "data": {
            "text/plain": [
              "<IPython.lib.display.IFrame at 0x7f0a2158ddf0>"
            ],
            "text/html": [
              "\n",
              "        <iframe\n",
              "            width=\"100%\"\n",
              "            height=\"400\"\n",
              "            src=\"https://koichiyasuoka.github.io/deplacy/deplacy/editor.html#1%09Nature%09nature%09NOUN%09NN%09Number%3DSing%094%09nsubj%09_%09start_char%3D0%7Cend_char%3D6%0A2%09does%09do%09AUX%09VBZ%09Mood%3DInd%7CNumber%3DSing%7CPerson%3D3%7CTense%3DPres%7CVerbForm%3DFin%094%09aux%09_%09start_char%3D7%7Cend_char%3D11%0A3%09not%09not%09PART%09RB%09_%094%09advmod%09_%09start_char%3D12%7Cend_char%3D15%0A4%09hurry%09hurry%09VERB%09VB%09VerbForm%3DInf%090%09root%09_%09start_char%3D16%7Cend_char%3D21%0A5%09%2C%09%2C%09PUNCT%09%2C%09_%099%09punct%09_%09start_char%3D21%7Cend_char%3D22%0A6%09yet%09yet%09CCONJ%09CC%09_%099%09cc%09_%09start_char%3D23%7Cend_char%3D26%0A7%09everything%09everything%09PRON%09NN%09Number%3DSing%099%09nsubj%3Apass%09_%09start_char%3D27%7Cend_char%3D37%0A8%09is%09be%09AUX%09VBZ%09Mood%3DInd%7CNumber%3DSing%7CPerson%3D3%7CTense%3DPres%7CVerbForm%3DFin%099%09aux%3Apass%09_%09start_char%3D38%7Cend_char%3D40%0A9%09accomplished%09accomplish%09VERB%09VBN%09Tense%3DPast%7CVerbForm%3DPart%7CVoice%3DPass%094%09conj%09_%09start_char%3D41%7Cend_char%3D53%0A10%09.%09.%09PUNCT%09.%09_%094%09punct%09_%09start_char%3D53%7Cend_char%3D54%0A%0A\"\n",
              "            frameborder=\"0\"\n",
              "            allowfullscreen\n",
              "        ></iframe>\n",
              "        "
            ]
          },
          "metadata": {}
        },
        {
          "output_type": "display_data",
          "data": {
            "text/plain": [
              "<IPython.lib.display.IFrame at 0x7f0a2158ddc0>"
            ],
            "text/html": [
              "\n",
              "        <iframe\n",
              "            width=\"100%\"\n",
              "            height=\"400\"\n",
              "            src=\"https://koichiyasuoka.github.io/deplacy/deplacy/editor.html#1%09I%09I%09PRON%09PRP%09Case%3DNom%7CNumber%3DSing%7CPerson%3D1%7CPronType%3DPrs%093%09nsubj%09_%09start_char%3D0%7Cend_char%3D1%0A2%09am%09be%09AUX%09VBP%09Mood%3DInd%7CNumber%3DSing%7CPerson%3D1%7CTense%3DPres%7CVerbForm%3DFin%093%09aux%09_%09start_char%3D2%7Cend_char%3D4%0A3%09working%09work%09VERB%09VBG%09Tense%3DPres%7CVerbForm%3DPart%090%09root%09_%09start_char%3D5%7Cend_char%3D12%0A4%09now%09now%09ADV%09RB%09_%093%09advmod%09_%09start_char%3D13%7Cend_char%3D16%0A5%09%2C%09%2C%09PUNCT%09%2C%09_%099%09punct%09_%09start_char%3D16%7Cend_char%3D17%0A6%09but%09but%09CCONJ%09CC%09_%099%09cc%09_%09start_char%3D18%7Cend_char%3D21%0A7%09we%09we%09PRON%09PRP%09Case%3DNom%7CNumber%3DPlur%7CPerson%3D1%7CPronType%3DPrs%099%09nsubj%09_%09start_char%3D22%7Cend_char%3D24%0A8%09will%09will%09AUX%09MD%09VerbForm%3DFin%099%09aux%09_%09start_char%3D25%7Cend_char%3D29%0A9%09eat%09eat%09VERB%09VB%09VerbForm%3DInf%093%09conj%09_%09start_char%3D30%7Cend_char%3D33%0A10%09later%09later%09ADV%09RB%09_%099%09advmod%09_%09start_char%3D34%7Cend_char%3D39%0A11%09.%09.%09PUNCT%09.%09_%093%09punct%09_%09start_char%3D39%7Cend_char%3D40%0A%0A\"\n",
              "            frameborder=\"0\"\n",
              "            allowfullscreen\n",
              "        ></iframe>\n",
              "        "
            ]
          },
          "metadata": {}
        },
        {
          "output_type": "display_data",
          "data": {
            "text/plain": [
              "<IPython.lib.display.IFrame at 0x7f0a2158dee0>"
            ],
            "text/html": [
              "\n",
              "        <iframe\n",
              "            width=\"100%\"\n",
              "            height=\"400\"\n",
              "            src=\"https://koichiyasuoka.github.io/deplacy/deplacy/editor.html#1%09Playing%09play%09VERB%09VBG%09VerbForm%3DGer%095%09csubj%09_%09start_char%3D0%7Cend_char%3D7%0A2%09video%09video%09NOUN%09NN%09Number%3DSing%093%09compound%09_%09start_char%3D8%7Cend_char%3D13%0A3%09game%09game%09NOUN%09NN%09Number%3DSing%091%09obj%09_%09start_char%3D14%7Cend_char%3D18%0A4%09is%09be%09AUX%09VBZ%09Mood%3DInd%7CNumber%3DSing%7CPerson%3D3%7CTense%3DPres%7CVerbForm%3DFin%095%09cop%09_%09start_char%3D19%7Cend_char%3D21%0A5%09fun%09fun%09ADJ%09JJ%09Degree%3DPos%090%09root%09_%09start_char%3D22%7Cend_char%3D25%0A6%09%2C%09%2C%09PUNCT%09%2C%09_%0911%09punct%09_%09start_char%3D25%7Cend_char%3D26%0A7%09but%09but%09CCONJ%09CC%09_%0911%09cc%09_%09start_char%3D27%7Cend_char%3D30%0A8%09it%09it%09PRON%09PRP%09Case%3DNom%7CGender%3DNeut%7CNumber%3DSing%7CPerson%3D3%7CPronType%3DPrs%0911%09nsubj%09_%09start_char%3D31%7Cend_char%3D33%0A9%09can%09can%09AUX%09MD%09VerbForm%3DFin%0911%09aux%09_%09start_char%3D34%7Cend_char%3D37%0A10%09be%09be%09AUX%09VB%09VerbForm%3DInf%0911%09cop%09_%09start_char%3D38%7Cend_char%3D40%0A11%09dangerous%09dangerous%09ADJ%09JJ%09Degree%3DPos%095%09conj%09_%09start_char%3D41%7Cend_char%3D50%0A12%09too%09too%09ADV%09RB%09_%0911%09advmod%09_%09start_char%3D51%7Cend_char%3D54%0A13%09%2C%09%2C%09PUNCT%09%2C%09_%095%09punct%09_%09start_char%3D54%7Cend_char%3D55%0A14%09we%09we%09PRON%09PRP%09Case%3DNom%7CNumber%3DPlur%7CPerson%3D1%7CPronType%3DPrs%0917%09nsubj%09_%09start_char%3D56%7Cend_char%3D58%0A15%09must%09must%09AUX%09MD%09VerbForm%3DFin%0917%09aux%09_%09start_char%3D59%7Cend_char%3D63%0A16%09be%09be%09AUX%09VB%09VerbForm%3DInf%0917%09cop%09_%09start_char%3D64%7Cend_char%3D66%0A17%09careful%09careful%09ADJ%09JJ%09Degree%3DPos%095%09parataxis%09_%09start_char%3D67%7Cend_char%3D74%0A18%09.%09.%09PUNCT%09.%09_%095%09punct%09_%09start_char%3D74%7Cend_char%3D75%0A%0A\"\n",
              "            frameborder=\"0\"\n",
              "            allowfullscreen\n",
              "        ></iframe>\n",
              "        "
            ]
          },
          "metadata": {}
        }
      ]
    },
    {
      "cell_type": "markdown",
      "source": [
        "###Complex sentence"
      ],
      "metadata": {
        "id": "DhAMvyF0t7yo"
      }
    },
    {
      "cell_type": "code",
      "source": [
        "# combine independent clauses with subordinate clauses\n",
        "# use subordinating conjunction\n",
        "\n",
        "complex_sentences = [\n",
        "                    'Because I am working now, we will eat later. ',\n",
        "                    'He always takes time to cover carefully his daughter even though he is extremely busy.',\n",
        "                    'You should think about money saving from now if you want to study abroad.',\n",
        "                    'Even though he is busy, he always takes time to cover carefully his daughter.'\n",
        "]"
      ],
      "metadata": {
        "id": "NyXokJkWt-t8"
      },
      "execution_count": null,
      "outputs": []
    },
    {
      "cell_type": "code",
      "source": [
        "for sentence in complex_sentences:\n",
        "    deplacy.serve(nlp_parser(sentence), port=None)"
      ],
      "metadata": {
        "colab": {
          "base_uri": "https://localhost:8080/",
          "height": 1000
        },
        "id": "OMOdbVA9uy0k",
        "outputId": "108428c2-80e7-40ca-c4a3-3f6c04f973e9"
      },
      "execution_count": null,
      "outputs": [
        {
          "output_type": "display_data",
          "data": {
            "text/plain": [
              "<IPython.lib.display.IFrame at 0x7f0a215932e0>"
            ],
            "text/html": [
              "\n",
              "        <iframe\n",
              "            width=\"100%\"\n",
              "            height=\"400\"\n",
              "            src=\"https://koichiyasuoka.github.io/deplacy/deplacy/editor.html#1%09Because%09because%09SCONJ%09IN%09_%094%09mark%09_%09start_char%3D0%7Cend_char%3D7%0A2%09I%09I%09PRON%09PRP%09Case%3DNom%7CNumber%3DSing%7CPerson%3D1%7CPronType%3DPrs%094%09nsubj%09_%09start_char%3D8%7Cend_char%3D9%0A3%09am%09be%09AUX%09VBP%09Mood%3DInd%7CNumber%3DSing%7CPerson%3D1%7CTense%3DPres%7CVerbForm%3DFin%094%09aux%09_%09start_char%3D10%7Cend_char%3D12%0A4%09working%09work%09VERB%09VBG%09Tense%3DPres%7CVerbForm%3DPart%099%09advcl%09_%09start_char%3D13%7Cend_char%3D20%0A5%09now%09now%09ADV%09RB%09_%094%09advmod%09_%09start_char%3D21%7Cend_char%3D24%0A6%09%2C%09%2C%09PUNCT%09%2C%09_%099%09punct%09_%09start_char%3D24%7Cend_char%3D25%0A7%09we%09we%09PRON%09PRP%09Case%3DNom%7CNumber%3DPlur%7CPerson%3D1%7CPronType%3DPrs%099%09nsubj%09_%09start_char%3D26%7Cend_char%3D28%0A8%09will%09will%09AUX%09MD%09VerbForm%3DFin%099%09aux%09_%09start_char%3D29%7Cend_char%3D33%0A9%09eat%09eat%09VERB%09VB%09VerbForm%3DInf%090%09root%09_%09start_char%3D34%7Cend_char%3D37%0A10%09later%09later%09ADV%09RB%09_%099%09advmod%09_%09start_char%3D38%7Cend_char%3D43%0A11%09.%09.%09PUNCT%09.%09_%099%09punct%09_%09start_char%3D43%7Cend_char%3D44%0A%0A\"\n",
              "            frameborder=\"0\"\n",
              "            allowfullscreen\n",
              "        ></iframe>\n",
              "        "
            ]
          },
          "metadata": {}
        },
        {
          "output_type": "display_data",
          "data": {
            "text/plain": [
              "<IPython.lib.display.IFrame at 0x7f0a21593c10>"
            ],
            "text/html": [
              "\n",
              "        <iframe\n",
              "            width=\"100%\"\n",
              "            height=\"400\"\n",
              "            src=\"https://koichiyasuoka.github.io/deplacy/deplacy/editor.html#1%09He%09he%09PRON%09PRP%09Case%3DNom%7CGender%3DMasc%7CNumber%3DSing%7CPerson%3D3%7CPronType%3DPrs%093%09nsubj%09_%09start_char%3D0%7Cend_char%3D2%0A2%09always%09always%09ADV%09RB%09_%093%09advmod%09_%09start_char%3D3%7Cend_char%3D9%0A3%09takes%09take%09VERB%09VBZ%09Mood%3DInd%7CNumber%3DSing%7CPerson%3D3%7CTense%3DPres%7CVerbForm%3DFin%090%09root%09_%09start_char%3D10%7Cend_char%3D15%0A4%09time%09time%09NOUN%09NN%09Number%3DSing%093%09obj%09_%09start_char%3D16%7Cend_char%3D20%0A5%09to%09to%09PART%09TO%09_%096%09mark%09_%09start_char%3D21%7Cend_char%3D23%0A6%09cover%09cover%09VERB%09VB%09VerbForm%3DInf%093%09advcl%09_%09start_char%3D24%7Cend_char%3D29%0A7%09carefully%09carefully%09ADV%09RB%09_%096%09advmod%09_%09start_char%3D30%7Cend_char%3D39%0A8%09his%09he%09PRON%09PRP%24%09Gender%3DMasc%7CNumber%3DSing%7CPerson%3D3%7CPoss%3DYes%7CPronType%3DPrs%099%09nmod%3Aposs%09_%09start_char%3D40%7Cend_char%3D43%0A9%09daughter%09daughter%09NOUN%09NN%09Number%3DSing%096%09obj%09_%09start_char%3D44%7Cend_char%3D52%0A10%09even%09even%09ADV%09RB%09_%0915%09advmod%09_%09start_char%3D53%7Cend_char%3D57%0A11%09though%09though%09SCONJ%09IN%09_%0915%09mark%09_%09start_char%3D58%7Cend_char%3D64%0A12%09he%09he%09PRON%09PRP%09Case%3DNom%7CGender%3DMasc%7CNumber%3DSing%7CPerson%3D3%7CPronType%3DPrs%0915%09nsubj%09_%09start_char%3D65%7Cend_char%3D67%0A13%09is%09be%09AUX%09VBZ%09Mood%3DInd%7CNumber%3DSing%7CPerson%3D3%7CTense%3DPres%7CVerbForm%3DFin%0915%09cop%09_%09start_char%3D68%7Cend_char%3D70%0A14%09extremely%09extremely%09ADV%09RB%09_%0915%09advmod%09_%09start_char%3D71%7Cend_char%3D80%0A15%09busy%09busy%09ADJ%09JJ%09Degree%3DPos%093%09advcl%09_%09start_char%3D81%7Cend_char%3D85%0A16%09.%09.%09PUNCT%09.%09_%093%09punct%09_%09start_char%3D85%7Cend_char%3D86%0A%0A\"\n",
              "            frameborder=\"0\"\n",
              "            allowfullscreen\n",
              "        ></iframe>\n",
              "        "
            ]
          },
          "metadata": {}
        },
        {
          "output_type": "display_data",
          "data": {
            "text/plain": [
              "<IPython.lib.display.IFrame at 0x7f0b406b5ac0>"
            ],
            "text/html": [
              "\n",
              "        <iframe\n",
              "            width=\"100%\"\n",
              "            height=\"400\"\n",
              "            src=\"https://koichiyasuoka.github.io/deplacy/deplacy/editor.html#1%09You%09you%09PRON%09PRP%09Case%3DNom%7CPerson%3D2%7CPronType%3DPrs%093%09nsubj%09_%09start_char%3D0%7Cend_char%3D3%0A2%09should%09should%09AUX%09MD%09VerbForm%3DFin%093%09aux%09_%09start_char%3D4%7Cend_char%3D10%0A3%09think%09think%09VERB%09VB%09VerbForm%3DInf%090%09root%09_%09start_char%3D11%7Cend_char%3D16%0A4%09about%09about%09ADP%09IN%09_%096%09mark%09_%09start_char%3D17%7Cend_char%3D22%0A5%09money%09money%09NOUN%09NN%09Number%3DSing%096%09obl%3Anpmod%09_%09start_char%3D23%7Cend_char%3D28%0A6%09saving%09save%09VERB%09VBG%09VerbForm%3DGer%093%09advcl%09_%09start_char%3D29%7Cend_char%3D35%0A7%09from%09from%09ADP%09IN%09_%098%09case%09_%09start_char%3D36%7Cend_char%3D40%0A8%09now%09now%09ADV%09RB%09_%093%09obl%09_%09start_char%3D41%7Cend_char%3D44%0A9%09if%09if%09SCONJ%09IN%09_%0911%09mark%09_%09start_char%3D45%7Cend_char%3D47%0A10%09you%09you%09PRON%09PRP%09Case%3DNom%7CPerson%3D2%7CPronType%3DPrs%0911%09nsubj%09_%09start_char%3D48%7Cend_char%3D51%0A11%09want%09want%09VERB%09VBP%09Mood%3DInd%7CTense%3DPres%7CVerbForm%3DFin%093%09advcl%09_%09start_char%3D52%7Cend_char%3D56%0A12%09to%09to%09PART%09TO%09_%0913%09mark%09_%09start_char%3D57%7Cend_char%3D59%0A13%09study%09study%09VERB%09VB%09VerbForm%3DInf%0911%09xcomp%09_%09start_char%3D60%7Cend_char%3D65%0A14%09abroad%09abroad%09ADV%09RB%09_%0913%09advmod%09_%09start_char%3D66%7Cend_char%3D72%0A15%09.%09.%09PUNCT%09.%09_%093%09punct%09_%09start_char%3D72%7Cend_char%3D73%0A%0A\"\n",
              "            frameborder=\"0\"\n",
              "            allowfullscreen\n",
              "        ></iframe>\n",
              "        "
            ]
          },
          "metadata": {}
        },
        {
          "output_type": "display_data",
          "data": {
            "text/plain": [
              "<IPython.lib.display.IFrame at 0x7f0b406b5ac0>"
            ],
            "text/html": [
              "\n",
              "        <iframe\n",
              "            width=\"100%\"\n",
              "            height=\"400\"\n",
              "            src=\"https://koichiyasuoka.github.io/deplacy/deplacy/editor.html#1%09Even%09even%09ADV%09RB%09_%095%09advmod%09_%09start_char%3D0%7Cend_char%3D4%0A2%09though%09though%09SCONJ%09IN%09_%095%09mark%09_%09start_char%3D5%7Cend_char%3D11%0A3%09he%09he%09PRON%09PRP%09Case%3DNom%7CGender%3DMasc%7CNumber%3DSing%7CPerson%3D3%7CPronType%3DPrs%095%09nsubj%09_%09start_char%3D12%7Cend_char%3D14%0A4%09is%09be%09AUX%09VBZ%09Mood%3DInd%7CNumber%3DSing%7CPerson%3D3%7CTense%3DPres%7CVerbForm%3DFin%095%09cop%09_%09start_char%3D15%7Cend_char%3D17%0A5%09busy%09busy%09ADJ%09JJ%09Degree%3DPos%099%09advcl%09_%09start_char%3D18%7Cend_char%3D22%0A6%09%2C%09%2C%09PUNCT%09%2C%09_%099%09punct%09_%09start_char%3D22%7Cend_char%3D23%0A7%09he%09he%09PRON%09PRP%09Case%3DNom%7CGender%3DMasc%7CNumber%3DSing%7CPerson%3D3%7CPronType%3DPrs%099%09nsubj%09_%09start_char%3D24%7Cend_char%3D26%0A8%09always%09always%09ADV%09RB%09_%099%09advmod%09_%09start_char%3D27%7Cend_char%3D33%0A9%09takes%09take%09VERB%09VBZ%09Mood%3DInd%7CNumber%3DSing%7CPerson%3D3%7CTense%3DPres%7CVerbForm%3DFin%090%09root%09_%09start_char%3D34%7Cend_char%3D39%0A10%09time%09time%09NOUN%09NN%09Number%3DSing%099%09obj%09_%09start_char%3D40%7Cend_char%3D44%0A11%09to%09to%09PART%09TO%09_%0912%09mark%09_%09start_char%3D45%7Cend_char%3D47%0A12%09cover%09cover%09VERB%09VB%09VerbForm%3DInf%099%09advcl%09_%09start_char%3D48%7Cend_char%3D53%0A13%09carefully%09carefully%09ADV%09RB%09_%0912%09advmod%09_%09start_char%3D54%7Cend_char%3D63%0A14%09his%09he%09PRON%09PRP%24%09Gender%3DMasc%7CNumber%3DSing%7CPerson%3D3%7CPoss%3DYes%7CPronType%3DPrs%0915%09nmod%3Aposs%09_%09start_char%3D64%7Cend_char%3D67%0A15%09daughter%09daughter%09NOUN%09NN%09Number%3DSing%0912%09obj%09_%09start_char%3D68%7Cend_char%3D76%0A16%09.%09.%09PUNCT%09.%09_%099%09punct%09_%09start_char%3D76%7Cend_char%3D77%0A%0A\"\n",
              "            frameborder=\"0\"\n",
              "            allowfullscreen\n",
              "        ></iframe>\n",
              "        "
            ]
          },
          "metadata": {}
        }
      ]
    },
    {
      "cell_type": "markdown",
      "source": [
        "###Passive voice sentence"
      ],
      "metadata": {
        "id": "Bj15_P6L5zxr"
      }
    },
    {
      "cell_type": "code",
      "source": [
        "passive_sentences = [\n",
        "                     'The house was being painted when I arrived.',\n",
        "                     'Over 20 models have been produced in the past two years.'\n",
        "]"
      ],
      "metadata": {
        "id": "-KzYwuFQ53d3"
      },
      "execution_count": null,
      "outputs": []
    },
    {
      "cell_type": "code",
      "source": [
        "for sentence in passive_sentences:\n",
        "    deplacy.serve(nlp_parser(sentence), port=None)"
      ],
      "metadata": {
        "colab": {
          "base_uri": "https://localhost:8080/",
          "height": 826
        },
        "id": "8G0-FAM06Jjz",
        "outputId": "9e23b141-047c-41ac-8c5f-5e02ba0d0021"
      },
      "execution_count": null,
      "outputs": [
        {
          "output_type": "display_data",
          "data": {
            "text/plain": [
              "<IPython.lib.display.IFrame at 0x7f0b406b5ac0>"
            ],
            "text/html": [
              "\n",
              "        <iframe\n",
              "            width=\"100%\"\n",
              "            height=\"400\"\n",
              "            src=\"https://koichiyasuoka.github.io/deplacy/deplacy/editor.html#1%09The%09the%09DET%09DT%09Definite%3DDef%7CPronType%3DArt%092%09det%09_%09start_char%3D0%7Cend_char%3D3%0A2%09house%09house%09NOUN%09NN%09Number%3DSing%095%09nsubj%3Apass%09_%09start_char%3D4%7Cend_char%3D9%0A3%09was%09be%09AUX%09VBD%09Mood%3DInd%7CNumber%3DSing%7CPerson%3D3%7CTense%3DPast%7CVerbForm%3DFin%095%09aux%09_%09start_char%3D10%7Cend_char%3D13%0A4%09being%09be%09AUX%09VBG%09VerbForm%3DGer%095%09aux%3Apass%09_%09start_char%3D14%7Cend_char%3D19%0A5%09painted%09paint%09VERB%09VBN%09Tense%3DPast%7CVerbForm%3DPart%7CVoice%3DPass%090%09root%09_%09start_char%3D20%7Cend_char%3D27%0A6%09when%09when%09ADV%09WRB%09PronType%3DInt%098%09mark%09_%09start_char%3D28%7Cend_char%3D32%0A7%09I%09I%09PRON%09PRP%09Case%3DNom%7CNumber%3DSing%7CPerson%3D1%7CPronType%3DPrs%098%09nsubj%09_%09start_char%3D33%7Cend_char%3D34%0A8%09arrived%09arrive%09VERB%09VBD%09Mood%3DInd%7CTense%3DPast%7CVerbForm%3DFin%095%09advcl%09_%09start_char%3D35%7Cend_char%3D42%0A9%09.%09.%09PUNCT%09.%09_%095%09punct%09_%09start_char%3D42%7Cend_char%3D43%0A%0A\"\n",
              "            frameborder=\"0\"\n",
              "            allowfullscreen\n",
              "        ></iframe>\n",
              "        "
            ]
          },
          "metadata": {}
        },
        {
          "output_type": "display_data",
          "data": {
            "text/plain": [
              "<IPython.lib.display.IFrame at 0x7f0b406b5ac0>"
            ],
            "text/html": [
              "\n",
              "        <iframe\n",
              "            width=\"100%\"\n",
              "            height=\"400\"\n",
              "            src=\"https://koichiyasuoka.github.io/deplacy/deplacy/editor.html#1%09Over%09over%09ADV%09RB%09_%092%09advmod%09_%09start_char%3D0%7Cend_char%3D4%0A2%0920%0920%09NUM%09CD%09NumType%3DCard%093%09nummod%09_%09start_char%3D5%7Cend_char%3D7%0A3%09models%09model%09NOUN%09NNS%09Number%3DPlur%096%09nsubj%3Apass%09_%09start_char%3D8%7Cend_char%3D14%0A4%09have%09have%09AUX%09VBP%09Mood%3DInd%7CTense%3DPres%7CVerbForm%3DFin%096%09aux%09_%09start_char%3D15%7Cend_char%3D19%0A5%09been%09be%09AUX%09VBN%09Tense%3DPast%7CVerbForm%3DPart%096%09aux%3Apass%09_%09start_char%3D20%7Cend_char%3D24%0A6%09produced%09produce%09VERB%09VBN%09Tense%3DPast%7CVerbForm%3DPart%7CVoice%3DPass%090%09root%09_%09start_char%3D25%7Cend_char%3D33%0A7%09in%09in%09ADP%09IN%09_%0911%09case%09_%09start_char%3D34%7Cend_char%3D36%0A8%09the%09the%09DET%09DT%09Definite%3DDef%7CPronType%3DArt%0911%09det%09_%09start_char%3D37%7Cend_char%3D40%0A9%09past%09past%09ADJ%09JJ%09Degree%3DPos%0911%09amod%09_%09start_char%3D41%7Cend_char%3D45%0A10%09two%09two%09NUM%09CD%09NumType%3DCard%0911%09nummod%09_%09start_char%3D46%7Cend_char%3D49%0A11%09years%09year%09NOUN%09NNS%09Number%3DPlur%096%09obl%09_%09start_char%3D50%7Cend_char%3D55%0A12%09.%09.%09PUNCT%09.%09_%096%09punct%09_%09start_char%3D55%7Cend_char%3D56%0A%0A\"\n",
              "            frameborder=\"0\"\n",
              "            allowfullscreen\n",
              "        ></iframe>\n",
              "        "
            ]
          },
          "metadata": {}
        }
      ]
    },
    {
      "cell_type": "markdown",
      "source": [
        "###Sentence Classifier"
      ],
      "metadata": {
        "id": "MarBnrlVeurP"
      }
    },
    {
      "cell_type": "code",
      "source": [
        "from collections import Counter\n",
        "import pandas as pd"
      ],
      "metadata": {
        "id": "LkgoR-S-gI_f"
      },
      "execution_count": null,
      "outputs": []
    },
    {
      "cell_type": "code",
      "source": [
        "import trankit\n",
        "nlp_parser = trankit.Pipeline(lang=\"english\", gpu=True)\n",
        "\n",
        "def nlp_sentence_parser(text):\n",
        "    sentences, nlp_sentences = [], []\n",
        "    for nlp_sentence in nlp_parser(text)['sentences']:\n",
        "        sentence = nlp_sentence['text']\n",
        "        nlp_sentence = nlp_sentence['tokens']\n",
        "        pos_dep = [(nlp['text'], nlp['xpos'], nlp['upos'],\n",
        "                    nlp['deprel'], nlp['head']) for nlp in nlp_sentence]\n",
        "\n",
        "        sentences.append(sentence)\n",
        "        nlp_sentences.append(pos_dep)\n",
        "\n",
        "    return sentences, nlp_sentences"
      ],
      "metadata": {
        "id": "75ERd9RLoDQb",
        "colab": {
          "base_uri": "https://localhost:8080/"
        },
        "outputId": "8ca3afb5-4638-4707-f1ce-887d58f4fdb1"
      },
      "execution_count": null,
      "outputs": [
        {
          "output_type": "stream",
          "name": "stdout",
          "text": [
            "Loading pretrained XLM-Roberta, this may take a while...\n",
            "Loading tokenizer for english\n",
            "Loading tagger for english\n",
            "Loading lemmatizer for english\n",
            "Loading NER tagger for english\n",
            "==================================================\n",
            "Active language: english\n",
            "==================================================\n"
          ]
        }
      ]
    },
    {
      "cell_type": "code",
      "source": [
        "nlp_sentence_parser(\"I go to school\")"
      ],
      "metadata": {
        "colab": {
          "base_uri": "https://localhost:8080/"
        },
        "id": "RSXlXvgst2bA",
        "outputId": "a26dd775-8ede-4041-b7b4-94637a81f7ec"
      },
      "execution_count": null,
      "outputs": [
        {
          "output_type": "execute_result",
          "data": {
            "text/plain": [
              "(['I go to school'],\n",
              " [[('I', 'PRP', 'PRON', 'nsubj', 2),\n",
              "   ('go', 'VBP', 'VERB', 'root', 0),\n",
              "   ('to', 'IN', 'ADP', 'case', 4),\n",
              "   ('school', 'NN', 'NOUN', 'obl', 2)]])"
            ]
          },
          "metadata": {},
          "execution_count": 26
        }
      ]
    },
    {
      "cell_type": "code",
      "source": [
        "subject_tags = ['csubj', 'csubj:pass', 'nsubj', 'nsubj:pass', 'xsubj']\n",
        "\n",
        "def sentence_classifier(question_respond: str) -> dict:\n",
        "    simple_sentences, compound_sentences, complex_sentences, passive_sentences = [], [], [], []\n",
        "\n",
        "    sentences, nlp_sentences = nlp_sentence_parser(question_respond)\n",
        "    for idx, (sentence, nlp_sentence) in enumerate(list(zip(sentences, nlp_sentences))):\n",
        "        adv_clause_counter, mark_counter = 0, 0\n",
        "        subject_tag_counter, wh_clause_counter = 0, 0\n",
        "\n",
        "        for idx, word_nlp in enumerate(nlp_sentence):\n",
        "            text, xpos, upos, deprel, head = word_nlp\n",
        "            if deprel == 'advmod' and upos == 'ADV':\n",
        "                if xpos == 'WRB':\n",
        "                    wh_clause_counter += 1\n",
        "                else:\n",
        "                    sub_nlp = nlp_sentence[idx:head] if idx < head else nlp_sentence[head:idx]\n",
        "                    sub_nlp_counter = Counter([word_nlp[3] for word_nlp in sub_nlp])\n",
        "                    sub_subject_tag = sum([sub_nlp_counter[subj] for subj in subject_tags])\n",
        "                    adv_clause_counter += sub_subject_tag\n",
        "            if deprel == 'mark':\n",
        "                mark_counter += 1\n",
        "            if deprel in subject_tags:\n",
        "                subject_tag_counter += 1\n",
        "        if mark_counter>=1 or adv_clause_counter>=1 or wh_clause_counter>=1:\n",
        "            complex_sentences.append(sentence)\n",
        "        elif mark_counter==0 and subject_tag_counter==1:\n",
        "            simple_sentences.append(sentence)\n",
        "        else:\n",
        "            compound_sentences.append(sentence)\n",
        "\n",
        "        # check passive voice sentence\n",
        "        dep_sentence = [word_nlp[3] for word_nlp in nlp_sentence]\n",
        "        if 'nsubj:pass' in dep_sentence and 'aux:pass' in dep_sentence:\n",
        "            passive_sentences.append(sentence)\n",
        "\n",
        "    return {\n",
        "        'simple-sentences': simple_sentences,\n",
        "        'compound-sentences': compound_sentences,\n",
        "        'complex-sentences': complex_sentences,\n",
        "        'passive-sentences':passive_sentences\n",
        "    }"
      ],
      "metadata": {
        "id": "H5wCf4jne1OZ"
      },
      "execution_count": null,
      "outputs": []
    },
    {
      "cell_type": "code",
      "source": [
        "\"\".join(simple_sentences + compound_sentences + complex_sentences)"
      ],
      "metadata": {
        "colab": {
          "base_uri": "https://localhost:8080/",
          "height": 87
        },
        "id": "qplrP99fG0MP",
        "outputId": "b05a4b3f-2015-40b5-8da2-4984f4fe7266"
      },
      "execution_count": null,
      "outputs": [
        {
          "output_type": "execute_result",
          "data": {
            "text/plain": [
              "'Learning English is important nowadays.Learning English and computer using are important nowadays.I play some video games and learn English on my computer.My sister and I play some video games and learn English on our computer.Playing video game is fun, but it can be dangerous too.Nature does not hurry, yet everything is accomplished.I am working now, but we will eat later. Playing video game is fun, but it can be dangerous too, we must be careful.Because I am working now, we will eat later. He always takes time to cover carefully his daughter even though he is extremely busy.You should think about money saving from now if you want to study abroad.Even though he is busy, he always takes time to cover carefully his daughter.'"
            ],
            "application/vnd.google.colaboratory.intrinsic+json": {
              "type": "string"
            }
          },
          "metadata": {},
          "execution_count": 28
        }
      ]
    },
    {
      "cell_type": "code",
      "source": [
        "sentence_classifier(\"\".join(simple_sentences + compound_sentences + complex_sentences))"
      ],
      "metadata": {
        "colab": {
          "base_uri": "https://localhost:8080/"
        },
        "id": "ugXZlxJAg1-b",
        "outputId": "56aa18a3-fab6-40d2-e293-eca8aa9d899a"
      },
      "execution_count": null,
      "outputs": [
        {
          "output_type": "execute_result",
          "data": {
            "text/plain": [
              "{'simple-sentences': ['Learning English is important nowadays.',\n",
              "  'Learning English and computer using are important nowadays.',\n",
              "  'I play some video games and learn English on my computer.',\n",
              "  'My sister and I play some video games and learn English on our computer.'],\n",
              " 'compound-sentences': ['Playing video game is fun, but it can be dangerous too.',\n",
              "  'Nature does not hurry, yet everything is accomplished.',\n",
              "  'I am working now, but we will eat later.',\n",
              "  'Playing video game is fun, but it can be dangerous too, we must be careful.'],\n",
              " 'complex-sentences': ['Because I am working now, we will eat later.',\n",
              "  'He always takes time to cover carefully his daughter even though he is extremely busy.',\n",
              "  'You should think about money saving from now if you want to study abroad.',\n",
              "  'Even though he is busy, he always takes time to cover carefully his daughter.'],\n",
              " 'passive-sentences': ['Nature does not hurry, yet everything is accomplished.']}"
            ]
          },
          "metadata": {},
          "execution_count": 29
        }
      ]
    },
    {
      "cell_type": "markdown",
      "source": [
        "**Some subordinating conjunctions**"
      ],
      "metadata": {
        "id": "MnxENCbz3oR7"
      }
    },
    {
      "cell_type": "code",
      "source": [
        "!gdown 1WVxp5TXBu5ZOpMIP8wfbOpQU_VipMGgL\n",
        "!unzip subordinating_conjunctions_test.zip"
      ],
      "metadata": {
        "id": "fNwiJCQpla17",
        "colab": {
          "base_uri": "https://localhost:8080/"
        },
        "outputId": "f7969119-c1db-4c54-a853-2b660bae3469"
      },
      "execution_count": null,
      "outputs": [
        {
          "output_type": "stream",
          "name": "stdout",
          "text": [
            "Downloading...\n",
            "From: https://drive.google.com/uc?id=1WVxp5TXBu5ZOpMIP8wfbOpQU_VipMGgL\n",
            "To: /content/subordinating_conjunctions_test.zip\n",
            "\r  0% 0.00/4.02k [00:00<?, ?B/s]\r100% 4.02k/4.02k [00:00<00:00, 6.79MB/s]\n",
            "Archive:  subordinating_conjunctions_test.zip\n",
            "  inflating: subordinating_conjunctions_test.csv  \n"
          ]
        }
      ]
    },
    {
      "cell_type": "code",
      "source": [
        "cj_df = pd.read_csv(\"./subordinating_conjunctions_test.csv\")\n",
        "cj_df"
      ],
      "metadata": {
        "colab": {
          "base_uri": "https://localhost:8080/",
          "height": 424
        },
        "id": "S30Xg6UllpPv",
        "outputId": "5878dd81-8ead-45ef-8fff-28c07561b94a"
      },
      "execution_count": null,
      "outputs": [
        {
          "output_type": "execute_result",
          "data": {
            "text/plain": [
              "      id                                               text           gt\n",
              "0      1   John plays games after he finishes his homework.        after\n",
              "1      2  Even though she is seriously ill, she still go...  even though\n",
              "2      3  Sara begins to sneeze whenever she opens the w...     whenever\n",
              "3      4                I go out after doing the housework.        after\n",
              "4      5  Mike did not forget to greet everyone before l...       before\n",
              "..   ...                                                ...          ...\n",
              "121  122  She seemed undecided about whether to stay or go.      whether\n",
              "122  123   He did my task while I was away from the office.        while\n",
              "123  124  Do you know the person who is standing near th...          who\n",
              "124  125                Whoever wins will get a cash prize.      whoever\n",
              "125  126        Why do people throw garbage on the streets?          why\n",
              "\n",
              "[126 rows x 3 columns]"
            ],
            "text/html": [
              "\n",
              "  <div id=\"df-cf010783-9a6b-4835-8f43-bed7bd15f7f1\">\n",
              "    <div class=\"colab-df-container\">\n",
              "      <div>\n",
              "<style scoped>\n",
              "    .dataframe tbody tr th:only-of-type {\n",
              "        vertical-align: middle;\n",
              "    }\n",
              "\n",
              "    .dataframe tbody tr th {\n",
              "        vertical-align: top;\n",
              "    }\n",
              "\n",
              "    .dataframe thead th {\n",
              "        text-align: right;\n",
              "    }\n",
              "</style>\n",
              "<table border=\"1\" class=\"dataframe\">\n",
              "  <thead>\n",
              "    <tr style=\"text-align: right;\">\n",
              "      <th></th>\n",
              "      <th>id</th>\n",
              "      <th>text</th>\n",
              "      <th>gt</th>\n",
              "    </tr>\n",
              "  </thead>\n",
              "  <tbody>\n",
              "    <tr>\n",
              "      <th>0</th>\n",
              "      <td>1</td>\n",
              "      <td>John plays games after he finishes his homework.</td>\n",
              "      <td>after</td>\n",
              "    </tr>\n",
              "    <tr>\n",
              "      <th>1</th>\n",
              "      <td>2</td>\n",
              "      <td>Even though she is seriously ill, she still go...</td>\n",
              "      <td>even though</td>\n",
              "    </tr>\n",
              "    <tr>\n",
              "      <th>2</th>\n",
              "      <td>3</td>\n",
              "      <td>Sara begins to sneeze whenever she opens the w...</td>\n",
              "      <td>whenever</td>\n",
              "    </tr>\n",
              "    <tr>\n",
              "      <th>3</th>\n",
              "      <td>4</td>\n",
              "      <td>I go out after doing the housework.</td>\n",
              "      <td>after</td>\n",
              "    </tr>\n",
              "    <tr>\n",
              "      <th>4</th>\n",
              "      <td>5</td>\n",
              "      <td>Mike did not forget to greet everyone before l...</td>\n",
              "      <td>before</td>\n",
              "    </tr>\n",
              "    <tr>\n",
              "      <th>...</th>\n",
              "      <td>...</td>\n",
              "      <td>...</td>\n",
              "      <td>...</td>\n",
              "    </tr>\n",
              "    <tr>\n",
              "      <th>121</th>\n",
              "      <td>122</td>\n",
              "      <td>She seemed undecided about whether to stay or go.</td>\n",
              "      <td>whether</td>\n",
              "    </tr>\n",
              "    <tr>\n",
              "      <th>122</th>\n",
              "      <td>123</td>\n",
              "      <td>He did my task while I was away from the office.</td>\n",
              "      <td>while</td>\n",
              "    </tr>\n",
              "    <tr>\n",
              "      <th>123</th>\n",
              "      <td>124</td>\n",
              "      <td>Do you know the person who is standing near th...</td>\n",
              "      <td>who</td>\n",
              "    </tr>\n",
              "    <tr>\n",
              "      <th>124</th>\n",
              "      <td>125</td>\n",
              "      <td>Whoever wins will get a cash prize.</td>\n",
              "      <td>whoever</td>\n",
              "    </tr>\n",
              "    <tr>\n",
              "      <th>125</th>\n",
              "      <td>126</td>\n",
              "      <td>Why do people throw garbage on the streets?</td>\n",
              "      <td>why</td>\n",
              "    </tr>\n",
              "  </tbody>\n",
              "</table>\n",
              "<p>126 rows × 3 columns</p>\n",
              "</div>\n",
              "      <button class=\"colab-df-convert\" onclick=\"convertToInteractive('df-cf010783-9a6b-4835-8f43-bed7bd15f7f1')\"\n",
              "              title=\"Convert this dataframe to an interactive table.\"\n",
              "              style=\"display:none;\">\n",
              "        \n",
              "  <svg xmlns=\"http://www.w3.org/2000/svg\" height=\"24px\"viewBox=\"0 0 24 24\"\n",
              "       width=\"24px\">\n",
              "    <path d=\"M0 0h24v24H0V0z\" fill=\"none\"/>\n",
              "    <path d=\"M18.56 5.44l.94 2.06.94-2.06 2.06-.94-2.06-.94-.94-2.06-.94 2.06-2.06.94zm-11 1L8.5 8.5l.94-2.06 2.06-.94-2.06-.94L8.5 2.5l-.94 2.06-2.06.94zm10 10l.94 2.06.94-2.06 2.06-.94-2.06-.94-.94-2.06-.94 2.06-2.06.94z\"/><path d=\"M17.41 7.96l-1.37-1.37c-.4-.4-.92-.59-1.43-.59-.52 0-1.04.2-1.43.59L10.3 9.45l-7.72 7.72c-.78.78-.78 2.05 0 2.83L4 21.41c.39.39.9.59 1.41.59.51 0 1.02-.2 1.41-.59l7.78-7.78 2.81-2.81c.8-.78.8-2.07 0-2.86zM5.41 20L4 18.59l7.72-7.72 1.47 1.35L5.41 20z\"/>\n",
              "  </svg>\n",
              "      </button>\n",
              "      \n",
              "  <style>\n",
              "    .colab-df-container {\n",
              "      display:flex;\n",
              "      flex-wrap:wrap;\n",
              "      gap: 12px;\n",
              "    }\n",
              "\n",
              "    .colab-df-convert {\n",
              "      background-color: #E8F0FE;\n",
              "      border: none;\n",
              "      border-radius: 50%;\n",
              "      cursor: pointer;\n",
              "      display: none;\n",
              "      fill: #1967D2;\n",
              "      height: 32px;\n",
              "      padding: 0 0 0 0;\n",
              "      width: 32px;\n",
              "    }\n",
              "\n",
              "    .colab-df-convert:hover {\n",
              "      background-color: #E2EBFA;\n",
              "      box-shadow: 0px 1px 2px rgba(60, 64, 67, 0.3), 0px 1px 3px 1px rgba(60, 64, 67, 0.15);\n",
              "      fill: #174EA6;\n",
              "    }\n",
              "\n",
              "    [theme=dark] .colab-df-convert {\n",
              "      background-color: #3B4455;\n",
              "      fill: #D2E3FC;\n",
              "    }\n",
              "\n",
              "    [theme=dark] .colab-df-convert:hover {\n",
              "      background-color: #434B5C;\n",
              "      box-shadow: 0px 1px 3px 1px rgba(0, 0, 0, 0.15);\n",
              "      filter: drop-shadow(0px 1px 2px rgba(0, 0, 0, 0.3));\n",
              "      fill: #FFFFFF;\n",
              "    }\n",
              "  </style>\n",
              "\n",
              "      <script>\n",
              "        const buttonEl =\n",
              "          document.querySelector('#df-cf010783-9a6b-4835-8f43-bed7bd15f7f1 button.colab-df-convert');\n",
              "        buttonEl.style.display =\n",
              "          google.colab.kernel.accessAllowed ? 'block' : 'none';\n",
              "\n",
              "        async function convertToInteractive(key) {\n",
              "          const element = document.querySelector('#df-cf010783-9a6b-4835-8f43-bed7bd15f7f1');\n",
              "          const dataTable =\n",
              "            await google.colab.kernel.invokeFunction('convertToInteractive',\n",
              "                                                     [key], {});\n",
              "          if (!dataTable) return;\n",
              "\n",
              "          const docLinkHtml = 'Like what you see? Visit the ' +\n",
              "            '<a target=\"_blank\" href=https://colab.research.google.com/notebooks/data_table.ipynb>data table notebook</a>'\n",
              "            + ' to learn more about interactive tables.';\n",
              "          element.innerHTML = '';\n",
              "          dataTable['output_type'] = 'display_data';\n",
              "          await google.colab.output.renderOutput(dataTable, element);\n",
              "          const docLink = document.createElement('div');\n",
              "          docLink.innerHTML = docLinkHtml;\n",
              "          element.appendChild(docLink);\n",
              "        }\n",
              "      </script>\n",
              "    </div>\n",
              "  </div>\n",
              "  "
            ]
          },
          "metadata": {},
          "execution_count": 31
        }
      ]
    },
    {
      "cell_type": "code",
      "source": [
        "infor_sentences = sentence_classifier(\". \".join(cj_df.text))"
      ],
      "metadata": {
        "id": "d-V0dYsylvP1"
      },
      "execution_count": null,
      "outputs": []
    },
    {
      "cell_type": "code",
      "source": [
        "len(infor_sentences['complex-sentences'])/len(cj_df)"
      ],
      "metadata": {
        "colab": {
          "base_uri": "https://localhost:8080/"
        },
        "id": "YWj7-KmDmMEL",
        "outputId": "5c980c5b-7bee-451e-a902-ab76f5665d6f"
      },
      "execution_count": null,
      "outputs": [
        {
          "output_type": "execute_result",
          "data": {
            "text/plain": [
              "0.8968253968253969"
            ]
          },
          "metadata": {},
          "execution_count": 33
        }
      ]
    },
    {
      "cell_type": "code",
      "source": [
        "infor_sentences['passive-sentences']"
      ],
      "metadata": {
        "colab": {
          "base_uri": "https://localhost:8080/"
        },
        "id": "aOU9-vak7hfk",
        "outputId": "308eef3b-0298-4d1b-bc31-a16edef3476b"
      },
      "execution_count": null,
      "outputs": [
        {
          "output_type": "execute_result",
          "data": {
            "text/plain": [
              "['The lion is so fierce as he is painted.',\n",
              " 'When I was young, I cried for hours after my dog was run over.',\n",
              " 'Even if you perform your best, you won’t be appreciated..',\n",
              " 'Now that everything is under control, the lockdown can be lifted..']"
            ]
          },
          "metadata": {},
          "execution_count": 34
        }
      ]
    },
    {
      "cell_type": "code",
      "source": [
        "sentence_classifier(\". \".join(passive_sentences))['passive-sentences']"
      ],
      "metadata": {
        "colab": {
          "base_uri": "https://localhost:8080/"
        },
        "id": "ZUzwiB307VrD",
        "outputId": "6323db80-0b68-433b-9789-232b4f38ed41"
      },
      "execution_count": null,
      "outputs": [
        {
          "output_type": "execute_result",
          "data": {
            "text/plain": [
              "['The house was being painted when I arrived..',\n",
              " 'Over 20 models have been produced in the past two years.']"
            ]
          },
          "metadata": {},
          "execution_count": 35
        }
      ]
    },
    {
      "cell_type": "markdown",
      "source": [
        "##2.Paraphrase sentence"
      ],
      "metadata": {
        "id": "xqQHwb1l8Aa0"
      }
    },
    {
      "cell_type": "code",
      "source": [
        "!pip install transformers"
      ],
      "metadata": {
        "id": "LHUKrbmc8wRV",
        "colab": {
          "base_uri": "https://localhost:8080/"
        },
        "outputId": "fd15e1af-6b4b-4bb7-b5a3-fdfe0c7ce815"
      },
      "execution_count": null,
      "outputs": [
        {
          "output_type": "stream",
          "name": "stdout",
          "text": [
            "Looking in indexes: https://pypi.org/simple, https://us-python.pkg.dev/colab-wheels/public/simple/\n",
            "Requirement already satisfied: transformers in /usr/local/lib/python3.8/dist-packages (4.26.1)\n",
            "Requirement already satisfied: numpy>=1.17 in /usr/local/lib/python3.8/dist-packages (from transformers) (1.21.6)\n",
            "Requirement already satisfied: packaging>=20.0 in /usr/local/lib/python3.8/dist-packages (from transformers) (23.0)\n",
            "Requirement already satisfied: huggingface-hub<1.0,>=0.11.0 in /usr/local/lib/python3.8/dist-packages (from transformers) (0.12.0)\n",
            "Requirement already satisfied: pyyaml>=5.1 in /usr/local/lib/python3.8/dist-packages (from transformers) (6.0)\n",
            "Requirement already satisfied: regex!=2019.12.17 in /usr/local/lib/python3.8/dist-packages (from transformers) (2022.6.2)\n",
            "Requirement already satisfied: requests in /usr/local/lib/python3.8/dist-packages (from transformers) (2.25.1)\n",
            "Requirement already satisfied: tqdm>=4.27 in /usr/local/lib/python3.8/dist-packages (from transformers) (4.64.1)\n",
            "Requirement already satisfied: tokenizers!=0.11.3,<0.14,>=0.11.1 in /usr/local/lib/python3.8/dist-packages (from transformers) (0.13.2)\n",
            "Requirement already satisfied: filelock in /usr/local/lib/python3.8/dist-packages (from transformers) (3.9.0)\n",
            "Requirement already satisfied: typing-extensions>=3.7.4.3 in /usr/local/lib/python3.8/dist-packages (from huggingface-hub<1.0,>=0.11.0->transformers) (4.4.0)\n",
            "Requirement already satisfied: urllib3<1.27,>=1.21.1 in /usr/local/lib/python3.8/dist-packages (from requests->transformers) (1.24.3)\n",
            "Requirement already satisfied: chardet<5,>=3.0.2 in /usr/local/lib/python3.8/dist-packages (from requests->transformers) (4.0.0)\n",
            "Requirement already satisfied: idna<3,>=2.5 in /usr/local/lib/python3.8/dist-packages (from requests->transformers) (2.10)\n",
            "Requirement already satisfied: certifi>=2017.4.17 in /usr/local/lib/python3.8/dist-packages (from requests->transformers) (2022.12.7)\n"
          ]
        }
      ]
    },
    {
      "cell_type": "code",
      "source": [
        "import string\n",
        "import nltk\n",
        "nltk.download('punkt')\n",
        "from nltk.tokenize import sent_tokenize, word_tokenize\n",
        "\n",
        "import torch\n",
        "from transformers import AutoTokenizer, AutoModelForSequenceClassification"
      ],
      "metadata": {
        "id": "uuu6Czkk803I",
        "colab": {
          "base_uri": "https://localhost:8080/"
        },
        "outputId": "15797a04-3047-4f35-d2fd-d137e3992e08"
      },
      "execution_count": null,
      "outputs": [
        {
          "output_type": "stream",
          "name": "stderr",
          "text": [
            "[nltk_data] Downloading package punkt to /root/nltk_data...\n",
            "[nltk_data]   Unzipping tokenizers/punkt.zip.\n"
          ]
        }
      ]
    },
    {
      "cell_type": "code",
      "source": [
        "# MRPC RoBERTa Base Model\n",
        "mrpc_model = \"textattack/roberta-base-MRPC\"\n",
        "mrpc_tokenizer = AutoTokenizer.from_pretrained(mrpc_model)\n",
        "mrpc_classifier = AutoModelForSequenceClassification.from_pretrained(mrpc_model)"
      ],
      "metadata": {
        "id": "8zqPOnxr8Hmp",
        "colab": {
          "base_uri": "https://localhost:8080/",
          "height": 281,
          "referenced_widgets": [
            "0912f6726711471387a9747ae907db68",
            "127b827ac573449bb6db5fec3d80792a",
            "ae02cc34043e4aa5984595238c3b48e2",
            "9cbc2b694c604bc1877f70f6affcec58",
            "bc6b3e32bfac40ef8a70353b8b784711",
            "496721608a1c494380922871243c124b",
            "7e013a47082c44c88e5ad4e98dfaa13d",
            "8bed7382951d4ad4a57ed49500dd8819",
            "140fb280c54d4a3da1153b0a199d3401",
            "107e30752db64aa3813a79224c976292",
            "591287ccdede4fc2b13908b9f7401533",
            "d5b34aa66424431e8c627737cf7899db",
            "bd1522b99061472fa527a65ef856f5f4",
            "b1456a2468764a369984730a6bd5c0d3",
            "b9b97d29ea84479ba29e4962688a6917",
            "4bcacd0b1a4940f9915288da81a38021",
            "38364ab27f40497db18979f70314d062",
            "14ea851eb14d4dc1a527a3c2214a70d9",
            "a38bf44fd98644af9265e3641e1a2df9",
            "134cacec1c1c421191ae91909b584962",
            "9228d243cde3423db211ed146ea190fd",
            "0a0c705d6726450d9b21c2aee65313a4",
            "ae597bf995584c08801a7ea6623df8ea",
            "76a15cbaafd84cad8d6c42b8c0fb5ebb",
            "f4d9cb341812445ab56cc63ca422141b",
            "2f0f4e7002a34532b81659b1039edad3",
            "a1a6602d401a4d2faac38d5297db56bd",
            "b15cb210bd2c43ffbe67487178840614",
            "c82a7029a1d94345a11eebf34c3d417e",
            "c785af0ef66b42808e9baf34e7d3b7db",
            "67aa2922728f4c5f9e9e106e1d19a03a",
            "7f6edcbaf34a440f80c1fb9983e70e45",
            "7bf42ab4e80f4ca2a9d8a04e6e1a16b3",
            "6108267777b54a818eef6b3b36c81bdc",
            "1f6bd7829fb6410595014ba664a9a765",
            "5db5fc4db7ff4a8ea1e2d05e3bd2795b",
            "28bf565c4adf4d569f13c253be446980",
            "fc656ce71dcb43cea13269628061e7ad",
            "99df9abf45b1463799c2aad826388862",
            "6ee47af0121b461882cf6c36f43ed1ea",
            "1bd73095a0354f629d36b50bcf29ba6a",
            "a8e44ed21feb4bf288237e80a949f7dc",
            "40045701291744b3a47b338dba502f06",
            "bd8987013f664765bf4568b39713fe2d",
            "1d1d327e372f4c9c8fec687f61816628",
            "f04fd724d6f640dea7c542eefbf384db",
            "4b745eb615ec40779f3c6de6751f6c73",
            "060793a54d494decbbcd174b7c309626",
            "545ed7cb384c4c03920717ca37d82a83",
            "31942c16b22f48e3946e52d4ea78828a",
            "ca45401c76e845e396af43017892177b",
            "399e687936574e0785c49325c11c978c",
            "2b9afb410e1e47b6927f937403d65491",
            "81cc2bbb058249dfa5d81fddf4d61e4f",
            "97fbf44765aa4d939c0155ac24f47a69",
            "5070263ca6ab4d89a5abeb57d3fae687",
            "955cdedb24c44c7c9c195ef3e7f07441",
            "065f93086124437cb9a67f65e0efa5b7",
            "6866cf97eed54854a3e48e2357f55a16",
            "05003931698c451dac35a5d8b83525a1",
            "c4e76a9403814afe841701cae755839f",
            "9f804be7a492426ba3d3f6a32a96c800",
            "c857b4332f6844f6860900fb9cf6a9f4",
            "7d7457a0390345afa4dee4824e4d08fb",
            "4d125a2ff0df48c1aac94c1bb87a3f18",
            "771921c94be940de9ebf80325da86cf9"
          ]
        },
        "outputId": "540e820b-54d7-453f-d316-100ea2b41e8d"
      },
      "execution_count": null,
      "outputs": [
        {
          "output_type": "display_data",
          "data": {
            "text/plain": [
              "Downloading (…)okenizer_config.json:   0%|          | 0.00/25.0 [00:00<?, ?B/s]"
            ],
            "application/vnd.jupyter.widget-view+json": {
              "version_major": 2,
              "version_minor": 0,
              "model_id": "0912f6726711471387a9747ae907db68"
            }
          },
          "metadata": {}
        },
        {
          "output_type": "display_data",
          "data": {
            "text/plain": [
              "Downloading (…)lve/main/config.json:   0%|          | 0.00/564 [00:00<?, ?B/s]"
            ],
            "application/vnd.jupyter.widget-view+json": {
              "version_major": 2,
              "version_minor": 0,
              "model_id": "d5b34aa66424431e8c627737cf7899db"
            }
          },
          "metadata": {}
        },
        {
          "output_type": "display_data",
          "data": {
            "text/plain": [
              "Downloading (…)olve/main/vocab.json:   0%|          | 0.00/798k [00:00<?, ?B/s]"
            ],
            "application/vnd.jupyter.widget-view+json": {
              "version_major": 2,
              "version_minor": 0,
              "model_id": "ae597bf995584c08801a7ea6623df8ea"
            }
          },
          "metadata": {}
        },
        {
          "output_type": "display_data",
          "data": {
            "text/plain": [
              "Downloading (…)olve/main/merges.txt:   0%|          | 0.00/456k [00:00<?, ?B/s]"
            ],
            "application/vnd.jupyter.widget-view+json": {
              "version_major": 2,
              "version_minor": 0,
              "model_id": "6108267777b54a818eef6b3b36c81bdc"
            }
          },
          "metadata": {}
        },
        {
          "output_type": "display_data",
          "data": {
            "text/plain": [
              "Downloading (…)cial_tokens_map.json:   0%|          | 0.00/239 [00:00<?, ?B/s]"
            ],
            "application/vnd.jupyter.widget-view+json": {
              "version_major": 2,
              "version_minor": 0,
              "model_id": "1d1d327e372f4c9c8fec687f61816628"
            }
          },
          "metadata": {}
        },
        {
          "output_type": "display_data",
          "data": {
            "text/plain": [
              "Downloading (…)\"pytorch_model.bin\";:   0%|          | 0.00/501M [00:00<?, ?B/s]"
            ],
            "application/vnd.jupyter.widget-view+json": {
              "version_major": 2,
              "version_minor": 0,
              "model_id": "5070263ca6ab4d89a5abeb57d3fae687"
            }
          },
          "metadata": {}
        },
        {
          "output_type": "stream",
          "name": "stderr",
          "text": [
            "Some weights of the model checkpoint at textattack/roberta-base-MRPC were not used when initializing RobertaForSequenceClassification: ['roberta.pooler.dense.bias', 'roberta.pooler.dense.weight']\n",
            "- This IS expected if you are initializing RobertaForSequenceClassification from the checkpoint of a model trained on another task or with another architecture (e.g. initializing a BertForSequenceClassification model from a BertForPreTraining model).\n",
            "- This IS NOT expected if you are initializing RobertaForSequenceClassification from the checkpoint of a model that you expect to be exactly identical (initializing a BertForSequenceClassification model from a BertForSequenceClassification model).\n"
          ]
        }
      ]
    },
    {
      "cell_type": "code",
      "source": [
        "def preprocess_text(text, remove_special_character=True):\n",
        "    replace_chars = list(string.punctuation.replace(\"'\", \"\").replace(\"-\", \"\").replace(\".\", \"\").replace(\",\", \"\"))\n",
        "    try:\n",
        "      if remove_special_character:\n",
        "          for char in replace_chars:\n",
        "              text = text.replace(char, \" \")\n",
        "      else:\n",
        "          for char in replace_chars:\n",
        "              text = text.replace(char, \" \" + char +\" \")\n",
        "      text = text.lower()\n",
        "\n",
        "      return \" \".join(text.split())\n",
        "    except:\n",
        "      print(text)"
      ],
      "metadata": {
        "id": "xHFqxymo90BD"
      },
      "execution_count": null,
      "outputs": []
    },
    {
      "cell_type": "code",
      "source": [
        "def check_paraphrased(text: str, threshold_paraphsed=0.65):\n",
        "    sentences = sent_tokenize(text)\n",
        "    pair_sentences, idx_sentences = [], []\n",
        "    for idx1 in range(len(sentences)-1):\n",
        "        for idx2 in range(idx1+1, len(sentences)):\n",
        "                idx_sentences.append((idx1, idx2))\n",
        "                sentence_1 = preprocess_text(sentences[idx1], True)\n",
        "                sentence_2 = preprocess_text(sentences[idx2], True)\n",
        "                pair_sentences.append((sentence_1, sentence_2))\n",
        "\n",
        "    tokens = mrpc_tokenizer.batch_encode_plus(pair_sentences, max_length=64,\n",
        "                                              padding='max_length',\n",
        "                                              truncation=True,\n",
        "                                              return_attention_mask=True,\n",
        "                                              return_tensors=\"pt\")\n",
        "    classification_logits = mrpc_classifier(**tokens)\n",
        "    results = torch.softmax(classification_logits['logits'], dim=1).tolist()\n",
        "\n",
        "    paraphrased_sentences = [(sentences[idx_sentences[idx][0]], sentences[idx_sentences[idx][1]]) for idx in range(len(results)) if results[idx][1]>=threshold_paraphsed]\n",
        "\n",
        "    return paraphrased_sentences"
      ],
      "metadata": {
        "id": "c4wXlVUs89nS"
      },
      "execution_count": null,
      "outputs": []
    },
    {
      "cell_type": "code",
      "source": [
        "paraphrase_sentences = [\n",
        "                        'Nowadays, more and more foreign students are going to English-speaking countries to learn the international language – English.',\n",
        "                        'In recent times, a growing number of international students are learning English in English-speaking countries.',\n",
        "                        'It is undoubtedly true that studying English in an English-speaking country is the best way, but it is not the only way to learn it.'\n",
        "]"
      ],
      "metadata": {
        "id": "uABzBhv4_BRD"
      },
      "execution_count": null,
      "outputs": []
    },
    {
      "cell_type": "code",
      "source": [
        "check_paraphrased(\" \".join(paraphrase_sentences))"
      ],
      "metadata": {
        "colab": {
          "base_uri": "https://localhost:8080/"
        },
        "id": "BC_7n5jr_nLF",
        "outputId": "4a266a80-654b-4cd7-f5f0-d4cfc1068b80"
      },
      "execution_count": null,
      "outputs": [
        {
          "output_type": "execute_result",
          "data": {
            "text/plain": [
              "[('Nowadays, more and more foreign students are going to English-speaking countries to learn the international language – English.',\n",
              "  'In recent times, a growing number of international students are learning English in English-speaking countries.')]"
            ]
          },
          "metadata": {},
          "execution_count": 42
        }
      ]
    },
    {
      "cell_type": "code",
      "source": [
        "df = pd.read_csv('ok.csv', index_col=0)\n",
        "df"
      ],
      "metadata": {
        "id": "mJWXSbpyvpJw",
        "colab": {
          "base_uri": "https://localhost:8080/",
          "height": 658
        },
        "outputId": "db39f989-780e-41fd-c9d0-b70f40897148"
      },
      "execution_count": null,
      "outputs": [
        {
          "output_type": "execute_result",
          "data": {
            "text/plain": [
              "                                                 Question  \\\n",
              "0       many manufactured food and drink products cont...   \n",
              "1       the bar graph shows the global sales in billio...   \n",
              "2       goverments should spend money on railways rath...   \n",
              "3       a friend has invited you to a family dinner at...   \n",
              "4       you have a full-time job and you are also doin...   \n",
              "...                                                   ...   \n",
              "173696  labour-saving devices such as dishwashers and ...   \n",
              "173697  some people prefer to spend their lives doing ...   \n",
              "173698  some people think it is better to have friends...   \n",
              "173699  some people believe that unpaid community serv...   \n",
              "173700  the chart gives us information about the physi...   \n",
              "\n",
              "                                                    Essay  \\\n",
              "0       most of the food we are consuming is having hi...   \n",
              "1       the chart illustrates how many types of virtua...   \n",
              "2       with the advancements in the transportation in...   \n",
              "3       dear sam, i hope you and your family are doing...   \n",
              "4       dear mr jerry, i am writing to inform you abou...   \n",
              "...                                                   ...   \n",
              "173696  it is argued that new technology gadgets that ...   \n",
              "173697  people have different perspectives regarding t...   \n",
              "173698  there are people who say it's a desirable thin...   \n",
              "173699  it’s argued by few individuals that unpaid fac...   \n",
              "173700  the chart gives us information about the physi...   \n",
              "\n",
              "        COHERENCE AND COHESION  LEXICAL   GRAMMAR  TASK   OVERALL  \\\n",
              "0                            9         4        4    5.0      5.5   \n",
              "1                            9         4        9    9.0      8.0   \n",
              "2                            7         7        8    6.5      7.0   \n",
              "3                            9         9        9    8.0      9.0   \n",
              "4                            9         9        9    8.0      9.0   \n",
              "...                        ...       ...      ...    ...      ...   \n",
              "173696                       6         5        5    5.0      5.5   \n",
              "173697                       6         5        5    9.0      6.5   \n",
              "173698                       6         5        5    4.0      5.0   \n",
              "173699                       7         4        4    9.0      6.0   \n",
              "173700                       7         4        4    9.0      6.0   \n",
              "\n",
              "                                                       QE  \n",
              "0       many manufactured food and drink products cont...  \n",
              "1       the bar graph shows the global sales in billio...  \n",
              "2       goverments should spend money on railways rath...  \n",
              "3       a friend has invited you to a family dinner at...  \n",
              "4       you have a full-time job and you are also doin...  \n",
              "...                                                   ...  \n",
              "173696  labour-saving devices such as dishwashers and ...  \n",
              "173697  some people prefer to spend their lives doing ...  \n",
              "173698  some people think it is better to have friends...  \n",
              "173699  some people believe that unpaid community serv...  \n",
              "173700  the chart gives us information about the physi...  \n",
              "\n",
              "[173701 rows x 8 columns]"
            ],
            "text/html": [
              "\n",
              "  <div id=\"df-f2c49dff-4765-4632-89bb-8220b2d9d176\">\n",
              "    <div class=\"colab-df-container\">\n",
              "      <div>\n",
              "<style scoped>\n",
              "    .dataframe tbody tr th:only-of-type {\n",
              "        vertical-align: middle;\n",
              "    }\n",
              "\n",
              "    .dataframe tbody tr th {\n",
              "        vertical-align: top;\n",
              "    }\n",
              "\n",
              "    .dataframe thead th {\n",
              "        text-align: right;\n",
              "    }\n",
              "</style>\n",
              "<table border=\"1\" class=\"dataframe\">\n",
              "  <thead>\n",
              "    <tr style=\"text-align: right;\">\n",
              "      <th></th>\n",
              "      <th>Question</th>\n",
              "      <th>Essay</th>\n",
              "      <th>COHERENCE AND COHESION</th>\n",
              "      <th>LEXICAL</th>\n",
              "      <th>GRAMMAR</th>\n",
              "      <th>TASK</th>\n",
              "      <th>OVERALL</th>\n",
              "      <th>QE</th>\n",
              "    </tr>\n",
              "  </thead>\n",
              "  <tbody>\n",
              "    <tr>\n",
              "      <th>0</th>\n",
              "      <td>many manufactured food and drink products cont...</td>\n",
              "      <td>most of the food we are consuming is having hi...</td>\n",
              "      <td>9</td>\n",
              "      <td>4</td>\n",
              "      <td>4</td>\n",
              "      <td>5.0</td>\n",
              "      <td>5.5</td>\n",
              "      <td>many manufactured food and drink products cont...</td>\n",
              "    </tr>\n",
              "    <tr>\n",
              "      <th>1</th>\n",
              "      <td>the bar graph shows the global sales in billio...</td>\n",
              "      <td>the chart illustrates how many types of virtua...</td>\n",
              "      <td>9</td>\n",
              "      <td>4</td>\n",
              "      <td>9</td>\n",
              "      <td>9.0</td>\n",
              "      <td>8.0</td>\n",
              "      <td>the bar graph shows the global sales in billio...</td>\n",
              "    </tr>\n",
              "    <tr>\n",
              "      <th>2</th>\n",
              "      <td>goverments should spend money on railways rath...</td>\n",
              "      <td>with the advancements in the transportation in...</td>\n",
              "      <td>7</td>\n",
              "      <td>7</td>\n",
              "      <td>8</td>\n",
              "      <td>6.5</td>\n",
              "      <td>7.0</td>\n",
              "      <td>goverments should spend money on railways rath...</td>\n",
              "    </tr>\n",
              "    <tr>\n",
              "      <th>3</th>\n",
              "      <td>a friend has invited you to a family dinner at...</td>\n",
              "      <td>dear sam, i hope you and your family are doing...</td>\n",
              "      <td>9</td>\n",
              "      <td>9</td>\n",
              "      <td>9</td>\n",
              "      <td>8.0</td>\n",
              "      <td>9.0</td>\n",
              "      <td>a friend has invited you to a family dinner at...</td>\n",
              "    </tr>\n",
              "    <tr>\n",
              "      <th>4</th>\n",
              "      <td>you have a full-time job and you are also doin...</td>\n",
              "      <td>dear mr jerry, i am writing to inform you abou...</td>\n",
              "      <td>9</td>\n",
              "      <td>9</td>\n",
              "      <td>9</td>\n",
              "      <td>8.0</td>\n",
              "      <td>9.0</td>\n",
              "      <td>you have a full-time job and you are also doin...</td>\n",
              "    </tr>\n",
              "    <tr>\n",
              "      <th>...</th>\n",
              "      <td>...</td>\n",
              "      <td>...</td>\n",
              "      <td>...</td>\n",
              "      <td>...</td>\n",
              "      <td>...</td>\n",
              "      <td>...</td>\n",
              "      <td>...</td>\n",
              "      <td>...</td>\n",
              "    </tr>\n",
              "    <tr>\n",
              "      <th>173696</th>\n",
              "      <td>labour-saving devices such as dishwashers and ...</td>\n",
              "      <td>it is argued that new technology gadgets that ...</td>\n",
              "      <td>6</td>\n",
              "      <td>5</td>\n",
              "      <td>5</td>\n",
              "      <td>5.0</td>\n",
              "      <td>5.5</td>\n",
              "      <td>labour-saving devices such as dishwashers and ...</td>\n",
              "    </tr>\n",
              "    <tr>\n",
              "      <th>173697</th>\n",
              "      <td>some people prefer to spend their lives doing ...</td>\n",
              "      <td>people have different perspectives regarding t...</td>\n",
              "      <td>6</td>\n",
              "      <td>5</td>\n",
              "      <td>5</td>\n",
              "      <td>9.0</td>\n",
              "      <td>6.5</td>\n",
              "      <td>some people prefer to spend their lives doing ...</td>\n",
              "    </tr>\n",
              "    <tr>\n",
              "      <th>173698</th>\n",
              "      <td>some people think it is better to have friends...</td>\n",
              "      <td>there are people who say it's a desirable thin...</td>\n",
              "      <td>6</td>\n",
              "      <td>5</td>\n",
              "      <td>5</td>\n",
              "      <td>4.0</td>\n",
              "      <td>5.0</td>\n",
              "      <td>some people think it is better to have friends...</td>\n",
              "    </tr>\n",
              "    <tr>\n",
              "      <th>173699</th>\n",
              "      <td>some people believe that unpaid community serv...</td>\n",
              "      <td>it’s argued by few individuals that unpaid fac...</td>\n",
              "      <td>7</td>\n",
              "      <td>4</td>\n",
              "      <td>4</td>\n",
              "      <td>9.0</td>\n",
              "      <td>6.0</td>\n",
              "      <td>some people believe that unpaid community serv...</td>\n",
              "    </tr>\n",
              "    <tr>\n",
              "      <th>173700</th>\n",
              "      <td>the chart gives us information about the physi...</td>\n",
              "      <td>the chart gives us information about the physi...</td>\n",
              "      <td>7</td>\n",
              "      <td>4</td>\n",
              "      <td>4</td>\n",
              "      <td>9.0</td>\n",
              "      <td>6.0</td>\n",
              "      <td>the chart gives us information about the physi...</td>\n",
              "    </tr>\n",
              "  </tbody>\n",
              "</table>\n",
              "<p>173701 rows × 8 columns</p>\n",
              "</div>\n",
              "      <button class=\"colab-df-convert\" onclick=\"convertToInteractive('df-f2c49dff-4765-4632-89bb-8220b2d9d176')\"\n",
              "              title=\"Convert this dataframe to an interactive table.\"\n",
              "              style=\"display:none;\">\n",
              "        \n",
              "  <svg xmlns=\"http://www.w3.org/2000/svg\" height=\"24px\"viewBox=\"0 0 24 24\"\n",
              "       width=\"24px\">\n",
              "    <path d=\"M0 0h24v24H0V0z\" fill=\"none\"/>\n",
              "    <path d=\"M18.56 5.44l.94 2.06.94-2.06 2.06-.94-2.06-.94-.94-2.06-.94 2.06-2.06.94zm-11 1L8.5 8.5l.94-2.06 2.06-.94-2.06-.94L8.5 2.5l-.94 2.06-2.06.94zm10 10l.94 2.06.94-2.06 2.06-.94-2.06-.94-.94-2.06-.94 2.06-2.06.94z\"/><path d=\"M17.41 7.96l-1.37-1.37c-.4-.4-.92-.59-1.43-.59-.52 0-1.04.2-1.43.59L10.3 9.45l-7.72 7.72c-.78.78-.78 2.05 0 2.83L4 21.41c.39.39.9.59 1.41.59.51 0 1.02-.2 1.41-.59l7.78-7.78 2.81-2.81c.8-.78.8-2.07 0-2.86zM5.41 20L4 18.59l7.72-7.72 1.47 1.35L5.41 20z\"/>\n",
              "  </svg>\n",
              "      </button>\n",
              "      \n",
              "  <style>\n",
              "    .colab-df-container {\n",
              "      display:flex;\n",
              "      flex-wrap:wrap;\n",
              "      gap: 12px;\n",
              "    }\n",
              "\n",
              "    .colab-df-convert {\n",
              "      background-color: #E8F0FE;\n",
              "      border: none;\n",
              "      border-radius: 50%;\n",
              "      cursor: pointer;\n",
              "      display: none;\n",
              "      fill: #1967D2;\n",
              "      height: 32px;\n",
              "      padding: 0 0 0 0;\n",
              "      width: 32px;\n",
              "    }\n",
              "\n",
              "    .colab-df-convert:hover {\n",
              "      background-color: #E2EBFA;\n",
              "      box-shadow: 0px 1px 2px rgba(60, 64, 67, 0.3), 0px 1px 3px 1px rgba(60, 64, 67, 0.15);\n",
              "      fill: #174EA6;\n",
              "    }\n",
              "\n",
              "    [theme=dark] .colab-df-convert {\n",
              "      background-color: #3B4455;\n",
              "      fill: #D2E3FC;\n",
              "    }\n",
              "\n",
              "    [theme=dark] .colab-df-convert:hover {\n",
              "      background-color: #434B5C;\n",
              "      box-shadow: 0px 1px 3px 1px rgba(0, 0, 0, 0.15);\n",
              "      filter: drop-shadow(0px 1px 2px rgba(0, 0, 0, 0.3));\n",
              "      fill: #FFFFFF;\n",
              "    }\n",
              "  </style>\n",
              "\n",
              "      <script>\n",
              "        const buttonEl =\n",
              "          document.querySelector('#df-f2c49dff-4765-4632-89bb-8220b2d9d176 button.colab-df-convert');\n",
              "        buttonEl.style.display =\n",
              "          google.colab.kernel.accessAllowed ? 'block' : 'none';\n",
              "\n",
              "        async function convertToInteractive(key) {\n",
              "          const element = document.querySelector('#df-f2c49dff-4765-4632-89bb-8220b2d9d176');\n",
              "          const dataTable =\n",
              "            await google.colab.kernel.invokeFunction('convertToInteractive',\n",
              "                                                     [key], {});\n",
              "          if (!dataTable) return;\n",
              "\n",
              "          const docLinkHtml = 'Like what you see? Visit the ' +\n",
              "            '<a target=\"_blank\" href=https://colab.research.google.com/notebooks/data_table.ipynb>data table notebook</a>'\n",
              "            + ' to learn more about interactive tables.';\n",
              "          element.innerHTML = '';\n",
              "          dataTable['output_type'] = 'display_data';\n",
              "          await google.colab.output.renderOutput(dataTable, element);\n",
              "          const docLink = document.createElement('div');\n",
              "          docLink.innerHTML = docLinkHtml;\n",
              "          element.appendChild(docLink);\n",
              "        }\n",
              "      </script>\n",
              "    </div>\n",
              "  </div>\n",
              "  "
            ]
          },
          "metadata": {},
          "execution_count": 14
        }
      ]
    },
    {
      "cell_type": "code",
      "source": [
        "# define the function to be applied to each row in the DataFrame\n",
        "def process_row_with_variable(row, bc_sentence_classifier):\n",
        "    # access the broadcast variable\n",
        "    sentence_classifier = bc_sentence_classifier.value\n",
        "\n",
        "    # do something with the row\n",
        "    result = sentence_classifier(row['Essay'])\n",
        "    return result\n",
        "\n"
      ],
      "metadata": {
        "id": "i0_It79iRjou"
      },
      "execution_count": null,
      "outputs": []
    },
    {
      "cell_type": "code",
      "source": [
        "df.loc[:, 'Essay']"
      ],
      "metadata": {
        "colab": {
          "base_uri": "https://localhost:8080/"
        },
        "id": "z8tH5hqSSYHm",
        "outputId": "3e45f1d6-f762-4e9d-f24e-c1dd70cb27ee"
      },
      "execution_count": null,
      "outputs": [
        {
          "output_type": "execute_result",
          "data": {
            "text/plain": [
              "0         most of the food we are consuming is having hi...\n",
              "1         the chart illustrates how many types of virtua...\n",
              "2         with the advancements in the transportation in...\n",
              "3         dear sam, i hope you and your family are doing...\n",
              "4         dear mr jerry, i am writing to inform you abou...\n",
              "                                ...                        \n",
              "173696    it is argued that new technology gadgets that ...\n",
              "173697    people have different perspectives regarding t...\n",
              "173698    there are people who say it's a desirable thin...\n",
              "173699    it’s argued by few individuals that unpaid fac...\n",
              "173700    the chart gives us information about the physi...\n",
              "Name: Essay, Length: 173701, dtype: object"
            ]
          },
          "metadata": {},
          "execution_count": 18
        }
      ]
    },
    {
      "cell_type": "code",
      "source": [
        "subject_tags = ['csubj', 'csubj:pass', 'nsubj', 'nsubj:pass', 'xsubj']\n",
        "\n",
        "def sentence_classifier(question_respond: str) -> dict:\n",
        "    simple_sentences, compound_sentences, complex_sentences, passive_sentences = [], [], [], []\n",
        "\n",
        "    sentences, nlp_sentences = nlp_sentence_parser(question_respond)\n",
        "    for idx, (sentence, nlp_sentence) in enumerate(list(zip(sentences, nlp_sentences))):\n",
        "        adv_clause_counter, mark_counter = 0, 0\n",
        "        subject_tag_counter, wh_clause_counter = 0, 0\n",
        "\n",
        "        for idx, word_nlp in enumerate(nlp_sentence):\n",
        "            text, xpos, upos, deprel, head = word_nlp\n",
        "            if deprel == 'advmod' and upos == 'ADV':\n",
        "                if xpos == 'WRB':\n",
        "                    wh_clause_counter += 1\n",
        "                else:\n",
        "                    sub_nlp = nlp_sentence[idx:head] if idx < head else nlp_sentence[head:idx]\n",
        "                    sub_nlp_counter = Counter([word_nlp[3] for word_nlp in sub_nlp])\n",
        "                    sub_subject_tag = sum([sub_nlp_counter[subj] for subj in subject_tags])\n",
        "                    adv_clause_counter += sub_subject_tag\n",
        "            if deprel == 'mark':\n",
        "                mark_counter += 1\n",
        "            if deprel in subject_tags:\n",
        "                subject_tag_counter += 1\n",
        "        if mark_counter>=1 or adv_clause_counter>=1 or wh_clause_counter>=1:\n",
        "            complex_sentences.append(sentence)\n",
        "        elif mark_counter==0 and subject_tag_counter==1:\n",
        "            simple_sentences.append(sentence)\n",
        "        else:\n",
        "            compound_sentences.append(sentence)\n",
        "\n",
        "        # check passive voice sentence\n",
        "        dep_sentence = [word_nlp[3] for word_nlp in nlp_sentence]\n",
        "        if 'nsubj:pass' in dep_sentence and 'aux:pass' in dep_sentence:\n",
        "            passive_sentences.append(sentence)\n",
        "\n",
        "    return [len(simple_sentences), len(compound_sentences), len(complex_sentences), len(passive_sentences)]"
      ],
      "metadata": {
        "id": "yvGcMTT4aLsC"
      },
      "execution_count": null,
      "outputs": []
    },
    {
      "cell_type": "code",
      "source": [
        "import concurrent.futures as cf\n",
        "with cf.ThreadPoolExecutor(8) as worker:\n",
        "            for message in (df.loc[:, 'Essay']) :\n",
        "                worker.submit(sentence_classifier, message)"
      ],
      "metadata": {
        "id": "ef9GrU3VRY7Z"
      },
      "execution_count": null,
      "outputs": []
    },
    {
      "cell_type": "code",
      "source": [
        "def check_paraphrased(text: str, threshold_paraphsed=0.5):\n",
        "    try:\n",
        "      sentences = sent_tokenize(text)\n",
        "      pair_sentences, idx_sentences = [], []\n",
        "      for idx1 in range(len(sentences)-1):\n",
        "          for idx2 in range(idx1+1, len(sentences)):\n",
        "                  idx_sentences.append((idx1, idx2))\n",
        "                  sentence_1 = preprocess_text(sentences[idx1], True)\n",
        "                  sentence_2 = preprocess_text(sentences[idx2], True)\n",
        "                  pair_sentences.append((sentence_1, sentence_2))\n",
        "\n",
        "      tokens = mrpc_tokenizer.batch_encode_plus(pair_sentences, max_length=64,\n",
        "                                                padding='max_length',\n",
        "                                                truncation=True,\n",
        "                                                return_attention_mask=True,\n",
        "                                                return_tensors=\"pt\")\n",
        "      classification_logits = mrpc_classifier(**tokens)\n",
        "      results = torch.softmax(classification_logits['logits'], dim=1).tolist()\n",
        "\n",
        "      paraphrased_sentences = [(sentences[idx_sentences[idx][0]], sentences[idx_sentences[idx][1]]) for idx in range(len(results)) if results[idx][1]>=threshold_paraphsed]\n",
        "\n",
        "      return [len(paraphrased_sentences)]\n",
        "    except:\n",
        "      return [0]"
      ],
      "metadata": {
        "id": "ay3p_oMbcFJ2"
      },
      "execution_count": null,
      "outputs": []
    },
    {
      "cell_type": "code",
      "source": [
        "!pip install pyspark"
      ],
      "metadata": {
        "id": "Lr6TKK8NAeH2"
      },
      "execution_count": null,
      "outputs": []
    },
    {
      "cell_type": "code",
      "source": [
        "from pyspark.sql import SparkSession\n",
        "\n",
        "# create a Spark session\n",
        "spark = SparkSession.builder.appName(\"ReadCSVAndProcessData\").getOrCreate()\n",
        "\n",
        "# read a CSV file\n",
        "df = spark.read.csv(\"ok.csv\", header=True, inferSchema=True)"
      ],
      "metadata": {
        "id": "Hhs5CL8VTrTq"
      },
      "execution_count": null,
      "outputs": []
    },
    {
      "cell_type": "code",
      "source": [
        "df_100 = df.limit(10)\n",
        "df_100.show()"
      ],
      "metadata": {
        "id": "QnYl5WwnTsji"
      },
      "execution_count": null,
      "outputs": []
    },
    {
      "cell_type": "code",
      "source": [
        "from pyspark import SparkContext\n",
        "\n",
        "# Stop any existing SparkContext\n",
        "try:\n",
        "    sc.stop()\n",
        "except:\n",
        "    pass\n",
        "\n",
        "# Create a new SparkContext\n",
        "sc = SparkContext(\"local\", \"ReadCSVAndProcessData\")"
      ],
      "metadata": {
        "id": "Uj0frI93ZvZW"
      },
      "execution_count": null,
      "outputs": []
    },
    {
      "cell_type": "code",
      "source": [
        "# define the function to be applied to each row in the DataFrame\n",
        "def process_row_with_variable(row, bc_sentence_classifier):\n",
        "    # access the broadcast variable\n",
        "    sentence_classifier = bc_sentence_classifier.value\n",
        "\n",
        "    # do something with the row\n",
        "    result = sentence_classifier(row['Essay'])\n",
        "    return result\n",
        "\n",
        "# create a broadcast variable for the sentence_classifier function\n",
        "bc_sentence_classifier = sc.broadcast(sentence_classifier)\n",
        "\n",
        "# apply the function to each row in the DataFrame using the map transformation\n",
        "processed_df = df_100.rdd.map(lambda x: process_row_with_variable(x, bc_sentence_classifier)).toDF([\"result\"])\n",
        "\n",
        "# display the processed DataFrame\n",
        "processed_df.show()"
      ],
      "metadata": {
        "id": "RHzerbeLRqcr"
      },
      "execution_count": null,
      "outputs": []
    },
    {
      "cell_type": "code",
      "source": [
        "df"
      ],
      "metadata": {
        "id": "6shBT-VguM2o"
      },
      "execution_count": null,
      "outputs": []
    },
    {
      "cell_type": "code",
      "source": [
        "\n",
        "def check_spelling(text):\n",
        "    d=0\n",
        "    matches = nlp_tool.check(text)\n",
        "    for rules in matches:\n",
        "        if len(rules.replacements)>0:\n",
        "            if rules.ruleId in language_tool_dict['GRAMMAR']['id'] or rules.ruleId == 'EN_A_VS_AN':\n",
        "                d+=1\n",
        "    return [d]\n"
      ],
      "metadata": {
        "id": "wjkgA_mR61yX"
      },
      "execution_count": null,
      "outputs": []
    },
    {
      "cell_type": "code",
      "source": [
        "check_spelling(df.loc[:, 'Essay'])"
      ],
      "metadata": {
        "id": "mNc55ZQc_5wf",
        "colab": {
          "base_uri": "https://localhost:8080/",
          "height": 287
        },
        "outputId": "3dea1d4c-e23d-4991-d45c-f6831bf74336"
      },
      "execution_count": null,
      "outputs": [
        {
          "output_type": "error",
          "ename": "NameError",
          "evalue": "ignored",
          "traceback": [
            "\u001b[0;31m---------------------------------------------------------------------------\u001b[0m",
            "\u001b[0;31mNameError\u001b[0m                                 Traceback (most recent call last)",
            "\u001b[0;32m<ipython-input-23-43128ddb7e1e>\u001b[0m in \u001b[0;36m<module>\u001b[0;34m\u001b[0m\n\u001b[0;32m----> 1\u001b[0;31m \u001b[0mcheck_spelling\u001b[0m\u001b[0;34m(\u001b[0m\u001b[0mdf\u001b[0m\u001b[0;34m.\u001b[0m\u001b[0mloc\u001b[0m\u001b[0;34m[\u001b[0m\u001b[0;34m:\u001b[0m\u001b[0;34m,\u001b[0m \u001b[0;34m'Essay'\u001b[0m\u001b[0;34m]\u001b[0m\u001b[0;34m)\u001b[0m\u001b[0;34m\u001b[0m\u001b[0;34m\u001b[0m\u001b[0m\n\u001b[0m",
            "\u001b[0;32m<ipython-input-21-66341f9d0dae>\u001b[0m in \u001b[0;36mcheck_spelling\u001b[0;34m(text)\u001b[0m\n\u001b[1;32m      1\u001b[0m \u001b[0;32mdef\u001b[0m \u001b[0mcheck_spelling\u001b[0m\u001b[0;34m(\u001b[0m\u001b[0mtext\u001b[0m\u001b[0;34m)\u001b[0m\u001b[0;34m:\u001b[0m\u001b[0;34m\u001b[0m\u001b[0;34m\u001b[0m\u001b[0m\n\u001b[1;32m      2\u001b[0m     \u001b[0md\u001b[0m\u001b[0;34m=\u001b[0m\u001b[0;36m0\u001b[0m\u001b[0;34m\u001b[0m\u001b[0;34m\u001b[0m\u001b[0m\n\u001b[0;32m----> 3\u001b[0;31m     \u001b[0mmatches\u001b[0m \u001b[0;34m=\u001b[0m \u001b[0mnlp_tool\u001b[0m\u001b[0;34m.\u001b[0m\u001b[0mcheck\u001b[0m\u001b[0;34m(\u001b[0m\u001b[0mtext\u001b[0m\u001b[0;34m)\u001b[0m\u001b[0;34m\u001b[0m\u001b[0;34m\u001b[0m\u001b[0m\n\u001b[0m\u001b[1;32m      4\u001b[0m     \u001b[0;32mfor\u001b[0m \u001b[0mrules\u001b[0m \u001b[0;32min\u001b[0m \u001b[0mmatches\u001b[0m\u001b[0;34m:\u001b[0m\u001b[0;34m\u001b[0m\u001b[0;34m\u001b[0m\u001b[0m\n\u001b[1;32m      5\u001b[0m         \u001b[0;32mif\u001b[0m \u001b[0mlen\u001b[0m\u001b[0;34m(\u001b[0m\u001b[0mrules\u001b[0m\u001b[0;34m.\u001b[0m\u001b[0mreplacements\u001b[0m\u001b[0;34m)\u001b[0m\u001b[0;34m>\u001b[0m\u001b[0;36m0\u001b[0m\u001b[0;34m:\u001b[0m\u001b[0;34m\u001b[0m\u001b[0;34m\u001b[0m\u001b[0m\n",
            "\u001b[0;31mNameError\u001b[0m: name 'nlp_tool' is not defined"
          ]
        }
      ]
    },
    {
      "cell_type": "code",
      "source": [
        "df = pd.read_csv('ok.csv', index_col=0)\n"
      ],
      "metadata": {
        "id": "8TbnHjP5Bxm0"
      },
      "execution_count": null,
      "outputs": []
    },
    {
      "cell_type": "code",
      "source": [
        "df.head()"
      ],
      "metadata": {
        "id": "O79aOLBlHY77"
      },
      "execution_count": null,
      "outputs": []
    },
    {
      "cell_type": "code",
      "source": [
        "df = df[:100]"
      ],
      "metadata": {
        "id": "B0JqBE9PCmja"
      },
      "execution_count": null,
      "outputs": []
    },
    {
      "cell_type": "code",
      "source": [
        "df"
      ],
      "metadata": {
        "id": "AxHCmI5ZH_hJ"
      },
      "execution_count": null,
      "outputs": []
    },
    {
      "cell_type": "code",
      "source": [
        "df = df['Essay']"
      ],
      "metadata": {
        "id": "poZYkmvVEWnv"
      },
      "execution_count": null,
      "outputs": []
    },
    {
      "cell_type": "code",
      "source": [
        "import pandas as pd\n",
        "import concurrent.futures\n",
        "\n",
        "# def process_row(row):\n",
        "#     # Perform some processing on each row of the DataFrame\n",
        "#     return row['col1'] * 2\n",
        "\n",
        "# def process_dataframe(df):\n",
        "    # Select only the col1 column\n",
        "   # df = df[['col1']]\n",
        "\n",
        "    # Process each row in a separate thread\n",
        "results = []\n",
        "with concurrent.futures.ThreadPoolExecutor() as executor:\n",
        "    futures = [executor.submit(process_row, row) for index, row in df.iterrows()]\n",
        "    for future in concurrent.futures.as_completed(futures):\n",
        "        results.append(future.result())\n",
        "\n",
        "    # Combine the results\n",
        "\n",
        "\n",
        "# Example usage\n",
        "# df = pd.read_csv('data.csv')\n",
        "result = process_dataframe(df)\n",
        "print(result)\n",
        "This example creates a pool of 4 worker threads using concurrent.futures.ThreadPoolExecutor, and then submits each row of the DataFrame to be processed in a separate thread using the process_row function. The result of each row is collected and combined into a single DataFrame, which is then returned.\n",
        "\n",
        "Keep in mind that multithreaded processing without splitting the DataFrame into chunks may not result in a significant speedup compared to single-threaded processing, especially if the processing performed on each row is relatively fast. Additionally, it's important to carefully evaluate the trade-offs involved with multithreaded processing, as in some cases, it may not result in a significant speedup.\n",
        "\n",
        "\n",
        "\n"
      ],
      "metadata": {
        "id": "WTfLJQCaKwzW"
      },
      "execution_count": null,
      "outputs": []
    },
    {
      "cell_type": "code",
      "source": [
        "import pandas as pd\n",
        "import concurrent.futures\n",
        "\n",
        "def process_row(row):\n",
        "    # Perform some processing on each chunk of the DataFrame\n",
        "    return sentence_classifier(row)\n",
        "def process_dataframe(df):\n",
        "    # Split the DataFrame into chunks\n",
        "\n",
        "    # Process each chunk in a separate thread\n",
        "    results = []\n",
        "    with concurrent.futures.ThreadPoolExecutor(max_workers=20) as executor:\n",
        "        futures = [executor.submit(sentence_classifier, row) for row in df]\n",
        "        for future in concurrent.futures.as_completed(futures):\n",
        "            results.append(future.result())\n",
        "\n",
        "    # Combine the results\n",
        "    return df.concat(results)\n",
        "\n",
        "# Example usage\n",
        "#df = pd.read_csv('data.csv')\n",
        "result = process_dataframe(df)\n",
        "print(result)"
      ],
      "metadata": {
        "id": "8oIZadYBEZkw"
      },
      "execution_count": null,
      "outputs": []
    },
    {
      "cell_type": "code",
      "source": [
        "def process_row(row):\n",
        "    # do something with the row\n",
        "    result = sentence_classifier(row['Essay'])\n",
        "    return result"
      ],
      "metadata": {
        "id": "T8cn8yoWE7Fl"
      },
      "execution_count": null,
      "outputs": []
    },
    {
      "cell_type": "code",
      "source": [
        "import pandas as pd\n",
        "from multiprocessing import Pool\n",
        "\n",
        "# example function to be applied to the DataFrame\n",
        "def process_row(row):\n",
        "    # do something with the row\n",
        "    result = sentence_classifier(row['Essay'])\n",
        "    return result\n",
        "\n",
        "# number of threads to use\n",
        "n_threads = 40\n",
        "\n",
        "# create a Pool of workers\n",
        "with Pool(n_threads) as p:\n",
        "    # apply the function to each row in the DataFrame\n",
        "    results = p.map(process_row, [row for index, row in df.iterrows()])\n",
        "\n",
        "# add the results back to the DataFrame\n",
        "df['result_1'] = results"
      ],
      "metadata": {
        "id": "OT0rI07YaCTx"
      },
      "execution_count": null,
      "outputs": []
    },
    {
      "cell_type": "code",
      "source": [
        "df = df[:100]"
      ],
      "metadata": {
        "id": "rkFDWKwI7lBI"
      },
      "execution_count": null,
      "outputs": []
    },
    {
      "cell_type": "code",
      "source": [
        "df['G_features_1'] = df['Essay'].apply(sentence_classifier)"
      ],
      "metadata": {
        "id": "2wApNDZrvpEZ"
      },
      "execution_count": null,
      "outputs": []
    },
    {
      "cell_type": "code",
      "source": [
        "df['G_features_2'] = df['QE'].apply(check_paraphrased)"
      ],
      "metadata": {
        "id": "vbFoOCn1AyyF"
      },
      "execution_count": null,
      "outputs": []
    },
    {
      "cell_type": "code",
      "source": [
        "df['G_features_3'] = df['Essay'].apply(check_spelling)"
      ],
      "metadata": {
        "id": "tg_VhzJNA65t"
      },
      "execution_count": null,
      "outputs": []
    },
    {
      "cell_type": "code",
      "source": [
        "df"
      ],
      "metadata": {
        "id": "0SSfjBtrvpBg"
      },
      "execution_count": null,
      "outputs": []
    },
    {
      "cell_type": "code",
      "source": [],
      "metadata": {
        "id": "qKH-_Pp3zgWZ"
      },
      "execution_count": null,
      "outputs": []
    },
    {
      "cell_type": "code",
      "source": [],
      "metadata": {
        "id": "exhCZX_12Foz"
      },
      "execution_count": null,
      "outputs": []
    },
    {
      "cell_type": "code",
      "source": [],
      "metadata": {
        "id": "ijUrng2J2TBh"
      },
      "execution_count": null,
      "outputs": []
    },
    {
      "cell_type": "code",
      "source": [],
      "metadata": {
        "id": "yZq8RcikzLMR"
      },
      "execution_count": null,
      "outputs": []
    },
    {
      "cell_type": "markdown",
      "source": [
        "#Word Analysis"
      ],
      "metadata": {
        "id": "Wbi71t0aOr-W"
      }
    },
    {
      "cell_type": "markdown",
      "source": [
        "###Basic Analysis"
      ],
      "metadata": {
        "id": "uM1BrXGYFzUb"
      }
    },
    {
      "cell_type": "code",
      "source": [
        "import string\n",
        "import re\n",
        "import nltk\n",
        "nltk.download('punkt')\n",
        "from nltk import word_tokenize"
      ],
      "metadata": {
        "id": "fijEsDnWG0VL",
        "colab": {
          "base_uri": "https://localhost:8080/"
        },
        "outputId": "3570a14d-6c36-42cd-d655-586dcbdd5276"
      },
      "execution_count": null,
      "outputs": [
        {
          "output_type": "stream",
          "name": "stderr",
          "text": [
            "[nltk_data] Downloading package punkt to /root/nltk_data...\n",
            "[nltk_data]   Unzipping tokenizers/punkt.zip.\n"
          ]
        }
      ]
    },
    {
      "cell_type": "code",
      "source": [
        "def get_info_words(text):\n",
        "    #Count the number of the word in paragraph\n",
        "    list_words = word_tokenize(text)\n",
        "    num_words = len(list_words)\n",
        "\n",
        "    return num_words"
      ],
      "metadata": {
        "id": "tTGefHLAOuND"
      },
      "execution_count": null,
      "outputs": []
    },
    {
      "cell_type": "code",
      "source": [
        "question_respond = \"\"\"\n",
        "Independence is a factor that is becoming stronger in our world once the opportunities for getting a job are increasing. However some people say that the disadvantages of being your own boss are overbalanced, because you will have to work harder and probably be more isolated. In this essay I will show why I believe the advantages outweigh.\n",
        "\n",
        "Firstly, this globalized world comes up with different ways of employment so it is fast for some individuos get a new job. So, it can be noticed that people are becoming more and more entrepreneurs which is understandable since working for yourself is possible managing the business in your way and building a staff, for example, with your own priorities. Moreover, the gain of enriching experiences in various sectors also means there is no pressure from anyone to do the job in a certain method or at a specific time.\n",
        "\n",
        "On the other hand, it is remarkable that in this case you have to work harder and be responsible so everything can be done, and must deal with any problems that may appear. However, I believe the advantages outweigh since you have more freedom consequently, you will be able to perform your duties with much more mastery and property. Along with this, it is really gratifying to see your idea come to life and put into practice.\n",
        "\n",
        "In conclusion, there are some disadvantages of being an entrepreneur as it is harder work itself. Whereas the advantages stand out one time you have more freedom for running your business, also the  independence and a feeling of gratitude. Briefly, the advantages of being an entrepreneur outweigh the drawbacks.\"\"\""
      ],
      "metadata": {
        "id": "LlOEWON3Godp"
      },
      "execution_count": null,
      "outputs": []
    },
    {
      "cell_type": "code",
      "source": [
        "get_info_words(question_respond)"
      ],
      "metadata": {
        "id": "v7PFKYavGxIs",
        "colab": {
          "base_uri": "https://localhost:8080/"
        },
        "outputId": "5f502a57-3d95-4031-f4b2-fbc6aef06a3d"
      },
      "execution_count": null,
      "outputs": [
        {
          "output_type": "execute_result",
          "data": {
            "text/plain": [
              "300"
            ]
          },
          "metadata": {},
          "execution_count": 27
        }
      ]
    },
    {
      "cell_type": "markdown",
      "source": [
        "###Spelling and Grammar error"
      ],
      "metadata": {
        "id": "8zqXc1PjI5DC"
      }
    },
    {
      "cell_type": "code",
      "source": [
        "!gdown 1_NQXwSh9KALaS3BryP2FhetcOVyba94Y"
      ],
      "metadata": {
        "id": "8vt88-n_J6Ik",
        "colab": {
          "base_uri": "https://localhost:8080/"
        },
        "outputId": "6239e0ad-76d6-41ce-aa32-4963d0c2692d"
      },
      "execution_count": null,
      "outputs": [
        {
          "output_type": "stream",
          "name": "stdout",
          "text": [
            "Downloading...\n",
            "From: https://drive.google.com/uc?id=1_NQXwSh9KALaS3BryP2FhetcOVyba94Y\n",
            "To: /content/drive/MyDrive/IELTS_Score/language_tool_dictionary.pkl\n",
            "\r  0% 0.00/155k [00:00<?, ?B/s]\r100% 155k/155k [00:00<00:00, 68.5MB/s]\n"
          ]
        }
      ]
    },
    {
      "cell_type": "code",
      "source": [
        "!pip install language_tool_python"
      ],
      "metadata": {
        "id": "7BaBtmhwJKF5",
        "colab": {
          "base_uri": "https://localhost:8080/"
        },
        "outputId": "7d624ce0-b6bc-4b77-df52-392430da0f7a"
      },
      "execution_count": null,
      "outputs": [
        {
          "output_type": "stream",
          "name": "stdout",
          "text": [
            "Looking in indexes: https://pypi.org/simple, https://us-python.pkg.dev/colab-wheels/public/simple/\n",
            "Collecting language_tool_python\n",
            "  Downloading language_tool_python-2.7.1-py3-none-any.whl (34 kB)\n",
            "Requirement already satisfied: tqdm in /usr/local/lib/python3.8/dist-packages (from language_tool_python) (4.64.1)\n",
            "Requirement already satisfied: requests in /usr/local/lib/python3.8/dist-packages (from language_tool_python) (2.25.1)\n",
            "Requirement already satisfied: chardet<5,>=3.0.2 in /usr/local/lib/python3.8/dist-packages (from requests->language_tool_python) (4.0.0)\n",
            "Requirement already satisfied: urllib3<1.27,>=1.21.1 in /usr/local/lib/python3.8/dist-packages (from requests->language_tool_python) (1.24.3)\n",
            "Requirement already satisfied: certifi>=2017.4.17 in /usr/local/lib/python3.8/dist-packages (from requests->language_tool_python) (2022.12.7)\n",
            "Requirement already satisfied: idna<3,>=2.5 in /usr/local/lib/python3.8/dist-packages (from requests->language_tool_python) (2.10)\n",
            "Installing collected packages: language_tool_python\n",
            "Successfully installed language_tool_python-2.7.1\n"
          ]
        }
      ]
    },
    {
      "cell_type": "code",
      "source": [
        "import language_tool_python\n",
        "nlp_tool = language_tool_python.LanguageTool('en-US')"
      ],
      "metadata": {
        "id": "SC1TpANOJArl",
        "colab": {
          "base_uri": "https://localhost:8080/"
        },
        "outputId": "4a7026ad-a5f8-4397-ae82-28b8d1a32b21"
      },
      "execution_count": null,
      "outputs": [
        {
          "output_type": "stream",
          "name": "stderr",
          "text": [
            "Downloading LanguageTool 5.7: 100%|██████████| 225M/225M [00:02<00:00, 79.4MB/s]\n",
            "INFO:language_tool_python.download_lt:Unzipping /tmp/tmp13a4ms2b.zip to /root/.cache/language_tool_python.\n",
            "INFO:language_tool_python.download_lt:Downloaded https://www.languagetool.org/download/LanguageTool-5.7.zip to /root/.cache/language_tool_python.\n"
          ]
        }
      ]
    },
    {
      "cell_type": "code",
      "source": [
        "import pickle\n",
        "def load_language_tool_dict(path):\n",
        "    with open(path + '/language_tool_dictionary.pkl', 'rb') as f:\n",
        "        language_tool_dict = pickle.load(f)\n",
        "    return language_tool_dict"
      ],
      "metadata": {
        "id": "Xu82uUoQKDAl"
      },
      "execution_count": null,
      "outputs": []
    },
    {
      "cell_type": "code",
      "source": [
        "language_tool_dict = load_language_tool_dict('/content/drive/MyDrive/IELTS_Score/')"
      ],
      "metadata": {
        "id": "1va43ubbKJZf"
      },
      "execution_count": null,
      "outputs": []
    },
    {
      "cell_type": "code",
      "source": [
        "language_tool_dict['GRAMMAR']['id']"
      ],
      "metadata": {
        "id": "JKljlEUUKO6N",
        "colab": {
          "base_uri": "https://localhost:8080/"
        },
        "outputId": "37f2802d-d603-489b-ff2c-d824b6f5adb5"
      },
      "execution_count": null,
      "outputs": [
        {
          "output_type": "execute_result",
          "data": {
            "text/plain": [
              "{'ABLE_VBP',\n",
              " 'ACCORDING_TO',\n",
              " 'ACCORDING_TO_ME',\n",
              " 'ACCUSTOMED_TO',\n",
              " 'ACHE_COMPOUNDS',\n",
              " 'ADDITIONAL',\n",
              " 'ADMIT_ENJOY_VB',\n",
              " 'ADVERB_OR_HYPHENATED_ADJECTIVE',\n",
              " 'ADVERB_VERB_ADVERB_REPETITION',\n",
              " 'ADVISE_VBG',\n",
              " 'AD_AND',\n",
              " 'AFFECTS',\n",
              " 'AFFORD_VB',\n",
              " 'AFFORD_VBG',\n",
              " 'AFRAID_OF_HEIGHT',\n",
              " 'AFRO_AMERICAN_HYPHEN',\n",
              " 'AFTERMARKET',\n",
              " 'AFTER_NOON',\n",
              " 'AGREEMENT_QUESTION',\n",
              " 'AGREEMENT_SENT_START',\n",
              " 'AGREEMENT_SENT_START_2',\n",
              " 'AGREEMENT_THEIR_HIS',\n",
              " 'AIRCRAFTS',\n",
              " 'AIR_BNB',\n",
              " 'AIR_COMPOUNDS',\n",
              " 'ALKA_SELTZER',\n",
              " 'ALLOW_TO',\n",
              " 'ALLOW_TO_DO',\n",
              " 'ALL_GIRLS_HYPHEN',\n",
              " 'ALL_IN_ONE_HYPHEN',\n",
              " 'ALL_KNOWING_HYPHEN',\n",
              " 'ALL_MOST_SOME_OF_NOUN',\n",
              " 'ALL_NN',\n",
              " 'ALL_TIME_HYPHEN',\n",
              " 'ALL_WHEEL',\n",
              " 'ALL_YOU_CAN_EAT_HYPHEN',\n",
              " 'AMERICANO',\n",
              " 'AM_I',\n",
              " 'AND_BUT',\n",
              " 'AND_END',\n",
              " 'ANI_T',\n",
              " 'ANTI_AMERICAN_HYPHEN',\n",
              " 'ANYMORE_ADVERB',\n",
              " 'ANY_WAY_TO_VB',\n",
              " 'AN_ANOTHER',\n",
              " 'AN_ARE',\n",
              " 'AN_VB_PRP',\n",
              " 'APPLE_PRODUCTS',\n",
              " 'APRIL_FOOLS',\n",
              " 'AREA_51',\n",
              " 'ARE_WE_HAVE',\n",
              " 'ARN_T',\n",
              " 'ARRIVE_NNP',\n",
              " 'ARTICLE_ADJECTIVE_OF',\n",
              " 'ARTICLE_MISSING',\n",
              " 'ARTICLE_UNNECESSARY',\n",
              " 'ASK_NO_PREPOSITION',\n",
              " 'ASSASSINS_CREED',\n",
              " 'AS_ADJ_AS',\n",
              " 'AS_DISCUSS',\n",
              " 'AS_IS_VBG',\n",
              " 'AS_MENTION',\n",
              " 'AS_SAD',\n",
              " 'AS_WILL_AS',\n",
              " 'AT_CD_CLOCK',\n",
              " 'AT_TIME',\n",
              " 'AUXILIARY_DO_WITH_INCORRECT_VERB_FORM',\n",
              " 'A_ATTACH',\n",
              " 'A_BACHELORS_IN',\n",
              " 'A_BIT',\n",
              " 'A_BIT_OF',\n",
              " 'A_BLESS_DAY',\n",
              " 'A_CAPPELLA',\n",
              " 'A_CD_NNS',\n",
              " 'A_COLLECTIVE_OF_NN',\n",
              " 'A_COMPLAIN',\n",
              " 'A_FEEDBACK',\n",
              " 'A_GOOGLE',\n",
              " 'A_HAVE_VBN',\n",
              " 'A_HEADS_UP',\n",
              " 'A_HUNDREDS',\n",
              " 'A_INFINITIVE',\n",
              " 'A_INFORMATION',\n",
              " 'A_INSTALL',\n",
              " 'A_IT_MORE',\n",
              " 'A_LOT_OF_NN',\n",
              " 'A_MD_VB',\n",
              " 'A_MUCH_NN1',\n",
              " 'A_NNS',\n",
              " 'A_NUMBER_NNS',\n",
              " 'A_OK',\n",
              " 'A_QUITE_WHILE',\n",
              " 'A_RB_A_JJ_NN',\n",
              " 'A_RB_NN',\n",
              " 'A_SCISSOR',\n",
              " 'A_SNICKERS',\n",
              " 'A_STOKE',\n",
              " 'A_THANK_YOU',\n",
              " 'A_TO',\n",
              " 'A_UNCOUNTABLE',\n",
              " 'A_WINDOWS',\n",
              " 'BACK_COMPOUNDS',\n",
              " 'BALL_COMPOUNDS',\n",
              " 'BAND_AID',\n",
              " 'BARACK_OBAMA',\n",
              " 'BARCA_DIACRITIC',\n",
              " 'BARE_BONES_HYPHEN',\n",
              " 'BARE_INFINITIVE_CAUSATIVE_VERB_MAKE_PRP_VBZ',\n",
              " 'BARE_INFINITIVE_VERB_OF_PERCEPTION_SEE_PRP_VBZ',\n",
              " 'BASE_FORM',\n",
              " 'BAYERN',\n",
              " 'BECAUSE_OF_I',\n",
              " 'BEEN_PART_AGREEMENT',\n",
              " 'BEG_BAG',\n",
              " 'BELIVE_BELIEVE',\n",
              " 'BENDED',\n",
              " 'BENTS_BENDS',\n",
              " 'BEST_BUY',\n",
              " 'BETWEEN_PRP',\n",
              " 'BEWARE_PREPOSITION',\n",
              " 'BE_AWARE_OF',\n",
              " 'BE_COME',\n",
              " 'BE_COMPOUNDS',\n",
              " 'BE_DONT',\n",
              " 'BE_FINED_WITH',\n",
              " 'BE_FOND_TO',\n",
              " 'BE_HAVENT',\n",
              " 'BE_INTEREST_IN',\n",
              " 'BE_IS',\n",
              " 'BE_I_BE_GERUND',\n",
              " 'BE_NO_VB',\n",
              " 'BE_PART_AGREEMENT_2',\n",
              " 'BE_RB_BE',\n",
              " 'BE_TO_VBG',\n",
              " 'BE_USE_TO_DO',\n",
              " 'BE_VBP_IN',\n",
              " 'BE_WILL',\n",
              " 'BIDDED',\n",
              " 'BIT_COIN',\n",
              " 'BIT_HYPHEN',\n",
              " 'BLACK_LIVES_MATTER',\n",
              " 'BOEING_737_MAX',\n",
              " 'BON_APPETITE',\n",
              " 'BORN_IN',\n",
              " 'BOTH_AS_WELL_AS',\n",
              " 'BOX_COMPOUNDS',\n",
              " 'BREAKER_COMPOUNDS',\n",
              " 'BREAKING_COMPOUNDS',\n",
              " 'BREAST_COMPOUNDS',\n",
              " 'BUENOS_DIAS',\n",
              " 'BUILT_IN_HYPHEN',\n",
              " 'BUNCH_OF',\n",
              " 'BUTTON_UP_HYPHEN',\n",
              " 'BUY_TWO_GET_ONE_FREE',\n",
              " 'CALL_OF_DUTY',\n",
              " 'CALL_TO_ACTION_HYPHEN',\n",
              " 'CANN_T',\n",
              " 'CANT_HELP_BUT',\n",
              " 'CAN_ABLE_TO',\n",
              " 'CAN_ANYTHING',\n",
              " 'CAN_I_VBD',\n",
              " 'CAN_WHAT',\n",
              " 'CAP_CORAL',\n",
              " 'CARAT_HYPHEN',\n",
              " 'CARNEGIE_MELLON',\n",
              " 'CAR_HYPHEN',\n",
              " 'CAR_POOL_COMPOUND',\n",
              " 'CASTED',\n",
              " 'CATCH_ALL_HYPHEN',\n",
              " 'CAUSE_BECAUSE',\n",
              " 'CA_BRAND_NEW',\n",
              " 'CA_BRICK_RED',\n",
              " 'CA_BUG_EYED',\n",
              " 'CA_CARD_CARRYING',\n",
              " 'CA_COAST_TO_COAST',\n",
              " 'CA_COOLING_OFF',\n",
              " 'CA_CUT_AND_PASTE',\n",
              " 'CA_CUT_THROAT',\n",
              " 'CA_DOWN_AND_OUT',\n",
              " 'CA_DO_OR_DIE',\n",
              " 'CA_DUAL_PURPOSE',\n",
              " 'CA_DUTY_FREE',\n",
              " 'CA_EAGLE_EYED',\n",
              " 'CA_EYE_CATCHING',\n",
              " 'CA_FIRST_HAND',\n",
              " 'CA_FLY_BY_NIGHT',\n",
              " 'CA_FOLLOW_UP',\n",
              " 'CA_HAND_TO_HAND',\n",
              " 'CA_HEAVY_DUTY',\n",
              " 'CA_KNIFE_EDGE',\n",
              " 'CA_MOM_AND_POP',\n",
              " 'CA_NEW_LOOK',\n",
              " 'CA_OUT_OF_BODY',\n",
              " 'CA_RAGS_TO_RICHES',\n",
              " 'CA_WALL_TO_WALL',\n",
              " 'CC_NNP_VBP',\n",
              " 'CC_VERB',\n",
              " 'CD_DOZENS_OF',\n",
              " 'CD_NN',\n",
              " 'CHOOSED',\n",
              " 'CLEAR_CUT_HYPHEN',\n",
              " 'CLICK_HYPHEN',\n",
              " 'COCA_COLA',\n",
              " 'COD_CODE',\n",
              " 'COLD_PLAY',\n",
              " 'COLLECTIVE_NOUN_VERB_AGREEMENT_VBD',\n",
              " 'COLLECTIVE_NOUN_VERB_AGREEMENT_VBP',\n",
              " 'COMPERE',\n",
              " 'COMPLAINT_COMPLAINED',\n",
              " 'COMP_THAN',\n",
              " 'CONDITIONAL_CLAUSE',\n",
              " 'CONFUSION_RIDE_RIGHT',\n",
              " 'CONGRATULATIONS_FOR',\n",
              " 'COPY_PASTE',\n",
              " 'COTE_D_AZUR',\n",
              " 'COUD_T',\n",
              " 'COULDVE',\n",
              " 'COUNTER_COMPOUNDS',\n",
              " 'COUN_T',\n",
              " 'COUPLE_OF_TIMES',\n",
              " 'COURSE_HYPHEN',\n",
              " 'COVID_19',\n",
              " 'CROSS_COMPOUNDS',\n",
              " 'CYBER_COMPOUNDS',\n",
              " 'CYLINDER_HYPHEN',\n",
              " 'DAISY_CHAIN_HYPHEN',\n",
              " 'DAY_DREAM_COMPOUND',\n",
              " 'DAY_TO_DAY_HYPHEN',\n",
              " 'DAY_TRADE_HYPHEN',\n",
              " 'DEAD_LIFT_COMPOUND',\n",
              " 'DEGREE_HYPHEN',\n",
              " 'DELTA_AIRLINES',\n",
              " 'DEPEND_ON',\n",
              " 'DESPITE_OF',\n",
              " 'DETERMINER_GEOGRAPHICAL_WORD',\n",
              " 'DIDENT',\n",
              " 'DIDINT',\n",
              " 'DIDN_T_SAW',\n",
              " 'DIDN_T_SPOKE',\n",
              " 'DID_BASEFORM',\n",
              " 'DID_FOUND_AMBIGUOUS',\n",
              " 'DID_PAST',\n",
              " 'DID_YOU_HAVE_VBN',\n",
              " 'DIE_DICE',\n",
              " 'DISCUSS_ABOUT',\n",
              " 'DOB_T',\n",
              " 'DOESENT',\n",
              " 'DOES_NP_VBZ',\n",
              " 'DOES_XX_CAN',\n",
              " 'DOES_X_HAS',\n",
              " 'DOES_YOU',\n",
              " 'DOG_COMPOUNDS',\n",
              " 'DOMINOS_PIZZA',\n",
              " 'DONN_T',\n",
              " 'DONS_T',\n",
              " 'DONT_NEEDS',\n",
              " 'DONT_WHAT',\n",
              " 'DONT_WILL',\n",
              " 'DON_T_AREN_T',\n",
              " 'DOOR_COMPOUNDS',\n",
              " 'DOOR_HYPHEN',\n",
              " 'DOS',\n",
              " 'DOSNT',\n",
              " 'DOUBLE_CLICK_HYPHEN',\n",
              " 'DOUBLE_HYPHEN',\n",
              " 'DOUBLE_NEGATIVE',\n",
              " 'DOWN_COMPOUNDS',\n",
              " 'DO_ANYONE',\n",
              " 'DO_HE_VERB',\n",
              " 'DO_IT_SOMETIME',\n",
              " 'DO_IT_YOURSELF_HYPHEN',\n",
              " 'DO_MAKE_PRP_VBG',\n",
              " 'DO_NO_VB',\n",
              " 'DO_VBZ',\n",
              " 'DO_VBZ_AMBIGUOUS_VERB',\n",
              " 'DO_XX_MD_VB',\n",
              " 'DO_YOU_FASCINATED',\n",
              " 'DO_YOU_WHAT',\n",
              " 'DROP_SHIP_HYPHEN',\n",
              " 'DRY_ERASE_HYPHEN',\n",
              " 'DT_DT',\n",
              " 'DT_JJ_NO_NOUN',\n",
              " 'DT_NNS_AGREEMENT',\n",
              " 'DT_PRP',\n",
              " 'DT_RB_IN',\n",
              " 'DUNKIN_DONUTS',\n",
              " 'EACH_EVERY_NNS',\n",
              " 'EACH_OTHERS',\n",
              " 'EAGER_TO',\n",
              " 'EARL_GREY',\n",
              " 'EASY_GOING_HYPHEN',\n",
              " 'EDITOR_IN_CHIEF_HYPHEN',\n",
              " 'EIFFEL_TOWER',\n",
              " 'EITHER_NOR',\n",
              " 'EITHER_OF_THE_NN',\n",
              " 'EMMANUEL_MACRON',\n",
              " 'EMPHASIS_EMPHASIZE',\n",
              " 'END_TO_END_HYPHEN',\n",
              " 'ENGINED_HYPHEN',\n",
              " 'EQUALLY_AS',\n",
              " 'ERDOGAN',\n",
              " 'ESPECIALLY',\n",
              " 'ESSENTIAL_ESSENTIALLY',\n",
              " 'EVEN_THOU',\n",
              " 'EVERY_EACH_SINGULAR',\n",
              " 'EVER_DAY',\n",
              " 'EVER_NN',\n",
              " 'EXCEPTION_PREPOSITION_THE_RULE',\n",
              " 'EXCITED_FOR',\n",
              " 'EXPLAIN_TO',\n",
              " 'EYE_COMPOUNDS',\n",
              " 'FACTOR_HYPHEN',\n",
              " 'FACT_CHECK_HYPHEN',\n",
              " 'FEDEX',\n",
              " 'FEED_BACK',\n",
              " 'FEWER_LESS',\n",
              " 'FIGHTER_COMPOUNDS',\n",
              " 'FIGURE_HYPHEN',\n",
              " 'FINE_TUNE_COMPOUNDS',\n",
              " 'FIRSTLY_OF_ALL',\n",
              " 'FIRST_PERSON_SHOOTER',\n",
              " 'FIRST_SERVED',\n",
              " 'FOOT_FEET',\n",
              " 'FORREST_GUMP',\n",
              " 'FOR_INCONVENIENCE',\n",
              " 'FOR_MY',\n",
              " 'FOR_VB',\n",
              " 'FOUR_SEASON_HYPHEN',\n",
              " 'FOX_NEWS',\n",
              " 'FREQUENT_ASKED_QUESTIONS',\n",
              " 'FRIEND_COMPOUNDS',\n",
              " 'FULL_FILL',\n",
              " 'FURTHER_MORE_COMPOUND',\n",
              " 'GAMEBOY',\n",
              " 'GAVE_GIVE',\n",
              " 'GETTED',\n",
              " 'GINI_COEFFICIENT',\n",
              " 'GIT_HUB',\n",
              " 'GOGGLE_GOOGLE',\n",
              " 'GOING_TO_JJ',\n",
              " 'GOING_TO_VBD',\n",
              " 'GOOD_GOOF',\n",
              " 'GOOD_WELL',\n",
              " 'GOOGLE_PRODUCTS',\n",
              " 'GOT_IT_DONE',\n",
              " 'GO_TO_HYPHEN',\n",
              " 'GRADUATE_FROM',\n",
              " 'GREYS_ANATOMY',\n",
              " 'GUEST_EDIT_HYPHEN',\n",
              " 'GUILT_TRIP_HYPHEN',\n",
              " 'G_MAIL',\n",
              " 'HAD_TOO',\n",
              " 'HAD_TWO',\n",
              " 'HAD_VBP',\n",
              " 'HAIR_COMPOUNDS',\n",
              " 'HANDOVER',\n",
              " 'HANDS_FREE_HYPHEN',\n",
              " 'HANDS_ON_HYPHEN',\n",
              " 'HAND_COMPOUNDS',\n",
              " 'HAND_CUFF_COMPOUND',\n",
              " 'HAPPEN_TO',\n",
              " 'HAPPY_EASTER',\n",
              " 'HARDWARES',\n",
              " 'HARD_WORKING_COMPOUND',\n",
              " 'HARLEY_DAVIDSON_HYPHEN',\n",
              " 'HARPERS_BAZAAR',\n",
              " 'HAS_OUGHT',\n",
              " 'HAVE_A_BREAKFAST',\n",
              " 'HAVE_A_VBN',\n",
              " 'HAVE_FOLLOWING_NN',\n",
              " 'HAVE_HAVE',\n",
              " 'HAVE_HAVING',\n",
              " 'HAVE_NO_VB',\n",
              " 'HAVE_PART_AGREEMENT',\n",
              " 'HAVE_RB_HAVE',\n",
              " 'HAVE_TWITTER',\n",
              " 'HAVNT',\n",
              " 'HEADED_HYPHEN',\n",
              " 'HEAD_COMPOUNDS',\n",
              " 'HEAVE_USE_OF',\n",
              " 'HELP_NP_VBZ',\n",
              " 'HER_S',\n",
              " 'HE_D_VBD',\n",
              " 'HE_HIS',\n",
              " 'HE_LIKE',\n",
              " 'HE_NEED',\n",
              " 'HE_SEAS',\n",
              " 'HE_VE',\n",
              " 'HE_VERB_AGR',\n",
              " 'HIGH_END_HYPHEN',\n",
              " 'HIGH_LIGHT',\n",
              " 'HITCH_HIKE_COMPOUNDS',\n",
              " 'HOLDER_COMPOUNDS',\n",
              " 'HOLE_COMPOUNDS',\n",
              " 'HOME_COMPOUNDS',\n",
              " 'HOMO_ERECTUS',\n",
              " 'HOMO_SAPIENS',\n",
              " 'HOOD_COMPOUNDS',\n",
              " 'HOUR_HYPHEN',\n",
              " 'HOUSE_COMPOUNDS',\n",
              " 'HOVER_BOARD',\n",
              " 'HOW_COMPOUNDS',\n",
              " 'HOW_DO_I_VB',\n",
              " 'HOW_IS_ARE',\n",
              " 'HOW_MANY_Q_AGREEMENT',\n",
              " 'HOW_TO_HYPHEN',\n",
              " 'HOW_YOU_DOING',\n",
              " 'HUNDREDS_OF_THOUSAND',\n",
              " 'IDK',\n",
              " 'IES_IZE',\n",
              " 'IF_IT_OK_FOR',\n",
              " 'IF_OR_NOT',\n",
              " 'IF_THERE',\n",
              " 'IF_VB',\n",
              " 'IF_VB_PCT',\n",
              " 'IF_WOULD_HAVE_VBN',\n",
              " 'IF_YOU_ANY',\n",
              " 'IF_YOU_FURTHER_QUESTIONS',\n",
              " 'INCH_HYPHEN',\n",
              " 'INCORRECT_POSSESSIVE_APOSTROPHE',\n",
              " 'INCORRECT_POSSESSIVE_FORM_AFTER_A_NUMBER',\n",
              " 'INSPIRED_WITH',\n",
              " 'IN_1990s',\n",
              " 'IN_APP_HYPHEN',\n",
              " 'IN_A_HARRY',\n",
              " 'IN_A_TROUBLE',\n",
              " 'IN_EAR_HYPHEN',\n",
              " 'IN_LOVED_WITH',\n",
              " 'IN_PAST',\n",
              " 'IN_SANE',\n",
              " 'IN_TERM_OF_PHRASE',\n",
              " 'IN_THE_LONG_TERMS',\n",
              " 'IN_THE_MEAN_TIME_PHRASE',\n",
              " 'IN_THIS_REGARDS',\n",
              " 'IN_TO_VBD',\n",
              " 'IN_WEEKDAY',\n",
              " 'IN_WHO',\n",
              " 'ISEN_T',\n",
              " 'IS_CAUSE_BY',\n",
              " 'IS_EVEN_WORST',\n",
              " 'IS_OWN',\n",
              " 'IS_POSSIBLE_TO',\n",
              " 'IS_RB_BE',\n",
              " 'IS_THERE_ANY_NNS',\n",
              " 'IS_VBZ',\n",
              " 'IS_WAS',\n",
              " 'ITS_TO_IT_S',\n",
              " 'IT_HAS_WORK_FOR',\n",
              " 'IT_IS_DEPENDING_ON',\n",
              " 'IT_IS_JJ_TO_VBG',\n",
              " 'IT_IT',\n",
              " 'IT_ITS',\n",
              " 'IT_TIME_TO',\n",
              " 'IT_VBZ',\n",
              " 'I_AFRAID',\n",
              " 'I_AM_VB',\n",
              " 'I_BORN',\n",
              " 'I_DONT_DT',\n",
              " 'I_EM',\n",
              " 'I_MA',\n",
              " 'I_ME',\n",
              " 'I_M_MD',\n",
              " 'I_NOT_JJ',\n",
              " 'I_PERSONAL',\n",
              " 'JACK_DANIELS',\n",
              " 'JAILBREAKED',\n",
              " 'JAVA_SCRIPT',\n",
              " 'JAY_Z',\n",
              " 'JENNIFER_ANISTON',\n",
              " 'JESUS_CHRIS',\n",
              " 'JJS_OF_ALL_OTHER',\n",
              " 'JOHNS_HOPKINS_UNIVERSITY',\n",
              " 'JONG_UN',\n",
              " 'KAMA_SUTRA',\n",
              " 'KEEPER_COMPOUNDS',\n",
              " 'KELLOGGS',\n",
              " 'KICK_START_HYPHEN',\n",
              " 'KIND_OF_A',\n",
              " 'KIND_REGARD',\n",
              " 'KINGS_COLLEGE',\n",
              " 'KNOT_NOT',\n",
              " 'KNOW_IT_ALL_HYPHEN',\n",
              " 'LADIES_AND_GENTLEMAN',\n",
              " 'LAND_COMPOUNDS',\n",
              " 'LATER_LATTER',\n",
              " 'LATE_TERM_HYPHEN',\n",
              " 'LAW_COMPOUNDS',\n",
              " 'LEARN_NNNNS_ON_DO',\n",
              " 'LEAST_COMPARATIVE',\n",
              " 'LED',\n",
              " 'LEHMANN_BROTHERS',\n",
              " 'LEROY_SANE',\n",
              " 'LESS_COMPARATIVE',\n",
              " 'LETS_DONT',\n",
              " 'LET_IT_INFINITIVE',\n",
              " 'LET_OBJECT',\n",
              " 'LIFE_CHANGING_HYPHEN',\n",
              " 'LIFE_COMPOUNDS',\n",
              " 'LIGHT_COMPOUNDS',\n",
              " 'LIKELY_HOOD',\n",
              " 'LIMITED_TO',\n",
              " 'LINE_COMPOUNDS',\n",
              " 'LITHIUM_ION',\n",
              " 'LOCKHEED_MARTIN',\n",
              " 'LOGGED_IN_HYPHEN',\n",
              " 'LONG_COMPOUNDS',\n",
              " 'LONG_ISLAND_ICED_TEA',\n",
              " 'LOOK_FORWARD_NOT_FOLLOWED_BY_TO',\n",
              " 'LOOK_FORWARD_TO',\n",
              " 'LOREAL',\n",
              " 'LOSE_LIVES',\n",
              " 'LOS_ANGELS',\n",
              " 'LOTS_OF_NN',\n",
              " 'LOWERCASE_MONTHS',\n",
              " 'LOW_COST_HYPHEN',\n",
              " 'LOW_HANGING_FRUIT_HYPHEN',\n",
              " 'MAC_OS',\n",
              " 'MAIL_IN_HYPHEN',\n",
              " 'MAKER_COMPOUNDS',\n",
              " 'MAKE_UP',\n",
              " 'MANEGE',\n",
              " 'MANY_FEW_UNCOUNTABLE',\n",
              " 'MANY_KINDS_OF',\n",
              " 'MANY_NN',\n",
              " 'MANY_NN_U',\n",
              " 'MANY_TIME',\n",
              " 'MAN_COMPOUNDS',\n",
              " 'MAN_MADE',\n",
              " 'MAN_MEN',\n",
              " 'MARKDOWN_NNP',\n",
              " 'MARK_COMPOUNDS',\n",
              " 'MAR_A_LAGO',\n",
              " 'MASS_AGREEMENT',\n",
              " 'MATERIEL',\n",
              " 'MATE_COMPOUNDS',\n",
              " 'MCDONALDS',\n",
              " 'MD_ABLE',\n",
              " 'MD_BASEFORM',\n",
              " 'MD_BE_NON_VBP',\n",
              " 'MD_IT_JJ',\n",
              " 'MD_NO_VB',\n",
              " 'MD_WON_T',\n",
              " 'MEAN_FOR_TO',\n",
              " 'MERCEDES_BENZ',\n",
              " 'MERRIAM_WEBSTER',\n",
              " 'MIAMI_DADE_HYPHEN',\n",
              " 'MICROSOFT_PRODUCTS',\n",
              " 'MILE_HYPHEN',\n",
              " 'MISSING_APOSTROPHE_T',\n",
              " 'MISSING_ARTICLE',\n",
              " 'MISSING_NOUN',\n",
              " 'MISSING_PAST_TENSE',\n",
              " 'MISSING_TO_BEFORE_A_VERB',\n",
              " 'MISSING_TO_BETWEEN_BE_AND_VB',\n",
              " 'MISSING_VERB_AFTER_WHAT',\n",
              " 'MOLOTOV_COCKTAIL',\n",
              " 'MONEY_BACK_HYPHEN',\n",
              " 'MONTH_HYPHEN',\n",
              " 'MOORES_LAW',\n",
              " 'MORE_A_JJ',\n",
              " 'MORE_NN',\n",
              " 'MOST_COMPARATIVE',\n",
              " 'MOST_OF_THE_TIMES',\n",
              " 'MOST_SOME_OF_NNS',\n",
              " 'MOST_SUPERLATIVE',\n",
              " 'MOTOR_COMPOUNDS',\n",
              " 'MUCH_COUNTABLE',\n",
              " 'MUCH_NEEDED_HYPHEN',\n",
              " 'MUSN_T',\n",
              " 'MUST_BE_DO',\n",
              " 'MUST_HAVE',\n",
              " 'MUST_HAVE_TO',\n",
              " 'NDRANGHETA',\n",
              " 'NED_NEED',\n",
              " 'NEE',\n",
              " 'NEEDNT_TO_DO_AND_DONT_NEED_DO',\n",
              " 'NEITHER_NOR',\n",
              " 'NEWS_COMPOUNDS',\n",
              " 'NEW_ZEELAND',\n",
              " 'NNP_BASED',\n",
              " 'NNS_IN_NNP_VBZ',\n",
              " 'NNS_THAT_AGREEMENT',\n",
              " 'NNS_THAT_VBZ',\n",
              " 'NN_NOT_JJ',\n",
              " 'NODT_DOZEN',\n",
              " 'NON3PRS_VERB',\n",
              " 'NONE_THE_LESS',\n",
              " 'NON_ACTION_CONTINUOUS',\n",
              " 'NORTH_POLE',\n",
              " 'NOTE_COMPOUNDS',\n",
              " 'NOTHING_SUCH_AS',\n",
              " 'NOT_LONGER',\n",
              " 'NOT_NEVER',\n",
              " 'NOUN_VERB_CONFUSION',\n",
              " 'NOW_ARE_THE_TIME',\n",
              " 'NO_GO_HYPHEN',\n",
              " 'NO_PROBLEM_ET_AL',\n",
              " 'OBJECTIVE_C',\n",
              " 'OBJECTIVE_CASE',\n",
              " 'OFF_KEY_HYPHEN',\n",
              " 'OF_ALL_TIMES',\n",
              " 'OKEY_DOKEY',\n",
              " 'ONE_NIGHT_STAND_HYPHEN',\n",
              " 'ONE_OF',\n",
              " 'ONE_PLURAL',\n",
              " 'ONE_STOP_HYPHEN',\n",
              " 'ONE_TERM_PRESIDENT_HYPHEN',\n",
              " 'ONE_TO_MANY_HYPHEN',\n",
              " 'ONTO_ON_TO',\n",
              " 'ON_ADDITION',\n",
              " 'ON_COMPOUNDS',\n",
              " 'ON_EXCEL',\n",
              " 'ON_FIRST_GLANCE',\n",
              " 'ON_SKYPE',\n",
              " 'ON_THE_LOOK_OUT',\n",
              " 'OPEN_HEART_HYPHEN',\n",
              " 'OPEN_OFFICE',\n",
              " 'OPEN_PLAN_HYPHEN',\n",
              " 'OPERATION_SYSTEM',\n",
              " 'OPERA_BROWSER',\n",
              " 'OPT_IN_HYPHEN',\n",
              " 'ORDER_OF_WORDS_WITH_NOT',\n",
              " 'OTHER_WISE_COMPOUND',\n",
              " 'OUGHT_SAY',\n",
              " 'OUT_COMPOUNDS',\n",
              " 'OUT_OF_POCKET_HYPHEN',\n",
              " 'OVER_COMPOUNDS',\n",
              " 'OWNER_COMPOUNDS',\n",
              " 'PASSWORD_PROTECTED_HYPHEN',\n",
              " 'PAYED',\n",
              " 'PAY_PAL',\n",
              " 'PEDAL_TO_THE_METAL',\n",
              " 'PEOPLE_VBZ',\n",
              " 'PERSONA_NON_GRATA',\n",
              " 'PERSON_HYPHEN',\n",
              " 'PERS_PRONOUN_AGREEMENT',\n",
              " 'PER_USER_BASIS_HYPHEN',\n",
              " 'PHRASAL_VERB_SOMETIME',\n",
              " 'PHRASE_REPETITION',\n",
              " 'PICK_UP_COMPOUND',\n",
              " 'PIECE_HYPHEN',\n",
              " 'PLACE_COMPOUNDS',\n",
              " 'PLAY_ED',\n",
              " 'PLEASE_BE_VB',\n",
              " 'PLEASE_NOT_VB',\n",
              " 'PLEASE_TO_MEET_YOU',\n",
              " 'PLEASE_VB',\n",
              " 'PLURAL_THAT_WHICH_WHO_AGREEMENT',\n",
              " 'PLURAL_VERB_AFTER_THIS',\n",
              " 'POKEMON',\n",
              " 'POKEMONS',\n",
              " 'POKEMON_GO',\n",
              " 'POSSESSIVE_CASE',\n",
              " 'POST_IT_NOTE_HYPHEN',\n",
              " 'POWER_SHELL',\n",
              " 'PREFER_TO_VBG',\n",
              " 'PREPOSITION_VERB',\n",
              " 'PRESIDENT_TRUMP',\n",
              " 'PRE_AND_POST_NN',\n",
              " 'PRE_YEAR_HYPHEN',\n",
              " 'PRIME_TIME_HYPHEN',\n",
              " 'PRINT_COMPOUNDS',\n",
              " 'PROBLEM_SOLVE_HYPHEN',\n",
              " 'PROGRESSIVE_VERBS',\n",
              " 'PRONOUN_NOUN',\n",
              " 'PROOFED_PROVED',\n",
              " 'PROOF_COMPOUNDS',\n",
              " 'PROSTRATE_PROSTATE',\n",
              " 'PRP_ABLE_TO',\n",
              " 'PRP_ANIT',\n",
              " 'PRP_BOUGH',\n",
              " 'PRP_CUSTOM_BUILD',\n",
              " 'PRP_DELT',\n",
              " 'PRP_DINT',\n",
              " 'PRP_DOCENT',\n",
              " 'PRP_DON',\n",
              " 'PRP_DOS',\n",
              " 'PRP_DRYS',\n",
              " 'PRP_FOND',\n",
              " 'PRP_GOS',\n",
              " 'PRP_HAFT',\n",
              " 'PRP_HAVES',\n",
              " 'PRP_HAVE_VB',\n",
              " 'PRP_ILL_VB',\n",
              " 'PRP_JJ',\n",
              " 'PRP_KNOWNS',\n",
              " 'PRP_MAYBE_JJ',\n",
              " 'PRP_MD_CD_IN',\n",
              " 'PRP_MD_NN',\n",
              " 'PRP_MIGHT',\n",
              " 'PRP_MUS',\n",
              " 'PRP_NEDS',\n",
              " 'PRP_NOWS',\n",
              " 'PRP_NO_VB',\n",
              " 'PRP_PAST_PART',\n",
              " 'PRP_PORTRAIT',\n",
              " 'PRP_RB_JJ',\n",
              " 'PRP_RB_NO_VB',\n",
              " 'PRP_REPITION',\n",
              " 'PRP_SAIS',\n",
              " 'PRP_SOOTHS',\n",
              " 'PRP_SUITES',\n",
              " 'PRP_THE',\n",
              " 'PRP_VB',\n",
              " 'PRP_VBG',\n",
              " 'PRP_VB_VB_TO',\n",
              " 'PRP_WONT',\n",
              " 'PRP_WUS',\n",
              " 'PUSH_UP_HYPHEN',\n",
              " 'QUEENS_GAMBIT',\n",
              " 'QUESTION_WITHOUT_VERB',\n",
              " 'RAIN_COMPOUNDS',\n",
              " 'RED_LIGHT_HYPHEN',\n",
              " 'RED_NOSED_REINDEER',\n",
              " 'REGARDING_TO',\n",
              " 'RELATIVE_CLAUSE_AGREEMENT',\n",
              " 'RELY_ON',\n",
              " 'REPEATED_VERBS',\n",
              " 'RE_DO_COMPOUND',\n",
              " 'RINGO_STARR',\n",
              " 'ROLE_PLAY_HYPHEN',\n",
              " 'ROLLER_SKATE_HYPHEN',\n",
              " 'ROLLS_ROYCE',\n",
              " 'ROLL_COMPOUNDS',\n",
              " 'RONALD_REAGAN',\n",
              " 'ROOM_APARTMENT_HYPHEN',\n",
              " 'ROOM_COMPOUNDS',\n",
              " 'RUNNER_UP_HYPHEN',\n",
              " 'RUN_ON_HYPHEN',\n",
              " 'SAINSBURYS',\n",
              " 'SAINT_TROPEZ',\n",
              " 'SALVADOR_DALI',\n",
              " 'SAME_SEX_HYPHEN',\n",
              " 'SAMS_CLUB',\n",
              " 'SANTA_CLAUS',\n",
              " 'SAO_PAOLO',\n",
              " 'SCHITTS_CREEK',\n",
              " 'SEASONS_GREETINGS',\n",
              " 'SEAT_HYPHEN',\n",
              " 'SEA_COMPOUNDS',\n",
              " 'SEEMING_SEEMS',\n",
              " 'SENTENCE_FRAGMENT',\n",
              " 'SET_TOP_BOX_HYPHEN',\n",
              " 'SEVEN_ELEVEN',\n",
              " 'SEVERAL_OTHER',\n",
              " 'SHELL_COMPOUNDS',\n",
              " 'SHIP_COMPOUNDS',\n",
              " 'SHOE_IN',\n",
              " 'SHORT_COMPARATIVES',\n",
              " 'SHORT_SUPERLATIVES',\n",
              " 'SHOULD_BE_DO',\n",
              " 'SHOW_COMPOUNDS',\n",
              " 'SHUTDOWN',\n",
              " 'SIDE_COMPOUNDS',\n",
              " 'SIGN_IN',\n",
              " 'SIGN_INTO',\n",
              " 'SIMPLE_TO_USE_HYPHEN',\n",
              " 'SINGED_CONTRACT',\n",
              " 'SINGULAR_AGREEMENT_SENT_START',\n",
              " 'SINGULAR_NOUN_THAT_AGREEMENT',\n",
              " 'SINGULAR_THAT_WHICH_WHO_AGREEMENT',\n",
              " 'SINGULAR_VERB_AFTER_THESE_OR_THOSE',\n",
              " 'SKY_COMPOUNDS',\n",
              " 'SLOW_MO',\n",
              " 'SLUT_SHAME_HYPHEN',\n",
              " 'SMART_COMPOUNDS',\n",
              " 'SOCIETE_GENERALE',\n",
              " 'SOFTWARES',\n",
              " 'SOME_FACULTY',\n",
              " 'SOME_NN_VBP',\n",
              " 'SOME_TIMES_TIME',\n",
              " 'SOME_TIME_SOMETIMES',\n",
              " 'SOON_TO_BE_HYPHEN',\n",
              " 'SOUND_GREAT',\n",
              " 'SO_CALLED_HYPHEN',\n",
              " 'SPACEX',\n",
              " 'SPACE_COMPOUNDS',\n",
              " 'SPEAK_SPEECH',\n",
              " 'SPIDERMAN',\n",
              " 'SPLITTED',\n",
              " 'SPOKED',\n",
              " 'STAID',\n",
              " 'STAIRS_COMPOUNDS',\n",
              " 'STARS_AND_STEPS',\n",
              " 'STARTING_DOING',\n",
              " 'STATE_OF_THE_UNION',\n",
              " 'STEP_BY_STEP_HYPHEN',\n",
              " 'STEP_COMPOUNDS',\n",
              " 'STORY_HYPHEN',\n",
              " 'STRIKED',\n",
              " 'STRONG_ARM_HYPHEN',\n",
              " 'SUBJECT_MATTER_HYPHEN',\n",
              " 'SUBJECT_VERB_AGREEMENT',\n",
              " 'SUBJECT_VERB_AGREEMENT_PLURAL',\n",
              " 'SUIT_COMPOUNDS',\n",
              " 'SUPERIOR_THAN_TO',\n",
              " 'SUPERLATIVE_THAN',\n",
              " 'SUPER_COMPOUNDS',\n",
              " 'SUPER_TUESDAY',\n",
              " 'SUPPOSE_TO',\n",
              " 'SV_AGREEMENT_CLAUSES_PLURAL',\n",
              " 'SV_AGREEMENT_CLAUSES_SINGULAR',\n",
              " 'TAIL_COMPOUNDS',\n",
              " 'TAIL_GATE_COMPOUND',\n",
              " 'TAKEAWAY',\n",
              " 'TAKE_IT_PERSONAL',\n",
              " 'TAKE_SOMETIME',\n",
              " 'TEN_FOLD',\n",
              " 'THANKS_GIVING',\n",
              " 'THANKS_IN_ADVANCED',\n",
              " 'THANKS_YOUR',\n",
              " 'THANK_FULL',\n",
              " 'THANK_IN_ADVANCE',\n",
              " 'THAT_SOUND_GREAT',\n",
              " 'THAT_S_WHAT_S',\n",
              " 'THAT_S_YOU_RE',\n",
              " 'THAT_VERY_COOL',\n",
              " 'THEIR_S',\n",
              " 'THERE_AFTER',\n",
              " 'THERE_IS_A_LOT_OF',\n",
              " 'THERE_MISSING_VERB',\n",
              " 'THERE_RE_MANY',\n",
              " 'THERE_S_MANY',\n",
              " 'THERE_VBP_NN',\n",
              " 'THERE_WAS_MANY',\n",
              " 'THESE_ONES',\n",
              " 'THEY_WARE',\n",
              " 'THE_ADD_ON',\n",
              " 'THE_ARE',\n",
              " 'THE_BEST_WAY',\n",
              " 'THE_BUILT',\n",
              " 'THE_CC',\n",
              " 'THE_HEADQUARTER',\n",
              " 'THE_HOT_DOG',\n",
              " 'THE_IT',\n",
              " 'THE_MOST',\n",
              " 'THE_NN_AND_THE_NN',\n",
              " 'THE_PUNCT',\n",
              " 'THE_SAME_AS',\n",
              " 'THE_SENT_END',\n",
              " 'THE_SOME',\n",
              " 'THE_SUPERLATIVE',\n",
              " 'THE_THEY',\n",
              " 'THE_THIRD_PARTY',\n",
              " 'THE_US',\n",
              " 'THE_WELSH',\n",
              " 'THE_WORSE_OF',\n",
              " 'THIS_ALL',\n",
              " 'THIS_CD',\n",
              " 'THIS_IS_HAVE',\n",
              " 'THIS_MISSING_VERB',\n",
              " 'THIS_NNS',\n",
              " 'THIS_NNS_VB',\n",
              " 'THIS_TOOLS',\n",
              " 'THIS_TWO_MEN',\n",
              " 'THOUGH_THOUGHT',\n",
              " 'THOUSANDS_OF_NN',\n",
              " 'THUNDER_COMPOUNDS',\n",
              " 'TH_CENTURY',\n",
              " 'TIK_TOK',\n",
              " 'TIP_AND_TRICK',\n",
              " 'TOO_ADJECTIVE_TO',\n",
              " 'TOO_EITHER',\n",
              " 'TOP_DOWN_HYPHEN',\n",
              " 'TOSS_UP_HYPHEN',\n",
              " 'TO_ABLE',\n",
              " 'TO_ALL_INTENTS_AND_PURPOSES',\n",
              " 'TO_DO_HYPHEN',\n",
              " 'TO_FRESH_UP',\n",
              " 'TO_JJR_THAN',\n",
              " 'TO_NON_BASE',\n",
              " 'TO_RB_TO_VB',\n",
              " 'TO_WITHDRAWN',\n",
              " 'TRAVELERS_CHECK',\n",
              " 'TWITTER',\n",
              " 'TWO_CONNECTED_MODAL_VERBS',\n",
              " 'TYPO_FORM_FROM',\n",
              " 'TYPO_THEY_S',\n",
              " 'T_REX',\n",
              " 'UKRAINE_NO_THE',\n",
              " 'UNCLE_BENS',\n",
              " 'UNDER_COMPOUNDS',\n",
              " 'UNDER_COVER_COMPOUND',\n",
              " 'UNDOS',\n",
              " 'UNKNOWN_HAVE_ITS',\n",
              " 'UP_COMPOUNDS',\n",
              " 'USE_TO_VERB',\n",
              " 'U_RE',\n",
              " 'VERB_HERE_SINCE',\n",
              " 'VERY_THANKS_THANKS_A_LOT',\n",
              " 'VE_DIDNT',\n",
              " 'VE_HAVING',\n",
              " 'VICTORIAS_SECRET',\n",
              " 'VITAMIN_C',\n",
              " 'VON_DER_LEYEN',\n",
              " 'WAKE_UP_HYPHEN',\n",
              " 'WALTER_REED',\n",
              " 'WANT_ONE',\n",
              " 'WANT_THAT_I',\n",
              " 'WANT_TO_NN',\n",
              " 'WARE_COMPOUNDS',\n",
              " 'WASENT',\n",
              " 'WASEN_T',\n",
              " 'WAS_BEEN',\n",
              " 'WAS_IS',\n",
              " 'WAS_THERE_MANY',\n",
              " 'WAY_COMPOUNDS',\n",
              " 'WEB_COMPOUNDS',\n",
              " 'WEEK_END',\n",
              " 'WEEK_HYPHEN',\n",
              " 'WEEK_LONG_HYPHEN',\n",
              " 'WELL_KNOWN',\n",
              " 'WENDYS',\n",
              " 'WENT',\n",
              " 'WERNHER_VON_BRAUN',\n",
              " 'WE_RB_ARE_VB',\n",
              " 'WHATS_APP',\n",
              " 'WHAT_DID_VBD',\n",
              " 'WHAT_DO_THAT',\n",
              " 'WHAT_IS_REASON',\n",
              " 'WHAT_IS_YOU',\n",
              " 'WHAT_TO_VBD',\n",
              " 'WHAT_VBZ',\n",
              " 'WHEEL_COMPOUNDS',\n",
              " 'WHEEL_HYPHEN',\n",
              " 'WHEN_IS_NNP_AND_NNP',\n",
              " 'WHERE_MD_VB',\n",
              " 'WHERE_YOU_FROM',\n",
              " 'WHITE_HOUSE',\n",
              " 'WHOLE_COMPOUNDS',\n",
              " 'WHO_NOUN',\n",
              " 'WHO_S_NN_VB',\n",
              " 'WHO_VERB',\n",
              " 'WH_PHRASE_AGREEMENT',\n",
              " 'WIDE_COMPOUNDS',\n",
              " 'WIEN',\n",
              " 'WILL_BASED_ON',\n",
              " 'WILL_BECOMING',\n",
              " 'WILL_LIKE_TO',\n",
              " 'WOLD_WOULD',\n",
              " 'WOLFS',\n",
              " 'WOMAN_COMPOUNDS',\n",
              " 'WOMAN_WOMEN',\n",
              " 'WON_T_TO',\n",
              " 'WORD_ESSAY_HYPHEN',\n",
              " 'WORKER_COMPOUNDS',\n",
              " 'WORK_AROUND_COMPOUND',\n",
              " 'WORK_LIFE_BALANCE',\n",
              " 'WORLDS_BEST',\n",
              " 'WORSE_WORST',\n",
              " 'WORST_WORSE',\n",
              " 'WORTHY_COMPOUNDS',\n",
              " 'WOULD_BE_JJ_VB',\n",
              " 'WOULD_NEVER_VBN',\n",
              " 'WOUN_T',\n",
              " 'WRITER_COMPOUNDS',\n",
              " 'WRITE_UP_HYPHEN',\n",
              " 'WRONG_PRP_AT_SENT_START',\n",
              " 'WROTE',\n",
              " 'WUD_LIKE',\n",
              " 'YARD_COMPOUNDS',\n",
              " 'YARD_HYPHEN',\n",
              " 'YA_LL',\n",
              " 'YEAR_HYPHEN',\n",
              " 'YOUR_LOVES_ONES',\n",
              " 'YOUR_RE',\n",
              " 'YOU_GOOD',\n",
              " 'YOU_HAV',\n",
              " 'YOU_R',\n",
              " 'YOU_RE_AREN_T',\n",
              " 'YOU_TUBE',\n",
              " 'ZERO_DAY_EXPLOIT_HYPHEN',\n",
              " 'Z_WAVE'}"
            ]
          },
          "metadata": {},
          "execution_count": 33
        }
      ]
    },
    {
      "cell_type": "code",
      "source": [
        "def check_spelling(text):\n",
        "    error_and_correct_grammar = {}\n",
        "    error_and_correct_spelling = {}\n",
        "    matches = nlp_tool.check(text)\n",
        "    for rules in matches:\n",
        "        if len(rules.replacements)>0:\n",
        "            start_positions = rules.offset\n",
        "            end_positions = rules.errorLength+rules.offset\n",
        "            error = text[rules.offset:rules.errorLength+rules.offset]\n",
        "            correct = rules.replacements[0]\n",
        "            print(correct)\n",
        "            if rules.ruleId in language_tool_dict['GRAMMAR']['id'] or rules.ruleId == 'EN_A_VS_AN':\n",
        "                error_and_correct_grammar[(start_positions, end_positions)] = (error, correct)\n",
        "            else:\n",
        "                error_and_correct_spelling[(start_positions, end_positions)] = (error, correct)\n",
        "    return {\n",
        "        \"error_and_correct_grammar\": error_and_correct_grammar,\n",
        "        \"error_and_correct_spelling\": error_and_correct_spelling\n",
        "        }"
      ],
      "metadata": {
        "id": "8Krv9ZmHHDdz"
      },
      "execution_count": null,
      "outputs": []
    },
    {
      "cell_type": "code",
      "source": [
        "question_respond = \"I is learning Englih\""
      ],
      "metadata": {
        "id": "JNqD4bQLLJtP"
      },
      "execution_count": null,
      "outputs": []
    },
    {
      "cell_type": "code",
      "source": [
        "check_spelling(question_respond)"
      ],
      "metadata": {
        "id": "j2viC_WXK4Zv",
        "colab": {
          "base_uri": "https://localhost:8080/"
        },
        "outputId": "b8c168d1-a2c9-45fc-afd3-acaae1426eb6"
      },
      "execution_count": null,
      "outputs": [
        {
          "output_type": "stream",
          "name": "stdout",
          "text": [
            "am\n",
            "English\n"
          ]
        },
        {
          "output_type": "execute_result",
          "data": {
            "text/plain": [
              "{'error_and_correct_grammar': {(2, 4): ('is', 'am')},\n",
              " 'error_and_correct_spelling': {(14, 20): ('Englih', 'English')}}"
            ]
          },
          "metadata": {},
          "execution_count": 36
        }
      ]
    },
    {
      "cell_type": "markdown",
      "source": [
        "###CEFR Score"
      ],
      "metadata": {
        "id": "cRT05bbPNne-"
      }
    },
    {
      "cell_type": "code",
      "source": [
        "import trankit\n",
        "nlp_parser = trankit.Pipeline(lang=\"english\", gpu=True)\n",
        "\n",
        "def nlp_sentence_parser(text):\n",
        "    sentences, nlp_sentences = [], []\n",
        "    for nlp_sentence in nlp_parser(text)['sentences']:\n",
        "        sentence = nlp_sentence['text']\n",
        "        nlp_sentence = nlp_sentence['tokens']\n",
        "        pos_dep = [(nlp['text'], nlp['xpos'], nlp['upos'],\n",
        "                    nlp['deprel'], nlp['lemma']) for nlp in nlp_sentence]\n",
        "\n",
        "        sentences.append(sentence)\n",
        "        nlp_sentences.append(pos_dep)\n",
        "\n",
        "    return sentences, nlp_sentences"
      ],
      "metadata": {
        "id": "jcU-kdMQOB5G",
        "colab": {
          "base_uri": "https://localhost:8080/",
          "height": 287,
          "referenced_widgets": [
            "96532cbb087c4846aae56d15a6e7024e",
            "db579c800c6f4099965a71d370c7c4a3",
            "12fa0b2d5c714341bf247f398ec1566d",
            "086b7480b68a4b849947304676772c11",
            "fbc0cdcf0e154a309ac02c1412fb8d39",
            "04bbeadcbe62400c8c780afa8180e72e",
            "663a7a07a520487cb76166c083f37257",
            "8c8c7784d82b4b57bce58ac434db04e4",
            "edd10a2879ac4ca7af886e0f3770a160",
            "ab2853a580ef4a6dbb77dc785e46532c",
            "ee4ff3fa4e9241f8892da99d0df2a42b",
            "4d6a2ffb9470484bbc971bfc2b048565",
            "945c568dd6e34a96b314244c400bf686",
            "ea82ad840c194ad28c49a3640d0abffc",
            "b26898cc1504497389b69e9c192a7ba3",
            "37142703537f494ab878f61cd94526b2",
            "7c4321ffb51544d08672d2e11cb8afbd",
            "3058e73fae0b4c37a5df65f0cf63e385",
            "1225033e378d4edeabbc7e305eb1e391",
            "785f97ec1ec7472eb629781e0d940c72",
            "ac53bb779f914e4d903fa0835609652f",
            "15a496d6c59246e8bfe58ce0bbc9337b",
            "3c446edd4ff044929a6d0556dff84530",
            "354fc82eb5234e0d95d41c2023211394",
            "0e6304b4d26d4429947701cbed777356",
            "0771c33bd1824b79ab28ddc424cb56af",
            "7444a4ce5a614066b14973ed0ceb8803",
            "328612b09ba24d8aa1d2af240fc5553c",
            "b074900c92bb40b9b793d0c8c820e9b7",
            "6e54b3af5a9b451885afe18afcd84761",
            "e4209b4a1621415997ee7ef3ae046200",
            "1e049ffbcb154c118afd2d16e65c51df",
            "a3a2b0dbe9c746beb0ecc89a2b2319b9"
          ]
        },
        "outputId": "643e4274-c524-4a89-8088-e64bcb5ee299"
      },
      "execution_count": null,
      "outputs": [
        {
          "output_type": "display_data",
          "data": {
            "text/plain": [
              "Downloading:   0%|          | 0.00/5.07M [00:00<?, ?B/s]"
            ],
            "application/vnd.jupyter.widget-view+json": {
              "version_major": 2,
              "version_minor": 0,
              "model_id": "96532cbb087c4846aae56d15a6e7024e"
            }
          },
          "metadata": {}
        },
        {
          "output_type": "stream",
          "name": "stdout",
          "text": [
            "http://nlp.uoregon.edu/download/trankit/v1.0.0/xlm-roberta-base/english.zip\n"
          ]
        },
        {
          "output_type": "stream",
          "name": "stderr",
          "text": [
            "Downloading: 100%|██████████| 47.9M/47.9M [00:04<00:00, 10.3MiB/s]\n"
          ]
        },
        {
          "output_type": "stream",
          "name": "stdout",
          "text": [
            "Loading pretrained XLM-Roberta, this may take a while...\n"
          ]
        },
        {
          "output_type": "display_data",
          "data": {
            "text/plain": [
              "Downloading:   0%|          | 0.00/512 [00:00<?, ?B/s]"
            ],
            "application/vnd.jupyter.widget-view+json": {
              "version_major": 2,
              "version_minor": 0,
              "model_id": "4d6a2ffb9470484bbc971bfc2b048565"
            }
          },
          "metadata": {}
        },
        {
          "output_type": "display_data",
          "data": {
            "text/plain": [
              "Downloading:   0%|          | 0.00/1.12G [00:00<?, ?B/s]"
            ],
            "application/vnd.jupyter.widget-view+json": {
              "version_major": 2,
              "version_minor": 0,
              "model_id": "3c446edd4ff044929a6d0556dff84530"
            }
          },
          "metadata": {}
        },
        {
          "output_type": "stream",
          "name": "stdout",
          "text": [
            "Loading tokenizer for english\n",
            "Loading tagger for english\n",
            "Loading lemmatizer for english\n",
            "Loading NER tagger for english\n",
            "==================================================\n",
            "Active language: english\n",
            "==================================================\n"
          ]
        }
      ]
    },
    {
      "cell_type": "code",
      "source": [
        "!gdown 1Ls0_r2OgVvMyng4HtFj22uxTly4kRJlv"
      ],
      "metadata": {
        "id": "rZ3vcvDKPCsA",
        "colab": {
          "base_uri": "https://localhost:8080/"
        },
        "outputId": "d9c5db80-7b2a-48bf-9601-4a6f899337de"
      },
      "execution_count": null,
      "outputs": [
        {
          "output_type": "stream",
          "name": "stdout",
          "text": [
            "Downloading...\n",
            "From: https://drive.google.com/uc?id=1Ls0_r2OgVvMyng4HtFj22uxTly4kRJlv\n",
            "To: /content/drive/MyDrive/IELTS_Score/vocab_cefr_en.csv\n",
            "\r  0% 0.00/163k [00:00<?, ?B/s]\r100% 163k/163k [00:00<00:00, 26.5MB/s]\n"
          ]
        }
      ]
    },
    {
      "cell_type": "code",
      "source": [
        "import pandas as pd\n",
        "def build_cefr_dict(path):\n",
        "    cefr_dict_en = pd.read_csv(path + \"/vocab_cefr_en.csv\")\n",
        "    cefr_dict = {}\n",
        "    for i in range(len(cefr_dict_en)):\n",
        "        word = cefr_dict_en['word'][i]\n",
        "        pos = cefr_dict_en['pos'][i]\n",
        "        cefr = cefr_dict_en['cefr'][i]\n",
        "        cefr_dict[(word, pos)] = cefr\n",
        "    return cefr_dict"
      ],
      "metadata": {
        "id": "m53kvr9KO16n"
      },
      "execution_count": null,
      "outputs": []
    },
    {
      "cell_type": "code",
      "source": [
        "cefr_dict = build_cefr_dict('/content')"
      ],
      "metadata": {
        "id": "gRSdBNWJOrdk",
        "colab": {
          "base_uri": "https://localhost:8080/",
          "height": 328
        },
        "outputId": "29c2d6d3-aa56-4192-bdd4-8004f39d0950"
      },
      "execution_count": null,
      "outputs": [
        {
          "output_type": "error",
          "ename": "FileNotFoundError",
          "evalue": "ignored",
          "traceback": [
            "\u001b[0;31m---------------------------------------------------------------------------\u001b[0m",
            "\u001b[0;31mFileNotFoundError\u001b[0m                         Traceback (most recent call last)",
            "\u001b[0;32m<ipython-input-41-b127dc0b34ff>\u001b[0m in \u001b[0;36m<module>\u001b[0;34m\u001b[0m\n\u001b[0;32m----> 1\u001b[0;31m \u001b[0mcefr_dict\u001b[0m \u001b[0;34m=\u001b[0m \u001b[0mbuild_cefr_dict\u001b[0m\u001b[0;34m(\u001b[0m\u001b[0;34m'/content'\u001b[0m\u001b[0;34m)\u001b[0m\u001b[0;34m\u001b[0m\u001b[0;34m\u001b[0m\u001b[0m\n\u001b[0m",
            "\u001b[0;32m<ipython-input-39-bc3622a7447e>\u001b[0m in \u001b[0;36mbuild_cefr_dict\u001b[0;34m(path)\u001b[0m\n\u001b[1;32m      1\u001b[0m \u001b[0;32mimport\u001b[0m \u001b[0mpandas\u001b[0m \u001b[0;32mas\u001b[0m \u001b[0mpd\u001b[0m\u001b[0;34m\u001b[0m\u001b[0;34m\u001b[0m\u001b[0m\n\u001b[1;32m      2\u001b[0m \u001b[0;32mdef\u001b[0m \u001b[0mbuild_cefr_dict\u001b[0m\u001b[0;34m(\u001b[0m\u001b[0mpath\u001b[0m\u001b[0;34m)\u001b[0m\u001b[0;34m:\u001b[0m\u001b[0;34m\u001b[0m\u001b[0;34m\u001b[0m\u001b[0m\n\u001b[0;32m----> 3\u001b[0;31m     \u001b[0mcefr_dict_en\u001b[0m \u001b[0;34m=\u001b[0m \u001b[0mpd\u001b[0m\u001b[0;34m.\u001b[0m\u001b[0mread_csv\u001b[0m\u001b[0;34m(\u001b[0m\u001b[0mpath\u001b[0m \u001b[0;34m+\u001b[0m \u001b[0;34m\"/vocab_cefr_en.csv\"\u001b[0m\u001b[0;34m)\u001b[0m\u001b[0;34m\u001b[0m\u001b[0;34m\u001b[0m\u001b[0m\n\u001b[0m\u001b[1;32m      4\u001b[0m     \u001b[0mcefr_dict\u001b[0m \u001b[0;34m=\u001b[0m \u001b[0;34m{\u001b[0m\u001b[0;34m}\u001b[0m\u001b[0;34m\u001b[0m\u001b[0;34m\u001b[0m\u001b[0m\n\u001b[1;32m      5\u001b[0m     \u001b[0;32mfor\u001b[0m \u001b[0mi\u001b[0m \u001b[0;32min\u001b[0m \u001b[0mrange\u001b[0m\u001b[0;34m(\u001b[0m\u001b[0mlen\u001b[0m\u001b[0;34m(\u001b[0m\u001b[0mcefr_dict_en\u001b[0m\u001b[0;34m)\u001b[0m\u001b[0;34m)\u001b[0m\u001b[0;34m:\u001b[0m\u001b[0;34m\u001b[0m\u001b[0;34m\u001b[0m\u001b[0m\n",
            "\u001b[0;32m/usr/local/lib/python3.8/dist-packages/pandas/util/_decorators.py\u001b[0m in \u001b[0;36mwrapper\u001b[0;34m(*args, **kwargs)\u001b[0m\n\u001b[1;32m    309\u001b[0m                     \u001b[0mstacklevel\u001b[0m\u001b[0;34m=\u001b[0m\u001b[0mstacklevel\u001b[0m\u001b[0;34m,\u001b[0m\u001b[0;34m\u001b[0m\u001b[0;34m\u001b[0m\u001b[0m\n\u001b[1;32m    310\u001b[0m                 )\n\u001b[0;32m--> 311\u001b[0;31m             \u001b[0;32mreturn\u001b[0m \u001b[0mfunc\u001b[0m\u001b[0;34m(\u001b[0m\u001b[0;34m*\u001b[0m\u001b[0margs\u001b[0m\u001b[0;34m,\u001b[0m \u001b[0;34m**\u001b[0m\u001b[0mkwargs\u001b[0m\u001b[0;34m)\u001b[0m\u001b[0;34m\u001b[0m\u001b[0;34m\u001b[0m\u001b[0m\n\u001b[0m\u001b[1;32m    312\u001b[0m \u001b[0;34m\u001b[0m\u001b[0m\n\u001b[1;32m    313\u001b[0m         \u001b[0;32mreturn\u001b[0m \u001b[0mwrapper\u001b[0m\u001b[0;34m\u001b[0m\u001b[0;34m\u001b[0m\u001b[0m\n",
            "\u001b[0;32m/usr/local/lib/python3.8/dist-packages/pandas/io/parsers/readers.py\u001b[0m in \u001b[0;36mread_csv\u001b[0;34m(filepath_or_buffer, sep, delimiter, header, names, index_col, usecols, squeeze, prefix, mangle_dupe_cols, dtype, engine, converters, true_values, false_values, skipinitialspace, skiprows, skipfooter, nrows, na_values, keep_default_na, na_filter, verbose, skip_blank_lines, parse_dates, infer_datetime_format, keep_date_col, date_parser, dayfirst, cache_dates, iterator, chunksize, compression, thousands, decimal, lineterminator, quotechar, quoting, doublequote, escapechar, comment, encoding, encoding_errors, dialect, error_bad_lines, warn_bad_lines, on_bad_lines, delim_whitespace, low_memory, memory_map, float_precision, storage_options)\u001b[0m\n\u001b[1;32m    584\u001b[0m     \u001b[0mkwds\u001b[0m\u001b[0;34m.\u001b[0m\u001b[0mupdate\u001b[0m\u001b[0;34m(\u001b[0m\u001b[0mkwds_defaults\u001b[0m\u001b[0;34m)\u001b[0m\u001b[0;34m\u001b[0m\u001b[0;34m\u001b[0m\u001b[0m\n\u001b[1;32m    585\u001b[0m \u001b[0;34m\u001b[0m\u001b[0m\n\u001b[0;32m--> 586\u001b[0;31m     \u001b[0;32mreturn\u001b[0m \u001b[0m_read\u001b[0m\u001b[0;34m(\u001b[0m\u001b[0mfilepath_or_buffer\u001b[0m\u001b[0;34m,\u001b[0m \u001b[0mkwds\u001b[0m\u001b[0;34m)\u001b[0m\u001b[0;34m\u001b[0m\u001b[0;34m\u001b[0m\u001b[0m\n\u001b[0m\u001b[1;32m    587\u001b[0m \u001b[0;34m\u001b[0m\u001b[0m\n\u001b[1;32m    588\u001b[0m \u001b[0;34m\u001b[0m\u001b[0m\n",
            "\u001b[0;32m/usr/local/lib/python3.8/dist-packages/pandas/io/parsers/readers.py\u001b[0m in \u001b[0;36m_read\u001b[0;34m(filepath_or_buffer, kwds)\u001b[0m\n\u001b[1;32m    480\u001b[0m \u001b[0;34m\u001b[0m\u001b[0m\n\u001b[1;32m    481\u001b[0m     \u001b[0;31m# Create the parser.\u001b[0m\u001b[0;34m\u001b[0m\u001b[0;34m\u001b[0m\u001b[0;34m\u001b[0m\u001b[0m\n\u001b[0;32m--> 482\u001b[0;31m     \u001b[0mparser\u001b[0m \u001b[0;34m=\u001b[0m \u001b[0mTextFileReader\u001b[0m\u001b[0;34m(\u001b[0m\u001b[0mfilepath_or_buffer\u001b[0m\u001b[0;34m,\u001b[0m \u001b[0;34m**\u001b[0m\u001b[0mkwds\u001b[0m\u001b[0;34m)\u001b[0m\u001b[0;34m\u001b[0m\u001b[0;34m\u001b[0m\u001b[0m\n\u001b[0m\u001b[1;32m    483\u001b[0m \u001b[0;34m\u001b[0m\u001b[0m\n\u001b[1;32m    484\u001b[0m     \u001b[0;32mif\u001b[0m \u001b[0mchunksize\u001b[0m \u001b[0;32mor\u001b[0m \u001b[0miterator\u001b[0m\u001b[0;34m:\u001b[0m\u001b[0;34m\u001b[0m\u001b[0;34m\u001b[0m\u001b[0m\n",
            "\u001b[0;32m/usr/local/lib/python3.8/dist-packages/pandas/io/parsers/readers.py\u001b[0m in \u001b[0;36m__init__\u001b[0;34m(self, f, engine, **kwds)\u001b[0m\n\u001b[1;32m    809\u001b[0m             \u001b[0mself\u001b[0m\u001b[0;34m.\u001b[0m\u001b[0moptions\u001b[0m\u001b[0;34m[\u001b[0m\u001b[0;34m\"has_index_names\"\u001b[0m\u001b[0;34m]\u001b[0m \u001b[0;34m=\u001b[0m \u001b[0mkwds\u001b[0m\u001b[0;34m[\u001b[0m\u001b[0;34m\"has_index_names\"\u001b[0m\u001b[0;34m]\u001b[0m\u001b[0;34m\u001b[0m\u001b[0;34m\u001b[0m\u001b[0m\n\u001b[1;32m    810\u001b[0m \u001b[0;34m\u001b[0m\u001b[0m\n\u001b[0;32m--> 811\u001b[0;31m         \u001b[0mself\u001b[0m\u001b[0;34m.\u001b[0m\u001b[0m_engine\u001b[0m \u001b[0;34m=\u001b[0m \u001b[0mself\u001b[0m\u001b[0;34m.\u001b[0m\u001b[0m_make_engine\u001b[0m\u001b[0;34m(\u001b[0m\u001b[0mself\u001b[0m\u001b[0;34m.\u001b[0m\u001b[0mengine\u001b[0m\u001b[0;34m)\u001b[0m\u001b[0;34m\u001b[0m\u001b[0;34m\u001b[0m\u001b[0m\n\u001b[0m\u001b[1;32m    812\u001b[0m \u001b[0;34m\u001b[0m\u001b[0m\n\u001b[1;32m    813\u001b[0m     \u001b[0;32mdef\u001b[0m \u001b[0mclose\u001b[0m\u001b[0;34m(\u001b[0m\u001b[0mself\u001b[0m\u001b[0;34m)\u001b[0m\u001b[0;34m:\u001b[0m\u001b[0;34m\u001b[0m\u001b[0;34m\u001b[0m\u001b[0m\n",
            "\u001b[0;32m/usr/local/lib/python3.8/dist-packages/pandas/io/parsers/readers.py\u001b[0m in \u001b[0;36m_make_engine\u001b[0;34m(self, engine)\u001b[0m\n\u001b[1;32m   1038\u001b[0m             )\n\u001b[1;32m   1039\u001b[0m         \u001b[0;31m# error: Too many arguments for \"ParserBase\"\u001b[0m\u001b[0;34m\u001b[0m\u001b[0;34m\u001b[0m\u001b[0;34m\u001b[0m\u001b[0m\n\u001b[0;32m-> 1040\u001b[0;31m         \u001b[0;32mreturn\u001b[0m \u001b[0mmapping\u001b[0m\u001b[0;34m[\u001b[0m\u001b[0mengine\u001b[0m\u001b[0;34m]\u001b[0m\u001b[0;34m(\u001b[0m\u001b[0mself\u001b[0m\u001b[0;34m.\u001b[0m\u001b[0mf\u001b[0m\u001b[0;34m,\u001b[0m \u001b[0;34m**\u001b[0m\u001b[0mself\u001b[0m\u001b[0;34m.\u001b[0m\u001b[0moptions\u001b[0m\u001b[0;34m)\u001b[0m  \u001b[0;31m# type: ignore[call-arg]\u001b[0m\u001b[0;34m\u001b[0m\u001b[0;34m\u001b[0m\u001b[0m\n\u001b[0m\u001b[1;32m   1041\u001b[0m \u001b[0;34m\u001b[0m\u001b[0m\n\u001b[1;32m   1042\u001b[0m     \u001b[0;32mdef\u001b[0m \u001b[0m_failover_to_python\u001b[0m\u001b[0;34m(\u001b[0m\u001b[0mself\u001b[0m\u001b[0;34m)\u001b[0m\u001b[0;34m:\u001b[0m\u001b[0;34m\u001b[0m\u001b[0;34m\u001b[0m\u001b[0m\n",
            "\u001b[0;32m/usr/local/lib/python3.8/dist-packages/pandas/io/parsers/c_parser_wrapper.py\u001b[0m in \u001b[0;36m__init__\u001b[0;34m(self, src, **kwds)\u001b[0m\n\u001b[1;32m     49\u001b[0m \u001b[0;34m\u001b[0m\u001b[0m\n\u001b[1;32m     50\u001b[0m         \u001b[0;31m# open handles\u001b[0m\u001b[0;34m\u001b[0m\u001b[0;34m\u001b[0m\u001b[0;34m\u001b[0m\u001b[0m\n\u001b[0;32m---> 51\u001b[0;31m         \u001b[0mself\u001b[0m\u001b[0;34m.\u001b[0m\u001b[0m_open_handles\u001b[0m\u001b[0;34m(\u001b[0m\u001b[0msrc\u001b[0m\u001b[0;34m,\u001b[0m \u001b[0mkwds\u001b[0m\u001b[0;34m)\u001b[0m\u001b[0;34m\u001b[0m\u001b[0;34m\u001b[0m\u001b[0m\n\u001b[0m\u001b[1;32m     52\u001b[0m         \u001b[0;32massert\u001b[0m \u001b[0mself\u001b[0m\u001b[0;34m.\u001b[0m\u001b[0mhandles\u001b[0m \u001b[0;32mis\u001b[0m \u001b[0;32mnot\u001b[0m \u001b[0;32mNone\u001b[0m\u001b[0;34m\u001b[0m\u001b[0;34m\u001b[0m\u001b[0m\n\u001b[1;32m     53\u001b[0m \u001b[0;34m\u001b[0m\u001b[0m\n",
            "\u001b[0;32m/usr/local/lib/python3.8/dist-packages/pandas/io/parsers/base_parser.py\u001b[0m in \u001b[0;36m_open_handles\u001b[0;34m(self, src, kwds)\u001b[0m\n\u001b[1;32m    220\u001b[0m         \u001b[0mLet\u001b[0m \u001b[0mthe\u001b[0m \u001b[0mreaders\u001b[0m \u001b[0mopen\u001b[0m \u001b[0mIOHandles\u001b[0m \u001b[0mafter\u001b[0m \u001b[0mthey\u001b[0m \u001b[0mare\u001b[0m \u001b[0mdone\u001b[0m \u001b[0;32mwith\u001b[0m \u001b[0mtheir\u001b[0m \u001b[0mpotential\u001b[0m \u001b[0mraises\u001b[0m\u001b[0;34m.\u001b[0m\u001b[0;34m\u001b[0m\u001b[0;34m\u001b[0m\u001b[0m\n\u001b[1;32m    221\u001b[0m         \"\"\"\n\u001b[0;32m--> 222\u001b[0;31m         self.handles = get_handle(\n\u001b[0m\u001b[1;32m    223\u001b[0m             \u001b[0msrc\u001b[0m\u001b[0;34m,\u001b[0m\u001b[0;34m\u001b[0m\u001b[0;34m\u001b[0m\u001b[0m\n\u001b[1;32m    224\u001b[0m             \u001b[0;34m\"r\"\u001b[0m\u001b[0;34m,\u001b[0m\u001b[0;34m\u001b[0m\u001b[0;34m\u001b[0m\u001b[0m\n",
            "\u001b[0;32m/usr/local/lib/python3.8/dist-packages/pandas/io/common.py\u001b[0m in \u001b[0;36mget_handle\u001b[0;34m(path_or_buf, mode, encoding, compression, memory_map, is_text, errors, storage_options)\u001b[0m\n\u001b[1;32m    700\u001b[0m         \u001b[0;32mif\u001b[0m \u001b[0mioargs\u001b[0m\u001b[0;34m.\u001b[0m\u001b[0mencoding\u001b[0m \u001b[0;32mand\u001b[0m \u001b[0;34m\"b\"\u001b[0m \u001b[0;32mnot\u001b[0m \u001b[0;32min\u001b[0m \u001b[0mioargs\u001b[0m\u001b[0;34m.\u001b[0m\u001b[0mmode\u001b[0m\u001b[0;34m:\u001b[0m\u001b[0;34m\u001b[0m\u001b[0;34m\u001b[0m\u001b[0m\n\u001b[1;32m    701\u001b[0m             \u001b[0;31m# Encoding\u001b[0m\u001b[0;34m\u001b[0m\u001b[0;34m\u001b[0m\u001b[0;34m\u001b[0m\u001b[0m\n\u001b[0;32m--> 702\u001b[0;31m             handle = open(\n\u001b[0m\u001b[1;32m    703\u001b[0m                 \u001b[0mhandle\u001b[0m\u001b[0;34m,\u001b[0m\u001b[0;34m\u001b[0m\u001b[0;34m\u001b[0m\u001b[0m\n\u001b[1;32m    704\u001b[0m                 \u001b[0mioargs\u001b[0m\u001b[0;34m.\u001b[0m\u001b[0mmode\u001b[0m\u001b[0;34m,\u001b[0m\u001b[0;34m\u001b[0m\u001b[0;34m\u001b[0m\u001b[0m\n",
            "\u001b[0;31mFileNotFoundError\u001b[0m: [Errno 2] No such file or directory: '/content/vocab_cefr_en.csv'"
          ]
        }
      ]
    },
    {
      "cell_type": "code",
      "source": [
        "cefr_dict"
      ],
      "metadata": {
        "id": "DxHv9v31PQWI",
        "colab": {
          "base_uri": "https://localhost:8080/",
          "height": 165
        },
        "outputId": "5d52ab54-8072-46ba-cb24-2d685f9dc387"
      },
      "execution_count": null,
      "outputs": [
        {
          "output_type": "error",
          "ename": "NameError",
          "evalue": "ignored",
          "traceback": [
            "\u001b[0;31m---------------------------------------------------------------------------\u001b[0m",
            "\u001b[0;31mNameError\u001b[0m                                 Traceback (most recent call last)",
            "\u001b[0;32m<ipython-input-42-efd43db537f2>\u001b[0m in \u001b[0;36m<module>\u001b[0;34m\u001b[0m\n\u001b[0;32m----> 1\u001b[0;31m \u001b[0mcefr_dict\u001b[0m\u001b[0;34m\u001b[0m\u001b[0;34m\u001b[0m\u001b[0m\n\u001b[0m",
            "\u001b[0;31mNameError\u001b[0m: name 'cefr_dict' is not defined"
          ]
        }
      ]
    },
    {
      "cell_type": "code",
      "source": [
        "def cefr_vocab(text):\n",
        "    text, text_nlp = nlp_sentence_parser(text)\n",
        "    pos_words = [(word_nlp[4], word_nlp[2]) for word_nlp in text_nlp[0]]\n",
        "    list_cefr = {'A1':[], 'A2':[], 'B1':[], 'B2':[], 'C1':[], 'C2':[]}\n",
        "    for sub in pos_words:\n",
        "        if sub in cefr_dict and sub[0] not in list_cefr[cefr_dict[sub]]:\n",
        "            list_cefr[cefr_dict[sub]].append(sub[0])\n",
        "    return list_cefr"
      ],
      "metadata": {
        "id": "NtBxkLniK8De"
      },
      "execution_count": null,
      "outputs": []
    },
    {
      "cell_type": "code",
      "source": [
        "cefr_vocab(\"people's voting habits are influenced by political, social and economic factors\")"
      ],
      "metadata": {
        "id": "TRSAOseNQOcU"
      },
      "execution_count": null,
      "outputs": []
    },
    {
      "cell_type": "markdown",
      "source": [
        "###Synonym words, antonym words"
      ],
      "metadata": {
        "id": "Y-QLc6ZrTPyk"
      }
    },
    {
      "cell_type": "code",
      "source": [
        "!pip install fasttext"
      ],
      "metadata": {
        "id": "MMa7JFwGUq7d"
      },
      "execution_count": null,
      "outputs": []
    },
    {
      "cell_type": "code",
      "source": [
        "import fasttext\n",
        "from nltk import everygrams\n",
        "from sklearn.metrics.pairwise import cosine_similarity"
      ],
      "metadata": {
        "id": "_nl2Z9WgUsya"
      },
      "execution_count": null,
      "outputs": []
    },
    {
      "cell_type": "code",
      "source": [
        "!gdown 1LxvvZkS6mUavbltHHEfxp8mZQYaiBNnO # Syn, ant dictionary\n",
        "!gdown 1MDrD4qSWNG51qU__kxuCXpWamzqInRBk # fasttext"
      ],
      "metadata": {
        "id": "L2RZH_QySjGa"
      },
      "execution_count": null,
      "outputs": []
    },
    {
      "cell_type": "code",
      "source": [
        "def build_syn_ant_dict(path):\n",
        "    syn_ant_dict = pd.read_csv(path + \"/syn_ant_dic.csv\")\n",
        "    words_dict = {}\n",
        "    for i in range(len(syn_ant_dict)):\n",
        "        word = syn_ant_dict['word'][i]\n",
        "        syns = str(syn_ant_dict['synonyms'][i])\n",
        "        ants = str(syn_ant_dict['antonyms'][i])\n",
        "        if syns == 'nan':\n",
        "            syns = ''\n",
        "        if ants == 'nan':\n",
        "            ants = ''\n",
        "        words_dict[word] = [s.strip() for s in syns.split(\",\")], [a.strip() for a in ants.split(\",\")]\n",
        "    return words_dict"
      ],
      "metadata": {
        "id": "WyMdUZ-nUSls"
      },
      "execution_count": null,
      "outputs": []
    },
    {
      "cell_type": "code",
      "source": [
        "fasttext_model = fasttext.load_model('/content/cc.en.300.bin')\n",
        "syn_ant_dict = build_syn_ant_dict('/content')"
      ],
      "metadata": {
        "id": "7TTQGPnyT0-W"
      },
      "execution_count": null,
      "outputs": []
    },
    {
      "cell_type": "code",
      "source": [
        "syn_ant_dict['comfortable'][0][:5], syn_ant_dict['comfortable'][1][:5]"
      ],
      "metadata": {
        "id": "DhSgorDhVdi9"
      },
      "execution_count": null,
      "outputs": []
    },
    {
      "cell_type": "code",
      "source": [
        "def find_syn_ant(text, threshold_syn=0.5, threshold_ant=0.5):\n",
        "    syn_list, ant_list = [], []\n",
        "    ngram_list = list(everygrams(text.split(), min_len=1, max_len=8))\n",
        "    word_list = [\" \".join(list(word)) for word in ngram_list]\n",
        "    for word in word_list:\n",
        "        if syn_ant_dict.get(word)!=None:\n",
        "            for syn in syn_ant_dict.get(word)[0]:\n",
        "                if (syn in word_list) and (word != syn) and (syn not in word) and (word not in syn) and \\\n",
        "                    (syn, word) not in syn_list and (word, syn) not in syn_list and \\\n",
        "                    cosine_similarity((fasttext_model.get_word_vector(word), fasttext_model.get_word_vector(syn)))[1][0].item() >= threshold_syn:\n",
        "                    syn_list.append((word, syn))\n",
        "            for ant in syn_ant_dict.get(word)[1]:\n",
        "                if (ant in word_list) and (word != ant) and (ant not in word) and (word not in ant) and \\\n",
        "                    (ant, word) not in ant_list and (word, ant) not in ant_list and \\\n",
        "                    cosine_similarity((fasttext_model.get_word_vector(word), fasttext_model.get_word_vector(ant)))[1][0].item() >= threshold_ant:\n",
        "                    ant_list.append((word, ant))\n",
        "    return syn_list, ant_list"
      ],
      "metadata": {
        "id": "bAUiGud5VaEI"
      },
      "execution_count": null,
      "outputs": []
    },
    {
      "cell_type": "code",
      "source": [
        "ant_syn = ['We did not expect such a large number of people to attend the concert.',\n",
        "           'He has a big house in California.'\n",
        "           'She has a small apartment in Manhattan.'\n",
        "]"
      ],
      "metadata": {
        "id": "kTI2RIigXSsu"
      },
      "execution_count": null,
      "outputs": []
    },
    {
      "cell_type": "code",
      "source": [
        "find_syn_ant(\" \".join(ant_syn))"
      ],
      "metadata": {
        "id": "NQnlu6jdW6a7"
      },
      "execution_count": null,
      "outputs": []
    }
  ]
}