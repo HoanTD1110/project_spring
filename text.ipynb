{
 "cells": [
  {
   "cell_type": "code",
   "execution_count": 1,
   "id": "d0cea1fc-12d0-4f2b-b122-28b442d8e085",
   "metadata": {},
   "outputs": [
    {
     "data": {
      "text/plain": [
       "[PhysicalDevice(name='/physical_device:GPU:0', device_type='GPU')]"
      ]
     },
     "execution_count": 1,
     "metadata": {},
     "output_type": "execute_result"
    }
   ],
   "source": [
    "import numpy\n",
    "import matplotlib.pyplot as plt\n",
    "import cv2\n",
    "import pandas\n",
    "import os\n",
    "import random\n",
    "import json\n",
    "from PIL import Image\n",
    "import requests\n",
    "from tqdm.notebook import tqdm\n",
    "# keras lib\n",
    "from tensorflow import keras\n",
    "from keras import Sequential\n",
    "from keras.layers import Conv2D, MaxPooling2D, Dense, Flatten, LSTM\n",
    "import tensorflow\n",
    "tensorflow.config.list_physical_devices('GPU')"
   ]
  },
  {
   "cell_type": "markdown",
   "id": "e7ea7805-d95d-4bf7-bc73-b36f8f4b703f",
   "metadata": {},
   "source": [
    "# prepare data"
   ]
  },
  {
   "cell_type": "code",
   "execution_count": 2,
   "id": "8ae55b72-abb8-45e1-99a3-edb9bbd94b72",
   "metadata": {},
   "outputs": [
    {
     "data": {
      "text/html": [
       "<div>\n",
       "<style scoped>\n",
       "    .dataframe tbody tr th:only-of-type {\n",
       "        vertical-align: middle;\n",
       "    }\n",
       "\n",
       "    .dataframe tbody tr th {\n",
       "        vertical-align: top;\n",
       "    }\n",
       "\n",
       "    .dataframe thead th {\n",
       "        text-align: right;\n",
       "    }\n",
       "</style>\n",
       "<table border=\"1\" class=\"dataframe\">\n",
       "  <thead>\n",
       "    <tr style=\"text-align: right;\">\n",
       "      <th></th>\n",
       "      <th>id</th>\n",
       "      <th>label</th>\n",
       "      <th>description</th>\n",
       "      <th>user_tags</th>\n",
       "      <th>title</th>\n",
       "      <th>image_url</th>\n",
       "      <th>image_extension_original</th>\n",
       "    </tr>\n",
       "  </thead>\n",
       "  <tbody>\n",
       "    <tr>\n",
       "      <th>0</th>\n",
       "      <td>3519864665</td>\n",
       "      <td>0</td>\n",
       "      <td>None</td>\n",
       "      <td>[2009 road trip, obrero road trip]</td>\n",
       "      <td>Biltmore Estate</td>\n",
       "      <td>http://www.flickr.com/photos/95156977@N00/3519...</td>\n",
       "      <td>jpg</td>\n",
       "    </tr>\n",
       "    <tr>\n",
       "      <th>1</th>\n",
       "      <td>4896119055</td>\n",
       "      <td>0</td>\n",
       "      <td>None</td>\n",
       "      <td>[daulatabad, daulatabad fort, ellora, road trip]</td>\n",
       "      <td>Chand Minar</td>\n",
       "      <td>http://www.flickr.com/photos/24574470@N00/4896...</td>\n",
       "      <td>jpg</td>\n",
       "    </tr>\n",
       "    <tr>\n",
       "      <th>2</th>\n",
       "      <td>3468473862</td>\n",
       "      <td>0</td>\n",
       "      <td>After the flood, the boarded up stores bear up...</td>\n",
       "      <td>[cedarrapids, createsouthroadtrip2009, disaste...</td>\n",
       "      <td>Uplifting Graffiti</td>\n",
       "      <td>http://www.flickr.com/photos/73451168@N00/3468...</td>\n",
       "      <td>jpg</td>\n",
       "    </tr>\n",
       "    <tr>\n",
       "      <th>3</th>\n",
       "      <td>4120853942</td>\n",
       "      <td>0</td>\n",
       "      <td>None</td>\n",
       "      <td>[cork, enchente, flood, ireland, irlanda]</td>\n",
       "      <td>DSCF6487</td>\n",
       "      <td>http://www.flickr.com/photos/12947023@N00/4120...</td>\n",
       "      <td>jpg</td>\n",
       "    </tr>\n",
       "    <tr>\n",
       "      <th>4</th>\n",
       "      <td>4436083254</td>\n",
       "      <td>0</td>\n",
       "      <td>None</td>\n",
       "      <td>[athens georgia, brown, current, flood, mud, r...</td>\n",
       "      <td>Oconoe river - flooded</td>\n",
       "      <td>http://www.flickr.com/photos/60704492@N00/4436...</td>\n",
       "      <td>jpg</td>\n",
       "    </tr>\n",
       "  </tbody>\n",
       "</table>\n",
       "</div>"
      ],
      "text/plain": [
       "           id  label                                        description   \n",
       "0  3519864665      0                                               None  \\\n",
       "1  4896119055      0                                               None   \n",
       "2  3468473862      0  After the flood, the boarded up stores bear up...   \n",
       "3  4120853942      0                                               None   \n",
       "4  4436083254      0                                               None   \n",
       "\n",
       "                                           user_tags                   title   \n",
       "0                 [2009 road trip, obrero road trip]         Biltmore Estate  \\\n",
       "1   [daulatabad, daulatabad fort, ellora, road trip]             Chand Minar   \n",
       "2  [cedarrapids, createsouthroadtrip2009, disaste...      Uplifting Graffiti   \n",
       "3          [cork, enchente, flood, ireland, irlanda]                DSCF6487   \n",
       "4  [athens georgia, brown, current, flood, mud, r...  Oconoe river - flooded   \n",
       "\n",
       "                                           image_url image_extension_original  \n",
       "0  http://www.flickr.com/photos/95156977@N00/3519...                      jpg  \n",
       "1  http://www.flickr.com/photos/24574470@N00/4896...                      jpg  \n",
       "2  http://www.flickr.com/photos/73451168@N00/3468...                      jpg  \n",
       "3  http://www.flickr.com/photos/12947023@N00/4120...                      jpg  \n",
       "4  http://www.flickr.com/photos/60704492@N00/4436...                      jpg  "
      ]
     },
     "execution_count": 2,
     "metadata": {},
     "output_type": "execute_result"
    }
   ],
   "source": [
    "def get_image_from_url(url):\n",
    "    im = Image.open(requests.get(url, stream=True).raw)\n",
    "    return im\n",
    "\n",
    "with open('devset_images_metadata.json') as file:\n",
    "    data = json.load(file)\n",
    "    data = pandas.DataFrame(data['images'])\n",
    "    data.fillna('-1')\n",
    "    label = pandas.read_csv('devset_images_gt.csv')\n",
    "    data['image_id'] = pandas.to_numeric(data['image_id'])\n",
    "    data = pandas.merge(data, label, how='inner', left_on=['image_id'], right_on=['id'])\n",
    "    data = data[['id','label','description','user_tags','title','image_url','image_extension_original']]\n",
    "data.fillna('-1')\n",
    "data.head()"
   ]
  },
  {
   "cell_type": "code",
   "execution_count": 3,
   "id": "ec20413e-7bb4-4ece-828e-ea6a4f5fcabf",
   "metadata": {},
   "outputs": [],
   "source": [
    "img_id = data.id\n",
    "des = data.description\n",
    "tag = data.user_tags\n",
    "title = data.title\n",
    "label = data.label"
   ]
  },
  {
   "cell_type": "code",
   "execution_count": 4,
   "id": "c3c5906b-7762-48b2-8ed9-0f206688b569",
   "metadata": {},
   "outputs": [],
   "source": [
    "#convert text to vector.\n",
    "def vector(txt : str):\n",
    "    try:\n",
    "        txt = txt.lower()\n",
    "        txt = txt.replace('.','')\n",
    "        txt = txt.replace(',','')\n",
    "        matrix = txt.split()\n",
    "        matrix = [[val,matrix.count(val)] for val in set(matrix) \\\n",
    "                  if [val,matrix.count(val)] not in matrix]\n",
    "        matrix.sort(key = lambda x: x[1], reverse = True)\n",
    "        return matrix\n",
    "    except Exception:\n",
    "        return []"
   ]
  },
  {
   "cell_type": "code",
   "execution_count": 5,
   "id": "31cafe7b-3a4e-415c-ba36-e41140be0392",
   "metadata": {},
   "outputs": [
    {
     "name": "stdout",
     "output_type": "stream",
     "text": [
      "vectorize data:\n"
     ]
    },
    {
     "data": {
      "application/vnd.jupyter.widget-view+json": {
       "model_id": "92675c62e028455ea7337faecdd65b64",
       "version_major": 2,
       "version_minor": 0
      },
      "text/plain": [
       "  0%|          | 0/5280 [00:00<?, ?it/s]"
      ]
     },
     "metadata": {},
     "output_type": "display_data"
    },
    {
     "name": "stdout",
     "output_type": "stream",
     "text": [
      "preparing data!\n",
      "complete\n"
     ]
    },
    {
     "data": {
      "text/plain": [
       "6457"
      ]
     },
     "execution_count": 5,
     "metadata": {},
     "output_type": "execute_result"
    }
   ],
   "source": [
    "big_mat_words = []\n",
    "big_mat_num = []\n",
    "print('vectorize data:')\n",
    "for i in tqdm(range(len(des))):\n",
    "    if label[i] != 1:\n",
    "        continue\n",
    "    vct = vector(des[i])\n",
    "    for val in vct:\n",
    "        if val[0] not in big_mat_words:\n",
    "            big_mat_words.append(val[0])\n",
    "            big_mat_num.append(val[1])\n",
    "            continue\n",
    "        idx = big_mat_words.index(val[0])\n",
    "        big_mat_num[idx] += val[1]\n",
    "print('preparing data!')\n",
    "big_mat_check = [[big_mat_words[i],big_mat_num[i]] for i in range(len(big_mat_words))]\n",
    "big_mat_check.sort(key = lambda x: x[1], reverse = True)\n",
    "print('complete')\n",
    "len(big_mat_check)"
   ]
  },
  {
   "cell_type": "code",
   "execution_count": 6,
   "id": "8d1e14c3-e3ad-400a-aaa0-1dc11b54795f",
   "metadata": {},
   "outputs": [
    {
     "data": {
      "text/plain": [
       "['flood',\n",
       " 'flooding',\n",
       " 'water',\n",
       " 'floods',\n",
       " 'flooded',\n",
       " 'river',\n",
       " 'wet',\n",
       " 'rain',\n",
       " 'rains']"
      ]
     },
     "execution_count": 6,
     "metadata": {},
     "output_type": "execute_result"
    }
   ],
   "source": [
    "keywords = 'flood flooding water floods flooded river wet rain rains'\n",
    "keywords = keywords.split()\n",
    "keywords"
   ]
  },
  {
   "cell_type": "code",
   "execution_count": 7,
   "id": "c04b228e-3fc8-403c-83d0-3f6a5981ffc6",
   "metadata": {},
   "outputs": [],
   "source": [
    "def encode(text, keywords):\n",
    "    mat = [0 for _ in keywords]\n",
    "    try:\n",
    "        text = text.split()\n",
    "        for i in range(len(keywords)):\n",
    "            mat[i] += text.count(keywords[i])\n",
    "        return numpy.array(mat)\n",
    "    except Exception:\n",
    "        return numpy.array(mat)"
   ]
  },
  {
   "cell_type": "code",
   "execution_count": 8,
   "id": "0bf2d269-8ec2-48d2-95ba-67cdbd112316",
   "metadata": {},
   "outputs": [
    {
     "name": "stdout",
     "output_type": "stream",
     "text": [
      "create big vector:\n"
     ]
    },
    {
     "data": {
      "application/vnd.jupyter.widget-view+json": {
       "model_id": "6b1cf3f1cf2d4114a4ef3fe3c68b81ba",
       "version_major": 2,
       "version_minor": 0
      },
      "text/plain": [
       "  0%|          | 0/5280 [00:00<?, ?it/s]"
      ]
     },
     "metadata": {},
     "output_type": "display_data"
    },
    {
     "name": "stdout",
     "output_type": "stream",
     "text": [
      "preparing\n",
      "complete\n"
     ]
    },
    {
     "data": {
      "text/html": [
       "<div>\n",
       "<style scoped>\n",
       "    .dataframe tbody tr th:only-of-type {\n",
       "        vertical-align: middle;\n",
       "    }\n",
       "\n",
       "    .dataframe tbody tr th {\n",
       "        vertical-align: top;\n",
       "    }\n",
       "\n",
       "    .dataframe thead th {\n",
       "        text-align: right;\n",
       "    }\n",
       "</style>\n",
       "<table border=\"1\" class=\"dataframe\">\n",
       "  <thead>\n",
       "    <tr style=\"text-align: right;\">\n",
       "      <th></th>\n",
       "      <th>0</th>\n",
       "      <th>1</th>\n",
       "      <th>2</th>\n",
       "      <th>3</th>\n",
       "      <th>4</th>\n",
       "      <th>5</th>\n",
       "      <th>6</th>\n",
       "      <th>7</th>\n",
       "      <th>8</th>\n",
       "    </tr>\n",
       "  </thead>\n",
       "  <tbody>\n",
       "    <tr>\n",
       "      <th>0</th>\n",
       "      <td>0</td>\n",
       "      <td>0</td>\n",
       "      <td>0</td>\n",
       "      <td>0</td>\n",
       "      <td>0</td>\n",
       "      <td>0</td>\n",
       "      <td>0</td>\n",
       "      <td>0</td>\n",
       "      <td>0</td>\n",
       "    </tr>\n",
       "    <tr>\n",
       "      <th>1</th>\n",
       "      <td>0</td>\n",
       "      <td>0</td>\n",
       "      <td>0</td>\n",
       "      <td>0</td>\n",
       "      <td>0</td>\n",
       "      <td>0</td>\n",
       "      <td>0</td>\n",
       "      <td>0</td>\n",
       "      <td>0</td>\n",
       "    </tr>\n",
       "    <tr>\n",
       "      <th>2</th>\n",
       "      <td>0</td>\n",
       "      <td>0</td>\n",
       "      <td>0</td>\n",
       "      <td>0</td>\n",
       "      <td>0</td>\n",
       "      <td>0</td>\n",
       "      <td>0</td>\n",
       "      <td>0</td>\n",
       "      <td>0</td>\n",
       "    </tr>\n",
       "    <tr>\n",
       "      <th>3</th>\n",
       "      <td>0</td>\n",
       "      <td>0</td>\n",
       "      <td>0</td>\n",
       "      <td>0</td>\n",
       "      <td>0</td>\n",
       "      <td>0</td>\n",
       "      <td>0</td>\n",
       "      <td>0</td>\n",
       "      <td>0</td>\n",
       "    </tr>\n",
       "    <tr>\n",
       "      <th>4</th>\n",
       "      <td>0</td>\n",
       "      <td>0</td>\n",
       "      <td>0</td>\n",
       "      <td>0</td>\n",
       "      <td>9</td>\n",
       "      <td>9</td>\n",
       "      <td>0</td>\n",
       "      <td>0</td>\n",
       "      <td>0</td>\n",
       "    </tr>\n",
       "  </tbody>\n",
       "</table>\n",
       "</div>"
      ],
      "text/plain": [
       "   0  1  2  3  4  5  6  7  8\n",
       "0  0  0  0  0  0  0  0  0  0\n",
       "1  0  0  0  0  0  0  0  0  0\n",
       "2  0  0  0  0  0  0  0  0  0\n",
       "3  0  0  0  0  0  0  0  0  0\n",
       "4  0  0  0  0  9  9  0  0  0"
      ]
     },
     "execution_count": 8,
     "metadata": {},
     "output_type": "execute_result"
    }
   ],
   "source": [
    "big_vector = []\n",
    "print('create big vector:')\n",
    "for i in tqdm(range(len(des))):\n",
    "    sm_vct = numpy.array([0 for _ in keywords])\n",
    "    for j in range(len(sm_vct)):\n",
    "        sm_vct += encode(des[i], keywords) + encode(tag[i], keywords) + encode(title[i], keywords)\n",
    "    big_vector.append(sm_vct)\n",
    "print('preparing')\n",
    "big_vector = numpy.array(big_vector)\n",
    "print('complete')\n",
    "pandas.DataFrame(big_vector).head()"
   ]
  },
  {
   "cell_type": "code",
   "execution_count": 9,
   "id": "a8747509-2529-47ca-8943-3d6d0ec0e664",
   "metadata": {},
   "outputs": [
    {
     "data": {
      "text/plain": [
       "array([0, 0, 0, ..., 0, 0, 0], dtype=int64)"
      ]
     },
     "execution_count": 9,
     "metadata": {},
     "output_type": "execute_result"
    }
   ],
   "source": [
    "label = numpy.array(label)\n",
    "label"
   ]
  },
  {
   "cell_type": "code",
   "execution_count": 14,
   "id": "02cafcc9-751e-46db-a412-ce96c8f7078f",
   "metadata": {},
   "outputs": [],
   "source": [
    "test_data = pandas.read_csv('test.csv')\n",
    "test_data.fillna('-1')\n",
    "test_tt = test_data.title\n",
    "test_des = test_data.description\n",
    "test_tag = test_data.user_tags\n",
    "test_id = test_data.image_id"
   ]
  },
  {
   "cell_type": "code",
   "execution_count": 15,
   "id": "1cb08120-fde2-4f6d-b802-43714028d01d",
   "metadata": {},
   "outputs": [
    {
     "name": "stdout",
     "output_type": "stream",
     "text": [
      "create big vector:\n"
     ]
    },
    {
     "data": {
      "application/vnd.jupyter.widget-view+json": {
       "model_id": "4b0d8023628847169aab30f750fd616a",
       "version_major": 2,
       "version_minor": 0
      },
      "text/plain": [
       "  0%|          | 0/1320 [00:00<?, ?it/s]"
      ]
     },
     "metadata": {},
     "output_type": "display_data"
    },
    {
     "name": "stdout",
     "output_type": "stream",
     "text": [
      "preparing\n"
     ]
    }
   ],
   "source": [
    "big_vector = []\n",
    "print('create big vector:')\n",
    "for i in tqdm(range(len(test_tt))):\n",
    "    sm_vct = numpy.array([0 for _ in keywords])\n",
    "    for j in range(len(sm_vct)):\n",
    "        sm_vct += encode(test_tag[i], keywords) + encode(test_des[i], keywords) + encode(test_tt[i], keywords)\n",
    "    big_vector.append(sm_vct)\n",
    "print('preparing')\n",
    "X = numpy.array(big_vector)"
   ]
  },
  {
   "cell_type": "code",
   "execution_count": 16,
   "id": "061510cf-b3b9-416c-8d37-fbb75b076712",
   "metadata": {},
   "outputs": [
    {
     "ename": "TypeError",
     "evalue": "Can't convert object to 'str' for 'filename'",
     "output_type": "error",
     "traceback": [
      "\u001b[1;31m---------------------------------------------------------------------------\u001b[0m",
      "\u001b[1;31mTypeError\u001b[0m                                 Traceback (most recent call last)",
      "Cell \u001b[1;32mIn[16], line 4\u001b[0m\n\u001b[0;32m      2\u001b[0m list_image \u001b[38;5;241m=\u001b[39m os\u001b[38;5;241m.\u001b[39mlistdir(path)\n\u001b[0;32m      3\u001b[0m test_images \u001b[38;5;241m=\u001b[39m [path \u001b[38;5;241m+\u001b[39m \u001b[38;5;28mstr\u001b[39m(val)\u001b[38;5;241m+\u001b[39m\u001b[38;5;124m'\u001b[39m\u001b[38;5;124m.jpg\u001b[39m\u001b[38;5;124m'\u001b[39m \u001b[38;5;28;01mfor\u001b[39;00m val \u001b[38;5;129;01min\u001b[39;00m test_data[\u001b[38;5;124m'\u001b[39m\u001b[38;5;124mimage_id\u001b[39m\u001b[38;5;124m'\u001b[39m]]\n\u001b[1;32m----> 4\u001b[0m plt\u001b[38;5;241m.\u001b[39mimshow(\u001b[43mcv2\u001b[49m\u001b[38;5;241;43m.\u001b[39;49m\u001b[43mimread\u001b[49m\u001b[43m(\u001b[49m\u001b[43mtest_id\u001b[49m\u001b[43m[\u001b[49m\u001b[38;5;241;43m0\u001b[39;49m\u001b[43m]\u001b[49m\u001b[43m)\u001b[49m)\n",
      "\u001b[1;31mTypeError\u001b[0m: Can't convert object to 'str' for 'filename'"
     ]
    }
   ],
   "source": [
    "path = 'C:\\\\Users\\\\ADMIN\\\\Desktop\\\\document\\\\projects\\\\TDH-prj\\\\testset_images\\\\testset_images\\\\'\n",
    "list_image = os.listdir(path)\n",
    "test_images = [path + str(val)+'.jpg' for val in test_data['image_id']]\n",
    "plt.imshow(cv2.imread(test_images[0]))"
   ]
  },
  {
   "cell_type": "code",
   "execution_count": 13,
   "id": "aa8813f6-4d3b-4a23-bc16-1550ec1611f6",
   "metadata": {},
   "outputs": [
    {
     "data": {
      "application/vnd.jupyter.widget-view+json": {
       "model_id": "e92aa29685a44d26b61e2f447ee182ab",
       "version_major": 2,
       "version_minor": 0
      },
      "text/plain": [
       "  0%|          | 0/1320 [00:00<?, ?it/s]"
      ]
     },
     "metadata": {},
     "output_type": "display_data"
    }
   ],
   "source": [
    "image_model = keras.models.load_model('image.h5')\n",
    "prediction_image = []\n",
    "for val in tqdm(test_images):\n",
    "    try:\n",
    "        img = cv2.imread(val)\n",
    "        img = cv2.cvtColor(img, cv2.COLOR_BGR2RGB)\n",
    "        img = cv2.resize(img, (224,224))\n",
    "        prediction_image.append(image_model.predict(numpy.array([img]),verbose=False)[0])\n",
    "    except Exception:\n",
    "        prediction_image.append([0,0])"
   ]
  },
  {
   "cell_type": "code",
   "execution_count": 19,
   "id": "9997760d-765c-4833-bd06-1588ad5fe560",
   "metadata": {},
   "outputs": [],
   "source": [
    "prediction_image = numpy.array(prediction_image)\n",
    "model = keras.models.load_model('text.h5')"
   ]
  },
  {
   "cell_type": "code",
   "execution_count": 26,
   "id": "64c66945-ae1a-4684-9b32-ace3c5842398",
   "metadata": {},
   "outputs": [
    {
     "name": "stdout",
     "output_type": "stream",
     "text": [
      "42/42 [==============================] - 0s 5ms/step\n"
     ]
    }
   ],
   "source": [
    "prediction_text = model.predict(X)\n",
    "prediction = (prediction_image)*5/10 + (prediction_text)*5/10\n",
    "prediction = [numpy.argmax(val) for val in prediction]"
   ]
  },
  {
   "cell_type": "code",
   "execution_count": 28,
   "id": "bba090ad-08d1-4259-98a3-49fb3ca62ae1",
   "metadata": {},
   "outputs": [],
   "source": [
    "pandas.DataFrame({'id':test_data['image_id'], 'label':prediction}).to_csv('op5.csv', index=False)"
   ]
  },
  {
   "cell_type": "code",
   "execution_count": null,
   "id": "9896e0c1-b36d-4a43-a817-688db2ef8e86",
   "metadata": {},
   "outputs": [],
   "source": []
  }
 ],
 "metadata": {
  "kernelspec": {
   "display_name": "Python 3 (ipykernel)",
   "language": "python",
   "name": "python3"
  },
  "language_info": {
   "codemirror_mode": {
    "name": "ipython",
    "version": 3
   },
   "file_extension": ".py",
   "mimetype": "text/x-python",
   "name": "python",
   "nbconvert_exporter": "python",
   "pygments_lexer": "ipython3",
   "version": "3.10.9"
  }
 },
 "nbformat": 4,
 "nbformat_minor": 5
}
